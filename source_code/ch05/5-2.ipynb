{
 "cells": [
  {
   "cell_type": "code",
   "execution_count": 87,
   "id": "aa71fb36",
   "metadata": {},
   "outputs": [],
   "source": [
    "class BankAccount:\n",
    "    \n",
    "    bank_name = \"Mathison\"  # class attribute (類別屬性)\n",
    "    \n",
    "    def __init__(self, name, number=\"12345678\", balance=0):\n",
    "        self.name = name  # instance attribute (實例屬性)\n",
    "        self.number = number\n",
    "        self.__balance = balance\n",
    "        \n",
    "    def deposite(self, money):  # instance method (實例方法)\n",
    "        if money < 0:\n",
    "            print(\"金額不能是負數！\")\n",
    "            return None\n",
    "        self.__balance += money\n",
    "        \n",
    "    def withdraw(self, money):\n",
    "        if money < 0:\n",
    "            print(\"金額不能是負數！\")\n",
    "            return None\n",
    "        if money <= self.__balance:\n",
    "            self.__balance -= money\n",
    "        else:\n",
    "            print(\"餘額不足！\")\n",
    "        \n",
    "    def get_balance(self):\n",
    "        return self.__balance\n",
    "    \n",
    "    @classmethod\n",
    "    def get_bankname(cls):  # class mehtod (類別方法)\n",
    "        return cls.bank_name\n",
    "    \n",
    "    @staticmethod\n",
    "    def calculate_interest(balance, rate=0.05):\n",
    "        print(\"計算利息...\")\n",
    "        return balance * rate\n",
    "    \n",
    "    def show_accout(self):\n",
    "        print(\"Name\", self.name)\n",
    "        print(\"Balance\", self.__balance)\n",
    "        "
   ]
  },
  {
   "cell_type": "code",
   "execution_count": 88,
   "id": "95d83ce1",
   "metadata": {},
   "outputs": [
    {
     "name": "stdout",
     "output_type": "stream",
     "text": [
      "Name Steve\n",
      "Balance 500\n",
      "計算利息...\n"
     ]
    },
    {
     "data": {
      "text/plain": [
       "25.0"
      ]
     },
     "execution_count": 88,
     "metadata": {},
     "output_type": "execute_result"
    }
   ],
   "source": [
    "steve = BankAccount(\"Steve\", balance=500)\n",
    "steve.show_accout()\n",
    "steve.calculate_interest(500)"
   ]
  },
  {
   "cell_type": "code",
   "execution_count": 23,
   "id": "fe51f4da",
   "metadata": {},
   "outputs": [
    {
     "name": "stdout",
     "output_type": "stream",
     "text": [
      "Steve\n",
      "金額不能是負數！\n",
      "500\n",
      "1500\n",
      "餘額不足！\n",
      "1500\n",
      "945\n"
     ]
    }
   ],
   "source": [
    "steve = BankAccount(\"Steve\", balance=500)\n",
    "print(steve.name)\n",
    "# print(steve.__balance)\n",
    "steve.deposite(-1000)\n",
    "print(steve.get_balance())\n",
    "steve.deposite(1000)\n",
    "print(steve.get_balance())\n",
    "steve.withdraw(3000)\n",
    "print(steve.get_balance())\n",
    "steve.withdraw(555)\n",
    "print(steve.get_balance())"
   ]
  },
  {
   "cell_type": "code",
   "execution_count": 24,
   "id": "761677f6",
   "metadata": {},
   "outputs": [
    {
     "data": {
      "text/plain": [
       "'Mathison'"
      ]
     },
     "execution_count": 24,
     "metadata": {},
     "output_type": "execute_result"
    }
   ],
   "source": [
    "steve.bank_name"
   ]
  },
  {
   "cell_type": "code",
   "execution_count": 43,
   "id": "981da02a",
   "metadata": {},
   "outputs": [
    {
     "data": {
      "text/plain": [
       "'mathsion'"
      ]
     },
     "execution_count": 43,
     "metadata": {},
     "output_type": "execute_result"
    }
   ],
   "source": [
    "steve.get_bankname()"
   ]
  },
  {
   "cell_type": "code",
   "execution_count": 36,
   "id": "5ff52b45",
   "metadata": {},
   "outputs": [
    {
     "data": {
      "text/plain": [
       "'Mathison'"
      ]
     },
     "execution_count": 36,
     "metadata": {},
     "output_type": "execute_result"
    }
   ],
   "source": [
    "andy = BankAccount(\"Andy\", balance=5000)\n",
    "andy.bank_name"
   ]
  },
  {
   "cell_type": "code",
   "execution_count": 69,
   "id": "92900c51",
   "metadata": {},
   "outputs": [
    {
     "name": "stdout",
     "output_type": "stream",
     "text": [
      "mathsion\n",
      "mathsion\n",
      "Mathsion\n"
     ]
    }
   ],
   "source": [
    "andy = BankAccount(\"Andy\", balance=5000)\n",
    "print(andy.bank_name)\n",
    "BankAccount.bank_name = \"mathsion\"\n",
    "print(andy.bank_name)\n",
    "print(.bank_name)"
   ]
  },
  {
   "cell_type": "code",
   "execution_count": null,
   "id": "99e24849",
   "metadata": {},
   "outputs": [],
   "source": []
  },
  {
   "cell_type": "code",
   "execution_count": null,
   "id": "1f0beaa4",
   "metadata": {},
   "outputs": [],
   "source": []
  },
  {
   "cell_type": "code",
   "execution_count": 47,
   "id": "44166735",
   "metadata": {},
   "outputs": [
    {
     "name": "stdout",
     "output_type": "stream",
     "text": [
      "Class variable is: I am a class variable\n"
     ]
    },
    {
     "ename": "TypeError",
     "evalue": "MyClass.my_method() missing 1 required positional argument: 'cls'",
     "output_type": "error",
     "traceback": [
      "\u001b[0;31m---------------------------------------------------------------------------\u001b[0m",
      "\u001b[0;31mTypeError\u001b[0m                                 Traceback (most recent call last)",
      "Cell \u001b[0;32mIn[47], line 12\u001b[0m\n\u001b[1;32m      9\u001b[0m obj\u001b[38;5;241m.\u001b[39mmy_method()  \u001b[38;5;66;03m# Output: \"Class variable is: I am a class variable\"\u001b[39;00m\n\u001b[1;32m     11\u001b[0m \u001b[38;5;66;03m# 使用類來調用實例方法會產生TypeError\u001b[39;00m\n\u001b[0;32m---> 12\u001b[0m MyClass\u001b[38;5;241m.\u001b[39mmy_method()\n",
      "\u001b[0;31mTypeError\u001b[0m: MyClass.my_method() missing 1 required positional argument: 'cls'"
     ]
    }
   ],
   "source": [
    "class MyClass:\n",
    "    class_var = 'I am a class variable'\n",
    "\n",
    "    def my_method(cls):\n",
    "        print(f'Class variable is: {cls.class_var}')\n",
    "\n",
    "# 使用實例來調用實例方法\n",
    "obj = MyClass()\n",
    "obj.my_method()  # Output: \"Class variable is: I am a class variable\"\n",
    "\n",
    "# 使用類來調用實例方法會產生TypeError\n",
    "MyClass.my_method()  # TypeError\n"
   ]
  },
  {
   "cell_type": "code",
   "execution_count": null,
   "id": "61e24ff1",
   "metadata": {},
   "outputs": [],
   "source": []
  },
  {
   "cell_type": "code",
   "execution_count": null,
   "id": "f862adcb",
   "metadata": {},
   "outputs": [],
   "source": []
  },
  {
   "cell_type": "code",
   "execution_count": 21,
   "id": "d034055d",
   "metadata": {},
   "outputs": [
    {
     "name": "stdout",
     "output_type": "stream",
     "text": [
      "Andy\n"
     ]
    },
    {
     "ename": "AttributeError",
     "evalue": "'BankAccount' object has no attribute 'balance'",
     "output_type": "error",
     "traceback": [
      "\u001b[0;31m---------------------------------------------------------------------------\u001b[0m",
      "\u001b[0;31mAttributeError\u001b[0m                            Traceback (most recent call last)",
      "Cell \u001b[0;32mIn[21], line 4\u001b[0m\n\u001b[1;32m      2\u001b[0m \u001b[38;5;28mprint\u001b[39m(andy\u001b[38;5;241m.\u001b[39mname)\n\u001b[1;32m      3\u001b[0m \u001b[38;5;66;03m# print(andy.number)\u001b[39;00m\n\u001b[0;32m----> 4\u001b[0m \u001b[38;5;28mprint\u001b[39m(andy\u001b[38;5;241m.\u001b[39mbalance)\n\u001b[1;32m      5\u001b[0m \u001b[38;5;28mprint\u001b[39m(steve\u001b[38;5;241m.\u001b[39mname)\n\u001b[1;32m      6\u001b[0m \u001b[38;5;28mprint\u001b[39m(steve\u001b[38;5;241m.\u001b[39mbalance)\n",
      "\u001b[0;31mAttributeError\u001b[0m: 'BankAccount' object has no attribute 'balance'"
     ]
    }
   ],
   "source": [
    "andy = BankAccount(\"Andy\", balance=1000)\n",
    "print(andy.name)\n",
    "# print(andy.number)\n",
    "print(andy.balance)\n",
    "print(steve.name)\n",
    "print(steve.balance)"
   ]
  },
  {
   "cell_type": "code",
   "execution_count": null,
   "id": "93e48f91",
   "metadata": {},
   "outputs": [],
   "source": [
    "print(steve.name)\n",
    "print(steve.balance)"
   ]
  },
  {
   "cell_type": "code",
   "execution_count": null,
   "id": "7534d257",
   "metadata": {},
   "outputs": [],
   "source": [
    "steve.deposite(100)"
   ]
  },
  {
   "cell_type": "code",
   "execution_count": null,
   "id": "dcce08d2",
   "metadata": {},
   "outputs": [],
   "source": [
    "steve.balance"
   ]
  },
  {
   "cell_type": "code",
   "execution_count": null,
   "id": "19c10559",
   "metadata": {},
   "outputs": [],
   "source": []
  },
  {
   "cell_type": "code",
   "execution_count": null,
   "id": "0acff48e",
   "metadata": {},
   "outputs": [],
   "source": []
  },
  {
   "cell_type": "code",
   "execution_count": 70,
   "id": "86981f35",
   "metadata": {},
   "outputs": [
    {
     "name": "stdout",
     "output_type": "stream",
     "text": [
      "I am a class attribute\n",
      "I am a class attribute\n",
      "I am a modified class attribute\n",
      "I am a modified class attribute\n",
      "I am an instance attribute\n",
      "I am a modified class attribute\n"
     ]
    }
   ],
   "source": [
    "class MyClass:\n",
    "    class_attribute = \"I am a class attribute\"\n",
    "\n",
    "# 創建兩個不同的實例\n",
    "instance1 = MyClass()\n",
    "instance2 = MyClass()\n",
    "\n",
    "# 通過實例訪問類別屬性\n",
    "print(instance1.class_attribute)  # 輸出 \"I am a class attribute\"\n",
    "print(instance2.class_attribute)  # 輸出 \"I am a class attribute\"\n",
    "\n",
    "# 修改類別屬性\n",
    "MyClass.class_attribute = \"I am a modified class attribute\"\n",
    "\n",
    "# 再次通過實例訪問類別屬性\n",
    "print(instance1.class_attribute)  # 輸出 \"I am a modified class attribute\"\n",
    "print(instance2.class_attribute)  # 輸出 \"I am a modified class attribute\"\n",
    "\n",
    "# 為一個實例添加實例屬性，同名遮蔽類別屬性\n",
    "instance1.class_attribute = \"I am an instance attribute\"\n",
    "\n",
    "# 再次通過實例訪問類別屬性\n",
    "print(instance1.class_attribute)  # 輸出 \"I am an instance attribute\"\n",
    "print(instance2.class_attribute)  # 輸出 \"I am a modified class attribute\"\n"
   ]
  },
  {
   "cell_type": "code",
   "execution_count": null,
   "id": "6dcda012",
   "metadata": {},
   "outputs": [],
   "source": []
  },
  {
   "cell_type": "code",
   "execution_count": null,
   "id": "3ed920a6",
   "metadata": {},
   "outputs": [],
   "source": []
  },
  {
   "cell_type": "code",
   "execution_count": 71,
   "id": "2dcb63ee",
   "metadata": {},
   "outputs": [
    {
     "name": "stdout",
     "output_type": "stream",
     "text": [
      "計算利息（靜態方法）：50.0\n",
      "帳戶持有人：Alice\n",
      "目前餘額：1000\n",
      "預計利息：50.0\n",
      "帳戶持有人：Bob\n",
      "目前餘額：2000\n",
      "預計利息：100.0\n",
      "計算利息（透過實例）：50.0\n"
     ]
    }
   ],
   "source": [
    "class BankAccount:\n",
    "    # 類別屬性：存放銀行的名稱\n",
    "    bank_name = \"Awesome Bank\"\n",
    "\n",
    "    def __init__(self, account_holder, balance=0):\n",
    "        self.account_holder = account_holder\n",
    "        self.balance = balance\n",
    "\n",
    "    # 實例方法：存款\n",
    "    def deposit(self, amount):\n",
    "        self.balance += amount\n",
    "        return self.balance\n",
    "\n",
    "    # 實例方法：提款\n",
    "    def withdraw(self, amount):\n",
    "        if self.balance >= amount:\n",
    "            self.balance -= amount\n",
    "            return self.balance\n",
    "        else:\n",
    "            print(\"餘額不足\")\n",
    "            return None\n",
    "\n",
    "    # 靜態方法：計算利息\n",
    "    @staticmethod\n",
    "    def calculate_interest(balance, rate=0.05):\n",
    "        return balance * rate\n",
    "\n",
    "    # 顯示帳戶資訊\n",
    "    def show_account_info(self):\n",
    "        print(f\"帳戶持有人：{self.account_holder}\")\n",
    "        print(f\"目前餘額：{self.balance}\")\n",
    "        print(f\"預計利息：{self.calculate_interest(self.balance)}\")\n",
    "\n",
    "# 使用靜態方法計算利息，不需要創建實例\n",
    "print(f\"計算利息（靜態方法）：{BankAccount.calculate_interest(1000)}\")\n",
    "\n",
    "# 創建帳戶實例\n",
    "account1 = BankAccount(\"Alice\", 1000)\n",
    "account2 = BankAccount(\"Bob\", 2000)\n",
    "\n",
    "# 使用實例方法和靜態方法\n",
    "account1.show_account_info()\n",
    "account2.show_account_info()\n",
    "\n",
    "# 雖然 `calculate_interest` 是靜態方法，但也可以透過實例來調用（不推薦）\n",
    "print(f\"計算利息（透過實例）：{account1.calculate_interest(1000)}\")\n",
    "print(f\"計算利息（透過實例）：{account1.calculate_interest(1000)}\")\n"
   ]
  },
  {
   "cell_type": "code",
   "execution_count": null,
   "id": "f77ca452",
   "metadata": {},
   "outputs": [],
   "source": []
  },
  {
   "cell_type": "code",
   "execution_count": null,
   "id": "20215ec5",
   "metadata": {},
   "outputs": [],
   "source": []
  },
  {
   "cell_type": "code",
   "execution_count": null,
   "id": "77b8b1ee",
   "metadata": {},
   "outputs": [],
   "source": []
  }
 ],
 "metadata": {
  "kernelspec": {
   "display_name": "Python 3 (ipykernel)",
   "language": "python",
   "name": "python3"
  },
  "language_info": {
   "codemirror_mode": {
    "name": "ipython",
    "version": 3
   },
   "file_extension": ".py",
   "mimetype": "text/x-python",
   "name": "python",
   "nbconvert_exporter": "python",
   "pygments_lexer": "ipython3",
   "version": "3.11.4"
  }
 },
 "nbformat": 4,
 "nbformat_minor": 5
}
