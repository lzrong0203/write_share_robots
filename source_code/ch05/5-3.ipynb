{
 "cells": [
  {
   "cell_type": "code",
   "execution_count": 34,
   "id": "0dbcda24",
   "metadata": {},
   "outputs": [],
   "source": [
    "class Stock:\n",
    "\n",
    "    market = \"^TWII\"\n",
    "\n",
    "    def __init__(self, ticker, name, price):\n",
    "        self.ticker = ticker\n",
    "        self.name = name\n",
    "        self.price = price\n",
    "        self.history_price = []\n",
    "\n",
    "    def get_moving_average(self, days=5):\n",
    "        if days > len(self.history_price) or days <= 0:\n",
    "            return None\n",
    "        moving_average = []\n",
    "        for i in range(len(self.history_price) - days + 1):\n",
    "            result = sum(self.history_price[i:i + days]) / days\n",
    "            moving_average.append(result)\n",
    "        return moving_average\n",
    "    \n",
    "    @classmethod\n",
    "    def get_market(cls):\n",
    "        return cls.market\n",
    "    \n",
    "    @staticmethod\n",
    "    def price_change(new_price, old_price):\n",
    "        return ((new_price - old_price) / old_price) * 100\n",
    "    \n",
    "    def update_price(self, new_price):\n",
    "        self.history_price.append(self.price)\n",
    "        self.price = new_price\n",
    "        \n",
    "    def __str__(self):\n",
    "        return f\"Ticker: {self.ticker}, Name: {self.name}, Current price: {self.price}\"\n",
    "        \n",
    "    def __len__(self):\n",
    "        return len(self.history_price)\n",
    "    \n",
    "    def __iter__(self):\n",
    "        self._index = 0\n",
    "        return self\n",
    "    \n",
    "    def __next__(self):\n",
    "        if self._index >= len(self):\n",
    "            raise StopIteration\n",
    "        result = self.history_price[self._index]\n",
    "        self._index += 1\n",
    "        return result\n",
    "    "
   ]
  },
  {
   "cell_type": "code",
   "execution_count": 37,
   "id": "6dfa8ee5",
   "metadata": {},
   "outputs": [
    {
     "name": "stdout",
     "output_type": "stream",
     "text": [
      "Ticker: TSMC, Name: 台積電, Current price: 550\n",
      "0\n",
      "Ticker: TSMC, Name: 台積電, Current price: 555\n",
      "1\n",
      "Ticker: TSMC, Name: 台積電, Current price: 555\n",
      "[555.0, 560.0, 561.6666666666666]\n"
     ]
    }
   ],
   "source": [
    "tsmc = Stock(\"TSMC\", \"台積電\", 550)\n",
    "print(tsmc)\n",
    "print(len(tsmc))\n",
    "tsmc.update_price(555)\n",
    "print(tsmc)\n",
    "print(len(tsmc))\n",
    "tsmc.update_price(560)\n",
    "tsmc.update_price(565)\n",
    "tsmc.update_price(560)\n",
    "tsmc.update_price(555)\n",
    "print(tsmc)\n",
    "print(tsmc.get_moving_average(days=3))"
   ]
  },
  {
   "cell_type": "code",
   "execution_count": 38,
   "id": "aca3adda",
   "metadata": {},
   "outputs": [
    {
     "name": "stdout",
     "output_type": "stream",
     "text": [
      "550\n",
      "555\n",
      "560\n",
      "565\n",
      "560\n"
     ]
    }
   ],
   "source": [
    "for i in tsmc:\n",
    "    print(i)"
   ]
  },
  {
   "cell_type": "code",
   "execution_count": 39,
   "id": "a02a7f4e",
   "metadata": {},
   "outputs": [
    {
     "data": {
      "text/plain": [
       "[550, 555, 560, 565, 560]"
      ]
     },
     "execution_count": 39,
     "metadata": {},
     "output_type": "execute_result"
    }
   ],
   "source": [
    "tsmc.history_price"
   ]
  },
  {
   "cell_type": "code",
   "execution_count": 41,
   "id": "5afe808d",
   "metadata": {},
   "outputs": [
    {
     "data": {
      "text/plain": [
       "False"
      ]
     },
     "execution_count": 41,
     "metadata": {},
     "output_type": "execute_result"
    }
   ],
   "source": [
    "600 in tsmc"
   ]
  },
  {
   "cell_type": "code",
   "execution_count": null,
   "id": "5a1c298b",
   "metadata": {},
   "outputs": [],
   "source": []
  },
  {
   "cell_type": "code",
   "execution_count": null,
   "id": "254e2877",
   "metadata": {},
   "outputs": [],
   "source": []
  },
  {
   "cell_type": "code",
   "execution_count": null,
   "id": "48ab00a4",
   "metadata": {},
   "outputs": [],
   "source": []
  },
  {
   "cell_type": "code",
   "execution_count": null,
   "id": "07f64deb",
   "metadata": {},
   "outputs": [],
   "source": []
  },
  {
   "cell_type": "code",
   "execution_count": null,
   "id": "d94b725a",
   "metadata": {},
   "outputs": [],
   "source": []
  },
  {
   "cell_type": "code",
   "execution_count": null,
   "id": "3114244e",
   "metadata": {},
   "outputs": [],
   "source": []
  },
  {
   "cell_type": "code",
   "execution_count": 20,
   "id": "373eccf8",
   "metadata": {},
   "outputs": [
    {
     "data": {
      "text/plain": [
       "[558.0, 559.0, 560.0, 561.0, 560.0]"
      ]
     },
     "execution_count": 20,
     "metadata": {},
     "output_type": "execute_result"
    }
   ],
   "source": [
    "tsmc.get_moving_average()"
   ]
  },
  {
   "cell_type": "code",
   "execution_count": null,
   "id": "44109cad",
   "metadata": {},
   "outputs": [],
   "source": []
  },
  {
   "cell_type": "code",
   "execution_count": null,
   "id": "a3001070",
   "metadata": {},
   "outputs": [],
   "source": []
  },
  {
   "cell_type": "code",
   "execution_count": 21,
   "id": "71b5d4e8",
   "metadata": {},
   "outputs": [
    {
     "ename": "TypeError",
     "evalue": "'Stock' object is not iterable",
     "output_type": "error",
     "traceback": [
      "\u001b[0;31m---------------------------------------------------------------------------\u001b[0m",
      "\u001b[0;31mTypeError\u001b[0m                                 Traceback (most recent call last)",
      "Cell \u001b[0;32mIn[21], line 1\u001b[0m\n\u001b[0;32m----> 1\u001b[0m \u001b[38;5;28;01mfor\u001b[39;00m i \u001b[38;5;129;01min\u001b[39;00m tsmc:\n\u001b[1;32m      2\u001b[0m     \u001b[38;5;28mprint\u001b[39m(i)\n",
      "\u001b[0;31mTypeError\u001b[0m: 'Stock' object is not iterable"
     ]
    }
   ],
   "source": [
    "for i in tsmc:\n",
    "    print(i)"
   ]
  },
  {
   "cell_type": "code",
   "execution_count": 23,
   "id": "376420ff",
   "metadata": {},
   "outputs": [],
   "source": [
    "class Stock:\n",
    "\n",
    "    market = \"^TWII\"\n",
    "\n",
    "    def __init__(self, ticker, name, price):\n",
    "        self.ticker = ticker\n",
    "        self.name = name\n",
    "        self.price = price\n",
    "        self.history_price = []\n",
    "\n",
    "    def get_moving_average(self, days=5):\n",
    "        if days > len(self.history_price) or days <= 0:\n",
    "            return None\n",
    "        moving_average = []\n",
    "        for i in range(len(self.history_price) - days + 1):\n",
    "            result = sum(self.history_price[i:i + days]) / days\n",
    "            moving_average.append(result)\n",
    "        return moving_average\n",
    "    \n",
    "    @classmethod\n",
    "    def get_market(cls):\n",
    "        return cls.market\n",
    "    \n",
    "    @staticmethod\n",
    "    def price_change(new_price, old_price):\n",
    "        return ((new_price - old_price) / old_price) * 100\n",
    "    \n",
    "    def update_price(self, new_price):\n",
    "        self.history_price.append(self.price)\n",
    "        self.price = new_price\n",
    "        \n",
    "    def __str__(self):\n",
    "        return f\"Ticker: {self.ticker}, Name: {self.name}, Current price: {self.price}\"\n",
    "        \n",
    "    def __len__(self):\n",
    "        return len(self.history_price)\n",
    "    \n",
    "    def __iter__(self):\n",
    "        self._index = 0\n",
    "        return self\n",
    "    \n",
    "    def __next__(self):\n",
    "        if self._index >= len(self.history_price):\n",
    "            raise StopIteration\n",
    "        result = self.history_price[self._index]\n",
    "        self._index += 1\n",
    "        return result"
   ]
  },
  {
   "cell_type": "code",
   "execution_count": 24,
   "id": "a9610d6a",
   "metadata": {},
   "outputs": [
    {
     "name": "stdout",
     "output_type": "stream",
     "text": [
      "Ticker: TSMC, Name: 台積電, Current price: 550\n",
      "0\n",
      "Ticker: TSMC, Name: 台積電, Current price: 555\n",
      "1\n"
     ]
    }
   ],
   "source": [
    "tsmc = Stock(\"TSMC\", \"台積電\", 550)\n",
    "print(tsmc)\n",
    "print(len(tsmc))\n",
    "tsmc.update_price(555)\n",
    "print(tsmc)\n",
    "print(len(tsmc))\n",
    "tsmc.get_moving_average()"
   ]
  },
  {
   "cell_type": "code",
   "execution_count": 26,
   "id": "427d3a30",
   "metadata": {},
   "outputs": [
    {
     "name": "stdout",
     "output_type": "stream",
     "text": [
      "550\n"
     ]
    }
   ],
   "source": [
    "for i in tsmc:\n",
    "    print(i)"
   ]
  },
  {
   "cell_type": "code",
   "execution_count": null,
   "id": "e2f7d210",
   "metadata": {},
   "outputs": [],
   "source": []
  },
  {
   "cell_type": "code",
   "execution_count": null,
   "id": "e1f3f144",
   "metadata": {},
   "outputs": [],
   "source": []
  },
  {
   "cell_type": "code",
   "execution_count": null,
   "id": "b51315fe",
   "metadata": {},
   "outputs": [],
   "source": []
  },
  {
   "cell_type": "code",
   "execution_count": null,
   "id": "43030b06",
   "metadata": {},
   "outputs": [],
   "source": []
  },
  {
   "cell_type": "code",
   "execution_count": null,
   "id": "28d1e1f1",
   "metadata": {},
   "outputs": [],
   "source": []
  },
  {
   "cell_type": "code",
   "execution_count": null,
   "id": "a0933a05",
   "metadata": {},
   "outputs": [],
   "source": []
  },
  {
   "cell_type": "code",
   "execution_count": null,
   "id": "49aec4b7",
   "metadata": {},
   "outputs": [],
   "source": []
  }
 ],
 "metadata": {
  "kernelspec": {
   "display_name": "Python 3 (ipykernel)",
   "language": "python",
   "name": "python3"
  },
  "language_info": {
   "codemirror_mode": {
    "name": "ipython",
    "version": 3
   },
   "file_extension": ".py",
   "mimetype": "text/x-python",
   "name": "python",
   "nbconvert_exporter": "python",
   "pygments_lexer": "ipython3",
   "version": "3.11.4"
  }
 },
 "nbformat": 4,
 "nbformat_minor": 5
}
