{
 "cells": [
  {
   "cell_type": "markdown",
   "id": "ffdfa78c",
   "metadata": {},
   "source": [
    "## Python 正規表示式（Regular Expression）規則表\n",
    "\n",
    "| 符號       | 描述                                | 例子       | 匹配範例        |\n",
    "|------------|-------------------------------------|------------|-----------------|\n",
    "| `.`        | 匹配任何字符（換行除外）             | `a.c`      | 'abc', 'a9c'    |\n",
    "| `^`        | 匹配字符串開頭                      | `^abc`     | 'abc'           |\n",
    "| `$`        | 匹配字符串結尾                      | `abc$`     | 'abc'           |\n",
    "| `*`        | 匹配前一個字符 0 次或多次           | `ab*c`     | 'ac', 'abc'     |\n",
    "| `+`        | 匹配前一個字符 1 次或多次           | `ab+c`     | 'abc', 'abbc'   |\n",
    "| `?`        | 匹配前一個字符 0 次或 1 次          | `ab?c`     | 'ac', 'abc'     |\n",
    "| `{m}`      | 匹配前一個字符剛好 m 次             | `a{2}b`    | 'aab'           |\n",
    "| `{m,}`     | 匹配前一個字符至少 m 次             | `a{2,}b`   | 'aab', 'aaab'   |\n",
    "| `{m,n}`    | 匹配前一個字符 m 到 n 次            | `a{2,3}b`  | 'aab', 'aaab'   |\n",
    "| `\\`       | 轉義特殊字符                        | `a\\.c`    | 'a.c'           |\n",
    "| `[abc]`    | 匹配方括號內任一字符                | `a[bc]d`   | 'abd', 'acd'    |\n",
    "| `[^abc]`   | 匹配方括號內以外的任一字符          | `a[^bc]d`  | 'aad', 'aed'    |\n",
    "| `a\\|b`      | 匹配 a 或 b                         | `a\\|b`      | 'a', 'b'        |\n",
    "| `(abc)`    | 匹配括號內的表達式                  | `a(abc)d`  | 'aabcd'         |\n",
    "| `(a\\|b)c`   | 匹配 a 或 b，後接 c                 | `(a\\|b)c`   | 'ac', 'bc'      |\n",
    "\n",
    "### 特殊序列\n",
    "\n",
    "| 符號       | 描述                    | 例子        | 匹配範例     |\n",
    "|------------|-------------------------|-------------|--------------|\n",
    "| `\\d`       | 匹配任何數字            | `\\d\\d`      | '12'         |\n",
    "| `\\D`       | 匹配任何非數字          | `\\D\\D`      | 'ab'         |\n",
    "| `\\s`       | 匹配任何空白字符        | `a\\sb`      | 'a b'        |\n",
    "| `\\S`       | 匹配任何非空白字符      | `a\\Sb`      | 'aab'        |\n",
    "| `\\w`       | 匹配任何字母數字字符    | `\\w\\w`      | 'a1'         |\n",
    "| `\\W`       | 匹配任何非字母數字字符  | `\\W\\W`      | '@!'         |\n",
    "\n"
   ]
  },
  {
   "cell_type": "code",
   "execution_count": 1,
   "id": "e8657c6e",
   "metadata": {},
   "outputs": [],
   "source": [
    "import re"
   ]
  },
  {
   "cell_type": "code",
   "execution_count": 2,
   "id": "0d46bb76",
   "metadata": {},
   "outputs": [],
   "source": []
  },
  {
   "cell_type": "code",
   "execution_count": 17,
   "id": "a59216d0",
   "metadata": {},
   "outputs": [
    {
     "data": {
      "text/plain": [
       "'123'"
      ]
     },
     "execution_count": 17,
     "metadata": {},
     "output_type": "execute_result"
    }
   ],
   "source": [
    "pattern = re.compile(r\"a?\\d+\\+?\")\n",
    "str1 = \"123 a4567 4567+\"\n",
    "result = pattern.search(str1)\n",
    "result.group()"
   ]
  },
  {
   "cell_type": "code",
   "execution_count": 14,
   "id": "c1bc2d20",
   "metadata": {},
   "outputs": [
    {
     "data": {
      "text/plain": [
       "'4567+'"
      ]
     },
     "execution_count": 14,
     "metadata": {},
     "output_type": "execute_result"
    }
   ],
   "source": [
    "result2 = re.search(pattern, str1)\n",
    "result2.group()"
   ]
  },
  {
   "cell_type": "code",
   "execution_count": 125,
   "id": "f02100fd",
   "metadata": {},
   "outputs": [
    {
     "data": {
      "text/plain": [
       "'123 4567'"
      ]
     },
     "execution_count": 125,
     "metadata": {},
     "output_type": "execute_result"
    }
   ],
   "source": [
    "pattern = re.compile(r\"(\\d+) (\\d+)\")\n",
    "str1 = \"123 4567 789\"\n",
    "result = pattern.search(str1)\n",
    "result.group()"
   ]
  },
  {
   "cell_type": "code",
   "execution_count": 129,
   "id": "c05e6e11",
   "metadata": {},
   "outputs": [
    {
     "data": {
      "text/plain": [
       "'123 4567'"
      ]
     },
     "execution_count": 129,
     "metadata": {},
     "output_type": "execute_result"
    }
   ],
   "source": [
    "result.group(0)"
   ]
  },
  {
   "cell_type": "code",
   "execution_count": 127,
   "id": "a3881dec",
   "metadata": {},
   "outputs": [
    {
     "data": {
      "text/plain": [
       "'123'"
      ]
     },
     "execution_count": 127,
     "metadata": {},
     "output_type": "execute_result"
    }
   ],
   "source": [
    "result.group(1)"
   ]
  },
  {
   "cell_type": "code",
   "execution_count": 128,
   "id": "b4be14d2",
   "metadata": {},
   "outputs": [
    {
     "data": {
      "text/plain": [
       "'4567'"
      ]
     },
     "execution_count": 128,
     "metadata": {},
     "output_type": "execute_result"
    }
   ],
   "source": [
    "result.group(2)"
   ]
  },
  {
   "cell_type": "code",
   "execution_count": 34,
   "id": "35d0bc40",
   "metadata": {},
   "outputs": [
    {
     "data": {
      "text/plain": [
       "'123 4567'"
      ]
     },
     "execution_count": 34,
     "metadata": {},
     "output_type": "execute_result"
    }
   ],
   "source": [
    "pattern = re.compile(r\"(\\d+) (\\d+)\")\n",
    "str1 = \"123 4567 789\"\n",
    "re.match(pattern, str1).group()"
   ]
  },
  {
   "cell_type": "code",
   "execution_count": 37,
   "id": "5adab046",
   "metadata": {},
   "outputs": [
    {
     "name": "stdout",
     "output_type": "stream",
     "text": [
      "None\n",
      "\n"
     ]
    }
   ],
   "source": [
    "pattern = re.compile(r\"(\\d{4}) (\\d+)\")\n",
    "str1 = \"123 4567 789\"\n",
    "result = re.match(pattern, str1)\n",
    "print(result)\n",
    "print()"
   ]
  },
  {
   "cell_type": "code",
   "execution_count": 64,
   "id": "4a265040",
   "metadata": {},
   "outputs": [
    {
     "name": "stdout",
     "output_type": "stream",
     "text": [
      "1\n",
      "['123 4', '567 7', '89 4']\n"
     ]
    }
   ],
   "source": [
    "pattern_g = re.compile(r\"\\d+ \\d+\")\n",
    "str1 = \"123 4567 789 45\"\n",
    "result = re.findall(pattern, str1)\n",
    "print(result[0][0])\n",
    "print(result)"
   ]
  },
  {
   "cell_type": "code",
   "execution_count": 69,
   "id": "43bb2762",
   "metadata": {},
   "outputs": [
    {
     "name": "stdout",
     "output_type": "stream",
     "text": [
      "123\n",
      "[('123', '4'), ('567', '7'), ('89', '4')]\n"
     ]
    }
   ],
   "source": [
    "pattern = re.compile(r\"(\\d+?) (\\d+?)\")\n",
    "str1 = \"123 4567 789 45\"\n",
    "result = re.findall(pattern, str1)\n",
    "print(result[0][0])\n",
    "print(result)"
   ]
  },
  {
   "cell_type": "code",
   "execution_count": 4,
   "id": "55340654",
   "metadata": {},
   "outputs": [],
   "source": [
    "import re"
   ]
  },
  {
   "cell_type": "code",
   "execution_count": 1,
   "id": "538196b4",
   "metadata": {},
   "outputs": [],
   "source": [
    "str2 = \"Hello, My name is Steve. I am a programmer.\""
   ]
  },
  {
   "cell_type": "code",
   "execution_count": 2,
   "id": "885259cc",
   "metadata": {},
   "outputs": [
    {
     "data": {
      "text/plain": [
       "['Hello,', 'My', 'name', 'is', 'Steve.', 'I', 'am', 'a', 'programmer.']"
      ]
     },
     "execution_count": 2,
     "metadata": {},
     "output_type": "execute_result"
    }
   ],
   "source": [
    "str2.split()"
   ]
  },
  {
   "cell_type": "code",
   "execution_count": 36,
   "id": "d02a175b",
   "metadata": {},
   "outputs": [
    {
     "data": {
      "text/plain": [
       "['Hello', 'My', 'name', 'is', 'Steve', 'I', 'am', 'a', 'programmer', '']"
      ]
     },
     "execution_count": 36,
     "metadata": {},
     "output_type": "execute_result"
    }
   ],
   "source": [
    "str2 = \"Hello, My name is Steve. I am a programmer.\"\n",
    "re.split(r\"[.,\\s]+\", str2)"
   ]
  },
  {
   "cell_type": "code",
   "execution_count": 35,
   "id": "d2227ab3",
   "metadata": {},
   "outputs": [
    {
     "data": {
      "text/plain": [
       "['Hello', 'My', 'name', 'is', 'Steve', 'I', 'am', 'a', 'programmer']"
      ]
     },
     "execution_count": 35,
     "metadata": {},
     "output_type": "execute_result"
    }
   ],
   "source": [
    "re.findall(r\"[^.,\\s]+\", str2)"
   ]
  },
  {
   "cell_type": "code",
   "execution_count": 24,
   "id": "49797da4",
   "metadata": {},
   "outputs": [
    {
     "data": {
      "text/plain": [
       "['', 'H', 'ello, My name is Steve. I am a programmer']"
      ]
     },
     "execution_count": 24,
     "metadata": {},
     "output_type": "execute_result"
    }
   ],
   "source": [
    "str2 = \"Hello, My name is Steve. I am a programmer\"\n",
    "re.split(r\"([A-H])\", str2)"
   ]
  },
  {
   "cell_type": "code",
   "execution_count": null,
   "id": "d300112a",
   "metadata": {},
   "outputs": [],
   "source": []
  },
  {
   "cell_type": "code",
   "execution_count": 102,
   "id": "cb7e0901",
   "metadata": {},
   "outputs": [
    {
     "data": {
      "text/plain": [
       "['NT$ 120.15']"
      ]
     },
     "execution_count": 102,
     "metadata": {},
     "output_type": "execute_result"
    }
   ],
   "source": [
    "text = \"The stock code for Apple is AAPL and price is NT$ 120.15, and for Microsoft is MSFT.\"\n",
    "re.findall(r\"NT\\$ \\d+\\.?\\d*\", text)"
   ]
  },
  {
   "cell_type": "code",
   "execution_count": 106,
   "id": "413ceded",
   "metadata": {},
   "outputs": [
    {
     "data": {
      "text/plain": [
       "['2023-08-31', '2023-9-1']"
      ]
     },
     "execution_count": 106,
     "metadata": {},
     "output_type": "execute_result"
    }
   ],
   "source": [
    "text1 = \"Today is 2023-08-31. And tomorrow is 2023-9-1\"\n",
    "re.findall(r\"\\d{4}-\\d{1,2}-\\d{1,2}\", text1)"
   ]
  },
  {
   "cell_type": "code",
   "execution_count": null,
   "id": "7b397930",
   "metadata": {},
   "outputs": [],
   "source": []
  },
  {
   "cell_type": "code",
   "execution_count": 108,
   "id": "c66c98dd",
   "metadata": {},
   "outputs": [
    {
     "data": {
      "text/plain": [
       "97"
      ]
     },
     "execution_count": 108,
     "metadata": {},
     "output_type": "execute_result"
    }
   ],
   "source": [
    "ord('a')  # ASCII code"
   ]
  },
  {
   "cell_type": "code",
   "execution_count": 109,
   "id": "0a223ae9",
   "metadata": {},
   "outputs": [
    {
     "data": {
      "text/plain": [
       "21704"
      ]
     },
     "execution_count": 109,
     "metadata": {},
     "output_type": "execute_result"
    }
   ],
   "source": [
    "ord(\"哈\")"
   ]
  },
  {
   "cell_type": "code",
   "execution_count": 110,
   "id": "792bf758",
   "metadata": {},
   "outputs": [
    {
     "data": {
      "text/plain": [
       "'哈'"
      ]
     },
     "execution_count": 110,
     "metadata": {},
     "output_type": "execute_result"
    }
   ],
   "source": [
    "chr(21704)"
   ]
  },
  {
   "cell_type": "code",
   "execution_count": 114,
   "id": "e99ec01a",
   "metadata": {},
   "outputs": [
    {
     "data": {
      "text/plain": [
       "128514"
      ]
     },
     "execution_count": 114,
     "metadata": {},
     "output_type": "execute_result"
    }
   ],
   "source": [
    "ord(\"😂\")"
   ]
  },
  {
   "cell_type": "code",
   "execution_count": 115,
   "id": "c8ab96a7",
   "metadata": {},
   "outputs": [
    {
     "data": {
      "text/plain": [
       "'😂'"
      ]
     },
     "execution_count": 115,
     "metadata": {},
     "output_type": "execute_result"
    }
   ],
   "source": [
    "chr(128514)"
   ]
  },
  {
   "cell_type": "code",
   "execution_count": 119,
   "id": "dbe9be4e",
   "metadata": {},
   "outputs": [
    {
     "data": {
      "text/plain": [
       "['你好，我叫做']"
      ]
     },
     "execution_count": 119,
     "metadata": {},
     "output_type": "execute_result"
    }
   ],
   "source": [
    "str1 = \"你好，我叫做Steve\"\n",
    "re.findall(r\"[\\u4e00-\\u9fa5，。]+\", str1)"
   ]
  },
  {
   "cell_type": "code",
   "execution_count": 122,
   "id": "8c82f16e",
   "metadata": {},
   "outputs": [
    {
     "data": {
      "text/plain": [
       "'龥'"
      ]
     },
     "execution_count": 122,
     "metadata": {},
     "output_type": "execute_result"
    }
   ],
   "source": [
    "chr(int(\"9fa5\", 16))"
   ]
  },
  {
   "cell_type": "code",
   "execution_count": null,
   "id": "61a3b2e8",
   "metadata": {},
   "outputs": [],
   "source": []
  },
  {
   "cell_type": "code",
   "execution_count": null,
   "id": "690126a0",
   "metadata": {},
   "outputs": [],
   "source": []
  },
  {
   "cell_type": "code",
   "execution_count": null,
   "id": "897a4e9c",
   "metadata": {},
   "outputs": [],
   "source": []
  },
  {
   "cell_type": "code",
   "execution_count": null,
   "id": "658a9586",
   "metadata": {},
   "outputs": [],
   "source": []
  },
  {
   "cell_type": "code",
   "execution_count": null,
   "id": "3265a355",
   "metadata": {},
   "outputs": [],
   "source": []
  },
  {
   "cell_type": "code",
   "execution_count": null,
   "id": "609c88e4",
   "metadata": {},
   "outputs": [],
   "source": []
  },
  {
   "cell_type": "code",
   "execution_count": null,
   "id": "a441f499",
   "metadata": {},
   "outputs": [],
   "source": []
  }
 ],
 "metadata": {
  "kernelspec": {
   "display_name": "Python 3 (ipykernel)",
   "language": "python",
   "name": "python3"
  },
  "language_info": {
   "codemirror_mode": {
    "name": "ipython",
    "version": 3
   },
   "file_extension": ".py",
   "mimetype": "text/x-python",
   "name": "python",
   "nbconvert_exporter": "python",
   "pygments_lexer": "ipython3",
   "version": "3.11.4"
  }
 },
 "nbformat": 4,
 "nbformat_minor": 5
}
