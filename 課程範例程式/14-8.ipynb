{
 "cells": [
  {
   "cell_type": "code",
   "execution_count": 1,
   "id": "596c6462",
   "metadata": {},
   "outputs": [],
   "source": [
    "import numpy as np\n",
    "import numpy.random as nr"
   ]
  },
  {
   "cell_type": "code",
   "execution_count": 5,
   "id": "71b8e516",
   "metadata": {},
   "outputs": [],
   "source": [
    "nr.seed(0)\n",
    "array1 = nr.randint(10, size=(2, 3))"
   ]
  },
  {
   "cell_type": "code",
   "execution_count": 6,
   "id": "017a4f07",
   "metadata": {},
   "outputs": [
    {
     "name": "stdout",
     "output_type": "stream",
     "text": [
      "[[5 0 3]\n",
      " [3 7 9]]\n"
     ]
    }
   ],
   "source": [
    "print(array1)"
   ]
  },
  {
   "cell_type": "code",
   "execution_count": null,
   "id": "d52a9846",
   "metadata": {},
   "outputs": [],
   "source": [
    "np.split()"
   ]
  },
  {
   "cell_type": "code",
   "execution_count": 20,
   "id": "3a185da4",
   "metadata": {},
   "outputs": [],
   "source": [
    "varr = np.vsplit(array1, [1])"
   ]
  },
  {
   "cell_type": "code",
   "execution_count": 24,
   "id": "5be9206e",
   "metadata": {},
   "outputs": [
    {
     "name": "stdout",
     "output_type": "stream",
     "text": [
      "<class 'list'>\n",
      "[array([[5, 0, 3]]), array([[3, 7, 9]])]\n",
      "(1, 3)\n"
     ]
    }
   ],
   "source": [
    "print(type(varr))\n",
    "print(varr)\n",
    "print(varr[0].shape)"
   ]
  },
  {
   "cell_type": "code",
   "execution_count": 28,
   "id": "cea20c81",
   "metadata": {},
   "outputs": [],
   "source": [
    "harr = np.hsplit(array1, [1, 2])"
   ]
  },
  {
   "cell_type": "code",
   "execution_count": 29,
   "id": "f6f9b0e7",
   "metadata": {},
   "outputs": [
    {
     "data": {
      "text/plain": [
       "[array([[5],\n",
       "        [3]]),\n",
       " array([[0],\n",
       "        [7]]),\n",
       " array([[3],\n",
       "        [9]])]"
      ]
     },
     "execution_count": 29,
     "metadata": {},
     "output_type": "execute_result"
    }
   ],
   "source": [
    "harr"
   ]
  },
  {
   "cell_type": "code",
   "execution_count": 31,
   "id": "02f1a469",
   "metadata": {},
   "outputs": [
    {
     "data": {
      "text/plain": [
       "[array([[5],\n",
       "        [3]]),\n",
       " array([[0, 3],\n",
       "        [7, 9]])]"
      ]
     },
     "execution_count": 31,
     "metadata": {},
     "output_type": "execute_result"
    }
   ],
   "source": [
    "np.split(array1, [1], axis=1)"
   ]
  },
  {
   "cell_type": "code",
   "execution_count": 37,
   "id": "5cb5c9e3",
   "metadata": {},
   "outputs": [
    {
     "name": "stdout",
     "output_type": "stream",
     "text": [
      "[[3 7 9]\n",
      " [5 0 3]]\n",
      "[[3 7 9 5 0 3]]\n"
     ]
    }
   ],
   "source": [
    "print(np.concatenate((varr[1], varr[0]), axis=0))\n",
    "print(np.concatenate((varr[1], varr[0]), axis=1))"
   ]
  },
  {
   "cell_type": "code",
   "execution_count": 39,
   "id": "d4e46a48",
   "metadata": {},
   "outputs": [
    {
     "data": {
      "text/plain": [
       "array([[3, 7, 9],\n",
       "       [5, 0, 3]])"
      ]
     },
     "execution_count": 39,
     "metadata": {},
     "output_type": "execute_result"
    }
   ],
   "source": [
    "np.vstack((varr[1], varr[0]))"
   ]
  },
  {
   "cell_type": "code",
   "execution_count": 41,
   "id": "f026b34a",
   "metadata": {},
   "outputs": [],
   "source": [
    "array2 = np.hstack((varr[1], varr[0]))"
   ]
  },
  {
   "cell_type": "code",
   "execution_count": 42,
   "id": "139c1d19",
   "metadata": {},
   "outputs": [
    {
     "name": "stdout",
     "output_type": "stream",
     "text": [
      "[[3 7 9 5 0 3]]\n"
     ]
    }
   ],
   "source": [
    "print(array2)"
   ]
  },
  {
   "cell_type": "code",
   "execution_count": 44,
   "id": "2f8a71c3",
   "metadata": {},
   "outputs": [
    {
     "data": {
      "text/plain": [
       "array([[0, 3, 5],\n",
       "       [3, 7, 9]])"
      ]
     },
     "execution_count": 44,
     "metadata": {},
     "output_type": "execute_result"
    }
   ],
   "source": [
    "np.sort(array1)"
   ]
  },
  {
   "cell_type": "code",
   "execution_count": 47,
   "id": "65920fc7",
   "metadata": {},
   "outputs": [],
   "source": [
    "array3 = np.array([[1, 2, 3], [1, 3, 1]])"
   ]
  },
  {
   "cell_type": "code",
   "execution_count": 48,
   "id": "2d15ba16",
   "metadata": {},
   "outputs": [
    {
     "data": {
      "text/plain": [
       "array([[1, 2, 3],\n",
       "       [1, 1, 3]])"
      ]
     },
     "execution_count": 48,
     "metadata": {},
     "output_type": "execute_result"
    }
   ],
   "source": [
    "np.sort(array3)"
   ]
  },
  {
   "cell_type": "code",
   "execution_count": 66,
   "id": "c2128637",
   "metadata": {},
   "outputs": [],
   "source": [
    "arr2d = np.array([[12, 15, 7], [4, 6, 10], [9, 8, 3]])"
   ]
  },
  {
   "cell_type": "code",
   "execution_count": 67,
   "id": "0d949954",
   "metadata": {},
   "outputs": [
    {
     "name": "stdout",
     "output_type": "stream",
     "text": [
      "[[12 15  7]\n",
      " [ 4  6 10]\n",
      " [ 9  8  3]]\n"
     ]
    }
   ],
   "source": [
    "print(arr2d)"
   ]
  },
  {
   "cell_type": "code",
   "execution_count": 68,
   "id": "5197304f",
   "metadata": {},
   "outputs": [
    {
     "data": {
      "text/plain": [
       "array([[ 7, 12, 15],\n",
       "       [ 4,  6, 10],\n",
       "       [ 3,  8,  9]])"
      ]
     },
     "execution_count": 68,
     "metadata": {},
     "output_type": "execute_result"
    }
   ],
   "source": [
    "np.sort(arr2d)"
   ]
  },
  {
   "cell_type": "code",
   "execution_count": 72,
   "id": "15dd2e19",
   "metadata": {},
   "outputs": [
    {
     "name": "stdout",
     "output_type": "stream",
     "text": [
      "[[2 0 1]\n",
      " [0 1 2]\n",
      " [2 1 0]]\n"
     ]
    }
   ],
   "source": [
    "args = np.argsort(arr2d)\n",
    "print(args)"
   ]
  },
  {
   "cell_type": "code",
   "execution_count": 71,
   "id": "b8a44778",
   "metadata": {},
   "outputs": [
    {
     "data": {
      "text/plain": [
       "array([[ 7, 12, 15],\n",
       "       [ 4,  6, 10],\n",
       "       [ 3,  8,  9]])"
      ]
     },
     "execution_count": 71,
     "metadata": {},
     "output_type": "execute_result"
    }
   ],
   "source": [
    "np.take_along_axis(arr2d, args, axis=1)"
   ]
  },
  {
   "cell_type": "code",
   "execution_count": 73,
   "id": "69e77195",
   "metadata": {},
   "outputs": [],
   "source": [
    "array3 = np.array([3, 1, 2])"
   ]
  },
  {
   "cell_type": "code",
   "execution_count": 75,
   "id": "dd5d0257",
   "metadata": {},
   "outputs": [],
   "source": [
    "a = np.argsort(array3)"
   ]
  },
  {
   "cell_type": "code",
   "execution_count": 76,
   "id": "a3f20571",
   "metadata": {},
   "outputs": [
    {
     "data": {
      "text/plain": [
       "array([1, 2, 3])"
      ]
     },
     "execution_count": 76,
     "metadata": {},
     "output_type": "execute_result"
    }
   ],
   "source": [
    "array3[a]"
   ]
  },
  {
   "cell_type": "code",
   "execution_count": 78,
   "id": "76f80155",
   "metadata": {},
   "outputs": [
    {
     "data": {
      "text/plain": [
       "array([3, 2])"
      ]
     },
     "execution_count": 78,
     "metadata": {},
     "output_type": "execute_result"
    }
   ],
   "source": [
    "array3[np.where(array3 > 1)]"
   ]
  },
  {
   "cell_type": "code",
   "execution_count": 79,
   "id": "f80038df",
   "metadata": {},
   "outputs": [
    {
     "data": {
      "text/plain": [
       "(array([0, 2]),)"
      ]
     },
     "execution_count": 79,
     "metadata": {},
     "output_type": "execute_result"
    }
   ],
   "source": [
    "np.where(array3 > 1)"
   ]
  },
  {
   "cell_type": "code",
   "execution_count": null,
   "id": "9677827b",
   "metadata": {},
   "outputs": [],
   "source": []
  },
  {
   "cell_type": "code",
   "execution_count": null,
   "id": "fa0ce161",
   "metadata": {},
   "outputs": [],
   "source": []
  },
  {
   "cell_type": "code",
   "execution_count": null,
   "id": "67e37519",
   "metadata": {},
   "outputs": [],
   "source": []
  },
  {
   "cell_type": "code",
   "execution_count": null,
   "id": "0f75be98",
   "metadata": {},
   "outputs": [],
   "source": []
  },
  {
   "cell_type": "code",
   "execution_count": null,
   "id": "46654645",
   "metadata": {},
   "outputs": [],
   "source": []
  }
 ],
 "metadata": {
  "kernelspec": {
   "display_name": "Python 3 (ipykernel)",
   "language": "python",
   "name": "python3"
  },
  "language_info": {
   "codemirror_mode": {
    "name": "ipython",
    "version": 3
   },
   "file_extension": ".py",
   "mimetype": "text/x-python",
   "name": "python",
   "nbconvert_exporter": "python",
   "pygments_lexer": "ipython3",
   "version": "3.11.4"
  }
 },
 "nbformat": 4,
 "nbformat_minor": 5
}
