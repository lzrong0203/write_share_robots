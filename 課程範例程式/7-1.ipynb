{
 "cells": [
  {
   "cell_type": "markdown",
   "id": "878886df",
   "metadata": {},
   "source": [
    "# Python 中的 List 及其用法\n",
    "\n",
    "## 定義 List\n",
    "\n",
    "在 Python 中，List 是一個有序的集合，可以容納多個元素。這些元素可以是數字、字符串、甚至其他 List。\n",
    "\n",
    "```python\n",
    "# 創建一個簡單的 List\n",
    "my_list = [1, 2, 3, 4, 5]\n",
    "```\n",
    "\n",
    "## 常見操作\n",
    "\n",
    "### 新增元素\n",
    "\n",
    "1. `append()`: 新增元素到 List 的尾部。\n",
    "    ```python\n",
    "    my_list.append(6)\n",
    "    ```\n",
    "2. `insert()`: 在特定索引處新增元素。\n",
    "    ```python\n",
    "    my_list.insert(1, 'a')\n",
    "    ```\n",
    "\n",
    "### 刪除元素\n",
    "\n",
    "1. `remove()`: 刪除第一個匹配的元素。\n",
    "    ```python\n",
    "    my_list.remove(1)\n",
    "    ```\n",
    "2. `pop()`: 刪除並返回特定索引的元素（預設是最後一個）。\n",
    "    ```python\n",
    "    last_element = my_list.pop()\n",
    "    ```\n",
    "\n",
    "### 查找元素\n",
    "\n",
    "1. 用索引查找。\n",
    "    ```python\n",
    "    first_element = my_list[0]\n",
    "    ```\n",
    "2. `index()`: 找出第一個匹配的元素索引。\n",
    "    ```python\n",
    "    index_of_two = my_list.index(2)\n",
    "    ```\n",
    "\n",
    "### 其他\n",
    "\n",
    "1. `len()`: 獲得 List 長度。\n",
    "    ```python\n",
    "    length = len(my_list)\n",
    "    ```\n",
    "2. `sort()`: 對 List 進行排序。\n",
    "    ```python\n",
    "    my_list.sort()\n",
    "    ```\n",
    "3. `reverse()`: 反轉 List。\n",
    "    ```python\n",
    "    my_list.reverse()\n",
    "    ```\n",
    "\n",
    "## 切片操作\n",
    "\n",
    "你可以使用切片（slicing）來獲取 List 的子集。\n",
    "\n",
    "```python\n",
    "# 獲取索引 1 到 3（不包括 3）的子 List\n",
    "sub_list = my_list[1:3]\n",
    "```\n",
    "\n",
    "## 巢狀 List\n",
    "\n",
    "List 可以包含其他 List。\n",
    "\n",
    "```python\n",
    "nested_list = [1, [2, 3], 4]\n",
    "```\n",
    "\n",
    "這樣，你就可以創建更為複雜的數據結構。\n",
    "\n",
    "## 迴圈遍歷\n",
    "\n",
    "你可以使用 `for` 迴圈來遍歷 List。\n",
    "\n",
    "```python\n",
    "for element in my_list:\n",
    "    print(element)\n",
    "```\n",
    "\n",
    "以上就是 Python 中的 List 以及它的一些基本用法。"
   ]
  },
  {
   "cell_type": "code",
   "execution_count": 1,
   "id": "d2461062",
   "metadata": {},
   "outputs": [],
   "source": [
    "list1 = [23, 45.6, \"Hello\"]"
   ]
  },
  {
   "cell_type": "code",
   "execution_count": 2,
   "id": "3a0cb93c",
   "metadata": {},
   "outputs": [
    {
     "data": {
      "text/plain": [
       "[23, 45.6, 'Hello']"
      ]
     },
     "execution_count": 2,
     "metadata": {},
     "output_type": "execute_result"
    }
   ],
   "source": [
    "list1"
   ]
  },
  {
   "cell_type": "code",
   "execution_count": 3,
   "id": "0e189301",
   "metadata": {},
   "outputs": [
    {
     "data": {
      "text/plain": [
       "23"
      ]
     },
     "execution_count": 3,
     "metadata": {},
     "output_type": "execute_result"
    }
   ],
   "source": [
    "list1[0]"
   ]
  },
  {
   "cell_type": "code",
   "execution_count": 4,
   "id": "edc58b76",
   "metadata": {},
   "outputs": [
    {
     "data": {
      "text/plain": [
       "'Hello'"
      ]
     },
     "execution_count": 4,
     "metadata": {},
     "output_type": "execute_result"
    }
   ],
   "source": [
    "list1[2]"
   ]
  },
  {
   "cell_type": "code",
   "execution_count": 5,
   "id": "4ac095e5",
   "metadata": {},
   "outputs": [
    {
     "ename": "IndexError",
     "evalue": "list index out of range",
     "output_type": "error",
     "traceback": [
      "\u001b[0;31m---------------------------------------------------------------------------\u001b[0m",
      "\u001b[0;31mIndexError\u001b[0m                                Traceback (most recent call last)",
      "Cell \u001b[0;32mIn[5], line 1\u001b[0m\n\u001b[0;32m----> 1\u001b[0m list1[\u001b[38;5;241m5\u001b[39m]\n",
      "\u001b[0;31mIndexError\u001b[0m: list index out of range"
     ]
    }
   ],
   "source": [
    "list1[5]"
   ]
  },
  {
   "cell_type": "code",
   "execution_count": 6,
   "id": "09a6cb62",
   "metadata": {},
   "outputs": [
    {
     "data": {
      "text/plain": [
       "'Hello'"
      ]
     },
     "execution_count": 6,
     "metadata": {},
     "output_type": "execute_result"
    }
   ],
   "source": [
    "list1[-1]"
   ]
  },
  {
   "cell_type": "code",
   "execution_count": 7,
   "id": "9bcbc8ca",
   "metadata": {},
   "outputs": [
    {
     "data": {
      "text/plain": [
       "3"
      ]
     },
     "execution_count": 7,
     "metadata": {},
     "output_type": "execute_result"
    }
   ],
   "source": [
    "len(list1)"
   ]
  },
  {
   "cell_type": "code",
   "execution_count": 8,
   "id": "35f312f7",
   "metadata": {},
   "outputs": [],
   "source": [
    "tuple1 = (23, 45.6, \"Hello\")"
   ]
  },
  {
   "cell_type": "code",
   "execution_count": 9,
   "id": "2e1eabcb",
   "metadata": {},
   "outputs": [
    {
     "data": {
      "text/plain": [
       "45.6"
      ]
     },
     "execution_count": 9,
     "metadata": {},
     "output_type": "execute_result"
    }
   ],
   "source": [
    "tuple1[1]"
   ]
  },
  {
   "cell_type": "code",
   "execution_count": 10,
   "id": "964a3e99",
   "metadata": {},
   "outputs": [
    {
     "data": {
      "text/plain": [
       "'Hello'"
      ]
     },
     "execution_count": 10,
     "metadata": {},
     "output_type": "execute_result"
    }
   ],
   "source": [
    "tuple1[-1]"
   ]
  },
  {
   "cell_type": "code",
   "execution_count": 11,
   "id": "050acbce",
   "metadata": {},
   "outputs": [
    {
     "ename": "IndexError",
     "evalue": "tuple index out of range",
     "output_type": "error",
     "traceback": [
      "\u001b[0;31m---------------------------------------------------------------------------\u001b[0m",
      "\u001b[0;31mIndexError\u001b[0m                                Traceback (most recent call last)",
      "Cell \u001b[0;32mIn[11], line 1\u001b[0m\n\u001b[0;32m----> 1\u001b[0m tuple1[\u001b[38;5;241m5\u001b[39m]\n",
      "\u001b[0;31mIndexError\u001b[0m: tuple index out of range"
     ]
    }
   ],
   "source": [
    "tuple1[5]"
   ]
  },
  {
   "cell_type": "code",
   "execution_count": 12,
   "id": "59c72be9",
   "metadata": {},
   "outputs": [
    {
     "data": {
      "text/plain": [
       "[23, 45.6, 'Hello']"
      ]
     },
     "execution_count": 12,
     "metadata": {},
     "output_type": "execute_result"
    }
   ],
   "source": [
    "list1"
   ]
  },
  {
   "cell_type": "code",
   "execution_count": 13,
   "id": "ee37dc2d",
   "metadata": {},
   "outputs": [],
   "source": [
    "list1[1] = \"apple\""
   ]
  },
  {
   "cell_type": "code",
   "execution_count": 15,
   "id": "446fb135",
   "metadata": {},
   "outputs": [
    {
     "data": {
      "text/plain": [
       "[23, 'apple', 'Hello']"
      ]
     },
     "execution_count": 15,
     "metadata": {},
     "output_type": "execute_result"
    }
   ],
   "source": [
    "list1"
   ]
  },
  {
   "cell_type": "code",
   "execution_count": 16,
   "id": "9d079ece",
   "metadata": {},
   "outputs": [
    {
     "ename": "TypeError",
     "evalue": "'tuple' object does not support item assignment",
     "output_type": "error",
     "traceback": [
      "\u001b[0;31m---------------------------------------------------------------------------\u001b[0m",
      "\u001b[0;31mTypeError\u001b[0m                                 Traceback (most recent call last)",
      "Cell \u001b[0;32mIn[16], line 1\u001b[0m\n\u001b[0;32m----> 1\u001b[0m tuple1[\u001b[38;5;241m1\u001b[39m] \u001b[38;5;241m=\u001b[39m \u001b[38;5;124m\"\u001b[39m\u001b[38;5;124mapple\u001b[39m\u001b[38;5;124m\"\u001b[39m\n",
      "\u001b[0;31mTypeError\u001b[0m: 'tuple' object does not support item assignment"
     ]
    }
   ],
   "source": [
    "tuple1[1] = \"apple\""
   ]
  },
  {
   "cell_type": "code",
   "execution_count": 18,
   "id": "c9bb47a4",
   "metadata": {},
   "outputs": [
    {
     "name": "stdout",
     "output_type": "stream",
     "text": [
      "[23, 'apple', 'Hello']\n"
     ]
    }
   ],
   "source": [
    "print(list1)\n",
    "list1.append(34)"
   ]
  },
  {
   "cell_type": "code",
   "execution_count": 19,
   "id": "d2177659",
   "metadata": {},
   "outputs": [
    {
     "name": "stdout",
     "output_type": "stream",
     "text": [
      "[23, 'apple', 'Hello', 34]\n"
     ]
    }
   ],
   "source": [
    "print(list1)"
   ]
  },
  {
   "cell_type": "code",
   "execution_count": 20,
   "id": "07cd2f56",
   "metadata": {},
   "outputs": [
    {
     "name": "stdout",
     "output_type": "stream",
     "text": [
      "None\n"
     ]
    }
   ],
   "source": [
    "print(list1.append(56))"
   ]
  },
  {
   "cell_type": "code",
   "execution_count": 21,
   "id": "582b506b",
   "metadata": {},
   "outputs": [
    {
     "data": {
      "text/plain": [
       "[23, 'apple', 'Hello', 34, 56]"
      ]
     },
     "execution_count": 21,
     "metadata": {},
     "output_type": "execute_result"
    }
   ],
   "source": [
    "list1"
   ]
  },
  {
   "cell_type": "code",
   "execution_count": 23,
   "id": "7280240e",
   "metadata": {},
   "outputs": [],
   "source": [
    "list1[1] = 45"
   ]
  },
  {
   "cell_type": "code",
   "execution_count": 24,
   "id": "1dd17aff",
   "metadata": {},
   "outputs": [
    {
     "data": {
      "text/plain": [
       "[23, 45, 'Hello', 34, 56]"
      ]
     },
     "execution_count": 24,
     "metadata": {},
     "output_type": "execute_result"
    }
   ],
   "source": [
    "list1"
   ]
  },
  {
   "cell_type": "code",
   "execution_count": 25,
   "id": "3eee5f6c",
   "metadata": {},
   "outputs": [],
   "source": [
    "list2 = [1, 2, 3, 4, 5]"
   ]
  },
  {
   "cell_type": "code",
   "execution_count": 29,
   "id": "31b2a44f",
   "metadata": {},
   "outputs": [],
   "source": [
    "list3 = list1 + list2"
   ]
  },
  {
   "cell_type": "code",
   "execution_count": 27,
   "id": "660cff3d",
   "metadata": {},
   "outputs": [
    {
     "data": {
      "text/plain": [
       "[23, 45, 'Hello', 34, 56]"
      ]
     },
     "execution_count": 27,
     "metadata": {},
     "output_type": "execute_result"
    }
   ],
   "source": [
    "list1"
   ]
  },
  {
   "cell_type": "code",
   "execution_count": 28,
   "id": "12a43c51",
   "metadata": {},
   "outputs": [
    {
     "data": {
      "text/plain": [
       "[1, 2, 3, 4, 5]"
      ]
     },
     "execution_count": 28,
     "metadata": {},
     "output_type": "execute_result"
    }
   ],
   "source": [
    "list2"
   ]
  },
  {
   "cell_type": "code",
   "execution_count": 30,
   "id": "884df2a3",
   "metadata": {},
   "outputs": [
    {
     "data": {
      "text/plain": [
       "[23, 45, 'Hello', 34, 56, 1, 2, 3, 4, 5]"
      ]
     },
     "execution_count": 30,
     "metadata": {},
     "output_type": "execute_result"
    }
   ],
   "source": [
    "list3"
   ]
  },
  {
   "cell_type": "code",
   "execution_count": 32,
   "id": "174f219f",
   "metadata": {},
   "outputs": [],
   "source": [
    "list1.extend(list2)"
   ]
  },
  {
   "cell_type": "code",
   "execution_count": 33,
   "id": "bc4d8b0e",
   "metadata": {},
   "outputs": [
    {
     "data": {
      "text/plain": [
       "[23, 45, 'Hello', 34, 56, 1, 2, 3, 4, 5]"
      ]
     },
     "execution_count": 33,
     "metadata": {},
     "output_type": "execute_result"
    }
   ],
   "source": [
    "list1"
   ]
  },
  {
   "cell_type": "code",
   "execution_count": 34,
   "id": "35e86f43",
   "metadata": {},
   "outputs": [
    {
     "data": {
      "text/plain": [
       "[1, 2, 3, 4, 5]"
      ]
     },
     "execution_count": 34,
     "metadata": {},
     "output_type": "execute_result"
    }
   ],
   "source": [
    "list2"
   ]
  },
  {
   "cell_type": "code",
   "execution_count": 35,
   "id": "cb727bd1",
   "metadata": {},
   "outputs": [],
   "source": [
    "list_str = [\"apple\"]"
   ]
  },
  {
   "cell_type": "code",
   "execution_count": 36,
   "id": "ae0d975b",
   "metadata": {},
   "outputs": [],
   "source": [
    "list_str.extend(\"cherry\")"
   ]
  },
  {
   "cell_type": "code",
   "execution_count": 37,
   "id": "205e8429",
   "metadata": {},
   "outputs": [
    {
     "data": {
      "text/plain": [
       "['apple', 'c', 'h', 'e', 'r', 'r', 'y']"
      ]
     },
     "execution_count": 37,
     "metadata": {},
     "output_type": "execute_result"
    }
   ],
   "source": [
    "list_str"
   ]
  },
  {
   "cell_type": "code",
   "execution_count": 39,
   "id": "b01fa1a1",
   "metadata": {},
   "outputs": [
    {
     "data": {
      "text/plain": [
       "5"
      ]
     },
     "execution_count": 39,
     "metadata": {},
     "output_type": "execute_result"
    }
   ],
   "source": [
    "list1.pop()"
   ]
  },
  {
   "cell_type": "code",
   "execution_count": 40,
   "id": "63452c97",
   "metadata": {},
   "outputs": [
    {
     "data": {
      "text/plain": [
       "[23, 45, 'Hello', 34, 56, 1, 2, 3, 4]"
      ]
     },
     "execution_count": 40,
     "metadata": {},
     "output_type": "execute_result"
    }
   ],
   "source": [
    "list1"
   ]
  },
  {
   "cell_type": "code",
   "execution_count": 41,
   "id": "5740049f",
   "metadata": {},
   "outputs": [
    {
     "data": {
      "text/plain": [
       "'Hello'"
      ]
     },
     "execution_count": 41,
     "metadata": {},
     "output_type": "execute_result"
    }
   ],
   "source": [
    "list1.pop(2)"
   ]
  },
  {
   "cell_type": "code",
   "execution_count": 42,
   "id": "6b21b0a1",
   "metadata": {},
   "outputs": [
    {
     "data": {
      "text/plain": [
       "[23, 45, 34, 56, 1, 2, 3, 4]"
      ]
     },
     "execution_count": 42,
     "metadata": {},
     "output_type": "execute_result"
    }
   ],
   "source": [
    "list1"
   ]
  },
  {
   "cell_type": "code",
   "execution_count": 43,
   "id": "bdddb5b8",
   "metadata": {},
   "outputs": [],
   "source": [
    "list1.remove(1)"
   ]
  },
  {
   "cell_type": "code",
   "execution_count": 44,
   "id": "6af49f9a",
   "metadata": {},
   "outputs": [
    {
     "data": {
      "text/plain": [
       "[23, 45, 34, 56, 2, 3, 4]"
      ]
     },
     "execution_count": 44,
     "metadata": {},
     "output_type": "execute_result"
    }
   ],
   "source": [
    "list1"
   ]
  },
  {
   "cell_type": "code",
   "execution_count": 45,
   "id": "76301f1d",
   "metadata": {},
   "outputs": [
    {
     "ename": "ValueError",
     "evalue": "list.remove(x): x not in list",
     "output_type": "error",
     "traceback": [
      "\u001b[0;31m---------------------------------------------------------------------------\u001b[0m",
      "\u001b[0;31mValueError\u001b[0m                                Traceback (most recent call last)",
      "Cell \u001b[0;32mIn[45], line 1\u001b[0m\n\u001b[0;32m----> 1\u001b[0m list1\u001b[38;5;241m.\u001b[39mremove(\u001b[38;5;241m1\u001b[39m)\n",
      "\u001b[0;31mValueError\u001b[0m: list.remove(x): x not in list"
     ]
    }
   ],
   "source": [
    "list1.remove(1)"
   ]
  },
  {
   "cell_type": "code",
   "execution_count": 49,
   "id": "ee8f84d0",
   "metadata": {},
   "outputs": [],
   "source": [
    "x = 2\n",
    "if x in list1:\n",
    "    list1.remove(x)"
   ]
  },
  {
   "cell_type": "code",
   "execution_count": 50,
   "id": "935bccf6",
   "metadata": {},
   "outputs": [
    {
     "data": {
      "text/plain": [
       "[23, 45, 34, 56, 3, 4]"
      ]
     },
     "execution_count": 50,
     "metadata": {},
     "output_type": "execute_result"
    }
   ],
   "source": [
    "list1"
   ]
  },
  {
   "cell_type": "code",
   "execution_count": 51,
   "id": "fba4f506",
   "metadata": {},
   "outputs": [
    {
     "name": "stdout",
     "output_type": "stream",
     "text": [
      "23\n",
      "45\n",
      "34\n",
      "56\n",
      "3\n",
      "4\n"
     ]
    }
   ],
   "source": [
    "for i in list1:\n",
    "    print(i)"
   ]
  },
  {
   "cell_type": "code",
   "execution_count": 52,
   "id": "ffd9e32d",
   "metadata": {},
   "outputs": [
    {
     "data": {
      "text/plain": [
       "45"
      ]
     },
     "execution_count": 52,
     "metadata": {},
     "output_type": "execute_result"
    }
   ],
   "source": [
    "list1[1]"
   ]
  },
  {
   "cell_type": "code",
   "execution_count": 54,
   "id": "5c85e8c3",
   "metadata": {},
   "outputs": [
    {
     "data": {
      "text/plain": [
       "[23, 45, 34, 56, 3, 4]"
      ]
     },
     "execution_count": 54,
     "metadata": {},
     "output_type": "execute_result"
    }
   ],
   "source": [
    "list1"
   ]
  },
  {
   "cell_type": "code",
   "execution_count": 53,
   "id": "9db6fc0b",
   "metadata": {},
   "outputs": [
    {
     "data": {
      "text/plain": [
       "[45, 34]"
      ]
     },
     "execution_count": 53,
     "metadata": {},
     "output_type": "execute_result"
    }
   ],
   "source": [
    "list1[1:3]"
   ]
  },
  {
   "cell_type": "code",
   "execution_count": 55,
   "id": "2acc16ee",
   "metadata": {},
   "outputs": [
    {
     "data": {
      "text/plain": [
       "[45, 34, 56, 3, 4]"
      ]
     },
     "execution_count": 55,
     "metadata": {},
     "output_type": "execute_result"
    }
   ],
   "source": [
    "list1[1:7]"
   ]
  },
  {
   "cell_type": "code",
   "execution_count": 56,
   "id": "5ab9a342",
   "metadata": {},
   "outputs": [
    {
     "ename": "IndexError",
     "evalue": "list index out of range",
     "output_type": "error",
     "traceback": [
      "\u001b[0;31m---------------------------------------------------------------------------\u001b[0m",
      "\u001b[0;31mIndexError\u001b[0m                                Traceback (most recent call last)",
      "Cell \u001b[0;32mIn[56], line 1\u001b[0m\n\u001b[0;32m----> 1\u001b[0m list1[\u001b[38;5;241m6\u001b[39m]\n",
      "\u001b[0;31mIndexError\u001b[0m: list index out of range"
     ]
    }
   ],
   "source": [
    "list1[6]"
   ]
  },
  {
   "cell_type": "code",
   "execution_count": 57,
   "id": "b895206f",
   "metadata": {},
   "outputs": [
    {
     "data": {
      "text/plain": [
       "[23, 45, 34]"
      ]
     },
     "execution_count": 57,
     "metadata": {},
     "output_type": "execute_result"
    }
   ],
   "source": [
    "list1[:3]"
   ]
  },
  {
   "cell_type": "code",
   "execution_count": 58,
   "id": "5949092f",
   "metadata": {},
   "outputs": [
    {
     "data": {
      "text/plain": [
       "[45, 34, 56, 3, 4]"
      ]
     },
     "execution_count": 58,
     "metadata": {},
     "output_type": "execute_result"
    }
   ],
   "source": [
    "list1[1:]"
   ]
  },
  {
   "cell_type": "code",
   "execution_count": 63,
   "id": "2d7c0a1b",
   "metadata": {},
   "outputs": [],
   "source": [
    "listex = list1[:]"
   ]
  },
  {
   "cell_type": "code",
   "execution_count": 60,
   "id": "d9c59cd5",
   "metadata": {},
   "outputs": [
    {
     "data": {
      "text/plain": [
       "'e'"
      ]
     },
     "execution_count": 60,
     "metadata": {},
     "output_type": "execute_result"
    }
   ],
   "source": [
    "str1 = \"hello\"\n",
    "str1[1]"
   ]
  },
  {
   "cell_type": "code",
   "execution_count": 61,
   "id": "90c8a117",
   "metadata": {},
   "outputs": [
    {
     "data": {
      "text/plain": [
       "'ello'"
      ]
     },
     "execution_count": 61,
     "metadata": {},
     "output_type": "execute_result"
    }
   ],
   "source": [
    "str1[1:]"
   ]
  },
  {
   "cell_type": "code",
   "execution_count": 62,
   "id": "40762c52",
   "metadata": {},
   "outputs": [
    {
     "data": {
      "text/plain": [
       "'hel'"
      ]
     },
     "execution_count": 62,
     "metadata": {},
     "output_type": "execute_result"
    }
   ],
   "source": [
    "str1[:3]"
   ]
  },
  {
   "cell_type": "code",
   "execution_count": 67,
   "id": "3285a694",
   "metadata": {},
   "outputs": [
    {
     "data": {
      "text/plain": [
       "[23, 45, 34, 56, 3, 4]"
      ]
     },
     "execution_count": 67,
     "metadata": {},
     "output_type": "execute_result"
    }
   ],
   "source": [
    "list1"
   ]
  },
  {
   "cell_type": "code",
   "execution_count": 66,
   "id": "fe878050",
   "metadata": {},
   "outputs": [
    {
     "data": {
      "text/plain": [
       "2"
      ]
     },
     "execution_count": 66,
     "metadata": {},
     "output_type": "execute_result"
    }
   ],
   "source": [
    "list1.index(34)"
   ]
  },
  {
   "cell_type": "code",
   "execution_count": 68,
   "id": "c92fe2e7",
   "metadata": {},
   "outputs": [
    {
     "data": {
      "text/plain": [
       "[23, 45, 34, 56, 3, 4]"
      ]
     },
     "execution_count": 68,
     "metadata": {},
     "output_type": "execute_result"
    }
   ],
   "source": [
    "list1"
   ]
  },
  {
   "cell_type": "code",
   "execution_count": 69,
   "id": "bb4e4fd1",
   "metadata": {},
   "outputs": [],
   "source": [
    "list1.insert(1, 100)"
   ]
  },
  {
   "cell_type": "code",
   "execution_count": 70,
   "id": "7d076a60",
   "metadata": {},
   "outputs": [
    {
     "data": {
      "text/plain": [
       "[23, 100, 45, 34, 56, 3, 4]"
      ]
     },
     "execution_count": 70,
     "metadata": {},
     "output_type": "execute_result"
    }
   ],
   "source": [
    "list1"
   ]
  },
  {
   "cell_type": "code",
   "execution_count": 71,
   "id": "a6d0b950",
   "metadata": {},
   "outputs": [],
   "source": [
    "list1.insert(-1, 100)"
   ]
  },
  {
   "cell_type": "code",
   "execution_count": 72,
   "id": "40f6a91c",
   "metadata": {},
   "outputs": [
    {
     "data": {
      "text/plain": [
       "[23, 100, 45, 34, 56, 3, 100, 4]"
      ]
     },
     "execution_count": 72,
     "metadata": {},
     "output_type": "execute_result"
    }
   ],
   "source": [
    "list1"
   ]
  },
  {
   "cell_type": "code",
   "execution_count": 73,
   "id": "05239938",
   "metadata": {},
   "outputs": [],
   "source": [
    "list1.remove(100)"
   ]
  },
  {
   "cell_type": "code",
   "execution_count": 74,
   "id": "c6d58da5",
   "metadata": {},
   "outputs": [
    {
     "data": {
      "text/plain": [
       "[23, 45, 34, 56, 3, 100, 4]"
      ]
     },
     "execution_count": 74,
     "metadata": {},
     "output_type": "execute_result"
    }
   ],
   "source": [
    "list1"
   ]
  },
  {
   "cell_type": "code",
   "execution_count": 75,
   "id": "7948b63c",
   "metadata": {},
   "outputs": [],
   "source": [
    "list1.sort()"
   ]
  },
  {
   "cell_type": "code",
   "execution_count": 76,
   "id": "a181d6ca",
   "metadata": {},
   "outputs": [
    {
     "data": {
      "text/plain": [
       "[3, 4, 23, 34, 45, 56, 100]"
      ]
     },
     "execution_count": 76,
     "metadata": {},
     "output_type": "execute_result"
    }
   ],
   "source": [
    "list1"
   ]
  },
  {
   "cell_type": "code",
   "execution_count": 77,
   "id": "60803ec6",
   "metadata": {},
   "outputs": [],
   "source": [
    "list1.append(\"apple\")"
   ]
  },
  {
   "cell_type": "code",
   "execution_count": 78,
   "id": "67674a53",
   "metadata": {},
   "outputs": [
    {
     "ename": "TypeError",
     "evalue": "'<' not supported between instances of 'str' and 'int'",
     "output_type": "error",
     "traceback": [
      "\u001b[0;31m---------------------------------------------------------------------------\u001b[0m",
      "\u001b[0;31mTypeError\u001b[0m                                 Traceback (most recent call last)",
      "Cell \u001b[0;32mIn[78], line 1\u001b[0m\n\u001b[0;32m----> 1\u001b[0m list1\u001b[38;5;241m.\u001b[39msort()\n",
      "\u001b[0;31mTypeError\u001b[0m: '<' not supported between instances of 'str' and 'int'"
     ]
    }
   ],
   "source": [
    "list1.sort()"
   ]
  },
  {
   "cell_type": "code",
   "execution_count": 79,
   "id": "85c7d5c2",
   "metadata": {},
   "outputs": [
    {
     "data": {
      "text/plain": [
       "[3, 4, 23, 34, 45, 56, 100, 'apple']"
      ]
     },
     "execution_count": 79,
     "metadata": {},
     "output_type": "execute_result"
    }
   ],
   "source": [
    "list1.sort"
   ]
  },
  {
   "cell_type": "code",
   "execution_count": 81,
   "id": "63b842b2",
   "metadata": {},
   "outputs": [],
   "source": [
    "list_str2 = [\"apple\", \"cherry\", \"banana\"]"
   ]
  },
  {
   "cell_type": "code",
   "execution_count": 83,
   "id": "bed4d10c",
   "metadata": {},
   "outputs": [],
   "source": [
    "list_str2.sort()"
   ]
  },
  {
   "cell_type": "code",
   "execution_count": 85,
   "id": "f296f478",
   "metadata": {},
   "outputs": [
    {
     "data": {
      "text/plain": [
       "['apple', 'banana', 'cherry']"
      ]
     },
     "execution_count": 85,
     "metadata": {},
     "output_type": "execute_result"
    }
   ],
   "source": [
    "list_str2"
   ]
  },
  {
   "cell_type": "code",
   "execution_count": 86,
   "id": "03ae745e",
   "metadata": {},
   "outputs": [],
   "source": [
    "list_str2.append(\"Apple\")\n",
    "list_str2.append(\"Cherry\")"
   ]
  },
  {
   "cell_type": "code",
   "execution_count": 87,
   "id": "3ba452de",
   "metadata": {},
   "outputs": [
    {
     "data": {
      "text/plain": [
       "['apple', 'banana', 'cherry', 'Apple', 'Cherry']"
      ]
     },
     "execution_count": 87,
     "metadata": {},
     "output_type": "execute_result"
    }
   ],
   "source": [
    "list_str2"
   ]
  },
  {
   "cell_type": "code",
   "execution_count": 88,
   "id": "5cfe56a2",
   "metadata": {},
   "outputs": [],
   "source": [
    "list_str2.sort()"
   ]
  },
  {
   "cell_type": "code",
   "execution_count": 89,
   "id": "bec33266",
   "metadata": {},
   "outputs": [
    {
     "data": {
      "text/plain": [
       "['Apple', 'Cherry', 'apple', 'banana', 'cherry']"
      ]
     },
     "execution_count": 89,
     "metadata": {},
     "output_type": "execute_result"
    }
   ],
   "source": [
    "list_str2"
   ]
  },
  {
   "cell_type": "code",
   "execution_count": 90,
   "id": "d09c4c61",
   "metadata": {},
   "outputs": [
    {
     "data": {
      "text/plain": [
       "65"
      ]
     },
     "execution_count": 90,
     "metadata": {},
     "output_type": "execute_result"
    }
   ],
   "source": [
    "ord(\"A\")"
   ]
  },
  {
   "cell_type": "code",
   "execution_count": 91,
   "id": "01d9d6f1",
   "metadata": {},
   "outputs": [
    {
     "data": {
      "text/plain": [
       "97"
      ]
     },
     "execution_count": 91,
     "metadata": {},
     "output_type": "execute_result"
    }
   ],
   "source": [
    "ord(\"a\")"
   ]
  },
  {
   "cell_type": "code",
   "execution_count": 92,
   "id": "1dbe1455",
   "metadata": {},
   "outputs": [
    {
     "data": {
      "text/plain": [
       "['Apple', 'Cherry', 'apple', 'banana', 'cherry']"
      ]
     },
     "execution_count": 92,
     "metadata": {},
     "output_type": "execute_result"
    }
   ],
   "source": [
    "list_str2"
   ]
  },
  {
   "cell_type": "code",
   "execution_count": 93,
   "id": "0c2fb3d9",
   "metadata": {},
   "outputs": [],
   "source": [
    "list_str2.sort(key=len)"
   ]
  },
  {
   "cell_type": "code",
   "execution_count": 95,
   "id": "e966dc7f",
   "metadata": {},
   "outputs": [],
   "source": [
    "list_str2.sort(key=len, reverse=True)"
   ]
  },
  {
   "cell_type": "code",
   "execution_count": 96,
   "id": "57d24d04",
   "metadata": {},
   "outputs": [
    {
     "data": {
      "text/plain": [
       "['Cherry', 'banana', 'cherry', 'Apple', 'apple']"
      ]
     },
     "execution_count": 96,
     "metadata": {},
     "output_type": "execute_result"
    }
   ],
   "source": [
    "list_str2"
   ]
  },
  {
   "cell_type": "code",
   "execution_count": 97,
   "id": "3a9072cc",
   "metadata": {},
   "outputs": [],
   "source": [
    "list_str2.reverse()"
   ]
  },
  {
   "cell_type": "code",
   "execution_count": 98,
   "id": "ea2aec61",
   "metadata": {},
   "outputs": [
    {
     "data": {
      "text/plain": [
       "['apple', 'Apple', 'cherry', 'banana', 'Cherry']"
      ]
     },
     "execution_count": 98,
     "metadata": {},
     "output_type": "execute_result"
    }
   ],
   "source": [
    "list_str2"
   ]
  },
  {
   "cell_type": "code",
   "execution_count": 101,
   "id": "6e8fcf3e",
   "metadata": {},
   "outputs": [
    {
     "data": {
      "text/plain": [
       "['apple', 'Apple', 'cherry', 'banana', 'Cherry']"
      ]
     },
     "execution_count": 101,
     "metadata": {},
     "output_type": "execute_result"
    }
   ],
   "source": [
    "list_str2"
   ]
  },
  {
   "cell_type": "code",
   "execution_count": 102,
   "id": "6e33b64a",
   "metadata": {},
   "outputs": [
    {
     "data": {
      "text/plain": [
       "['Apple', 'Cherry', 'apple', 'banana', 'cherry']"
      ]
     },
     "execution_count": 102,
     "metadata": {},
     "output_type": "execute_result"
    }
   ],
   "source": [
    "sorted(list_str2)"
   ]
  },
  {
   "cell_type": "code",
   "execution_count": 103,
   "id": "13cd2c3f",
   "metadata": {},
   "outputs": [
    {
     "data": {
      "text/plain": [
       "['apple', 'Apple', 'cherry', 'banana', 'Cherry']"
      ]
     },
     "execution_count": 103,
     "metadata": {},
     "output_type": "execute_result"
    }
   ],
   "source": [
    "list_str2"
   ]
  },
  {
   "cell_type": "code",
   "execution_count": 105,
   "id": "a20f1077",
   "metadata": {},
   "outputs": [
    {
     "data": {
      "text/plain": [
       "'apple'"
      ]
     },
     "execution_count": 105,
     "metadata": {},
     "output_type": "execute_result"
    }
   ],
   "source": [
    "list1.pop()"
   ]
  },
  {
   "cell_type": "code",
   "execution_count": 107,
   "id": "90dc356d",
   "metadata": {},
   "outputs": [],
   "source": [
    "list1.reverse()"
   ]
  },
  {
   "cell_type": "code",
   "execution_count": 108,
   "id": "6bdb7176",
   "metadata": {},
   "outputs": [
    {
     "data": {
      "text/plain": [
       "[100, 56, 45, 34, 23, 4, 3]"
      ]
     },
     "execution_count": 108,
     "metadata": {},
     "output_type": "execute_result"
    }
   ],
   "source": [
    "list1"
   ]
  },
  {
   "cell_type": "code",
   "execution_count": 111,
   "id": "70f4a12b",
   "metadata": {},
   "outputs": [],
   "source": [
    "list1_sorted = sorted(list1)"
   ]
  },
  {
   "cell_type": "code",
   "execution_count": 112,
   "id": "38b348d8",
   "metadata": {},
   "outputs": [
    {
     "data": {
      "text/plain": [
       "[100, 56, 45, 34, 23, 4, 3]"
      ]
     },
     "execution_count": 112,
     "metadata": {},
     "output_type": "execute_result"
    }
   ],
   "source": [
    "list1"
   ]
  },
  {
   "cell_type": "code",
   "execution_count": 113,
   "id": "0808cb3f",
   "metadata": {},
   "outputs": [
    {
     "data": {
      "text/plain": [
       "[3, 4, 23, 34, 45, 56, 100]"
      ]
     },
     "execution_count": 113,
     "metadata": {},
     "output_type": "execute_result"
    }
   ],
   "source": [
    "list1_sorted"
   ]
  },
  {
   "cell_type": "code",
   "execution_count": 115,
   "id": "1446755c",
   "metadata": {},
   "outputs": [
    {
     "data": {
      "text/plain": [
       "[100, 56, 45, 34, 23, 4, 3]"
      ]
     },
     "execution_count": 115,
     "metadata": {},
     "output_type": "execute_result"
    }
   ],
   "source": [
    "list(reversed(list1_sorted))"
   ]
  },
  {
   "cell_type": "code",
   "execution_count": 116,
   "id": "aa0e436f",
   "metadata": {},
   "outputs": [
    {
     "data": {
      "text/plain": [
       "['__add__',\n",
       " '__class__',\n",
       " '__class_getitem__',\n",
       " '__contains__',\n",
       " '__delattr__',\n",
       " '__delitem__',\n",
       " '__dir__',\n",
       " '__doc__',\n",
       " '__eq__',\n",
       " '__format__',\n",
       " '__ge__',\n",
       " '__getattribute__',\n",
       " '__getitem__',\n",
       " '__getstate__',\n",
       " '__gt__',\n",
       " '__hash__',\n",
       " '__iadd__',\n",
       " '__imul__',\n",
       " '__init__',\n",
       " '__init_subclass__',\n",
       " '__iter__',\n",
       " '__le__',\n",
       " '__len__',\n",
       " '__lt__',\n",
       " '__mul__',\n",
       " '__ne__',\n",
       " '__new__',\n",
       " '__reduce__',\n",
       " '__reduce_ex__',\n",
       " '__repr__',\n",
       " '__reversed__',\n",
       " '__rmul__',\n",
       " '__setattr__',\n",
       " '__setitem__',\n",
       " '__sizeof__',\n",
       " '__str__',\n",
       " '__subclasshook__',\n",
       " 'append',\n",
       " 'clear',\n",
       " 'copy',\n",
       " 'count',\n",
       " 'extend',\n",
       " 'index',\n",
       " 'insert',\n",
       " 'pop',\n",
       " 'remove',\n",
       " 'reverse',\n",
       " 'sort']"
      ]
     },
     "execution_count": 116,
     "metadata": {},
     "output_type": "execute_result"
    }
   ],
   "source": [
    "dir(list)"
   ]
  },
  {
   "cell_type": "code",
   "execution_count": 117,
   "id": "0ae90491",
   "metadata": {},
   "outputs": [
    {
     "data": {
      "text/plain": [
       "[100, 56, 45, 34, 23, 4, 3]"
      ]
     },
     "execution_count": 117,
     "metadata": {},
     "output_type": "execute_result"
    }
   ],
   "source": [
    "list1"
   ]
  },
  {
   "cell_type": "code",
   "execution_count": 118,
   "id": "65a3ad36",
   "metadata": {},
   "outputs": [
    {
     "data": {
      "text/plain": [
       "1"
      ]
     },
     "execution_count": 118,
     "metadata": {},
     "output_type": "execute_result"
    }
   ],
   "source": [
    "list1.count(4)"
   ]
  },
  {
   "cell_type": "code",
   "execution_count": 119,
   "id": "b3263671",
   "metadata": {},
   "outputs": [
    {
     "data": {
      "text/plain": [
       "[100, 56, 45, 34, 23, 4, 3]"
      ]
     },
     "execution_count": 119,
     "metadata": {},
     "output_type": "execute_result"
    }
   ],
   "source": [
    "list1"
   ]
  },
  {
   "cell_type": "code",
   "execution_count": 120,
   "id": "bbe3259d",
   "metadata": {},
   "outputs": [
    {
     "data": {
      "text/plain": [
       "0"
      ]
     },
     "execution_count": 120,
     "metadata": {},
     "output_type": "execute_result"
    }
   ],
   "source": [
    "list1.count(1)"
   ]
  },
  {
   "cell_type": "code",
   "execution_count": 121,
   "id": "a5dd925b",
   "metadata": {},
   "outputs": [],
   "source": [
    "list1.append(100)"
   ]
  },
  {
   "cell_type": "code",
   "execution_count": 122,
   "id": "eb876125",
   "metadata": {},
   "outputs": [
    {
     "data": {
      "text/plain": [
       "2"
      ]
     },
     "execution_count": 122,
     "metadata": {},
     "output_type": "execute_result"
    }
   ],
   "source": [
    "list1.count(100)"
   ]
  },
  {
   "cell_type": "code",
   "execution_count": 124,
   "id": "28971d3e",
   "metadata": {},
   "outputs": [],
   "source": [
    "list_str.clear()"
   ]
  },
  {
   "cell_type": "code",
   "execution_count": 125,
   "id": "28d26aa4",
   "metadata": {},
   "outputs": [
    {
     "data": {
      "text/plain": [
       "[]"
      ]
     },
     "execution_count": 125,
     "metadata": {},
     "output_type": "execute_result"
    }
   ],
   "source": [
    "list_str"
   ]
  },
  {
   "cell_type": "code",
   "execution_count": 126,
   "id": "8d81b2d8",
   "metadata": {},
   "outputs": [],
   "source": [
    "del list_str"
   ]
  },
  {
   "cell_type": "code",
   "execution_count": 127,
   "id": "0c3390fe",
   "metadata": {},
   "outputs": [
    {
     "ename": "NameError",
     "evalue": "name 'list_str' is not defined",
     "output_type": "error",
     "traceback": [
      "\u001b[0;31m---------------------------------------------------------------------------\u001b[0m",
      "\u001b[0;31mNameError\u001b[0m                                 Traceback (most recent call last)",
      "Cell \u001b[0;32mIn[127], line 1\u001b[0m\n\u001b[0;32m----> 1\u001b[0m list_str\n",
      "\u001b[0;31mNameError\u001b[0m: name 'list_str' is not defined"
     ]
    }
   ],
   "source": [
    "list_str"
   ]
  },
  {
   "cell_type": "code",
   "execution_count": 133,
   "id": "7a320792",
   "metadata": {},
   "outputs": [
    {
     "data": {
      "text/plain": [
       "[100, 56, 45, 34, 23, 4, 3, 100]"
      ]
     },
     "execution_count": 133,
     "metadata": {},
     "output_type": "execute_result"
    }
   ],
   "source": [
    "list1"
   ]
  },
  {
   "cell_type": "code",
   "execution_count": 135,
   "id": "84765e72",
   "metadata": {},
   "outputs": [],
   "source": [
    "list1_another = list1\n",
    "list1_another[0] = 1"
   ]
  },
  {
   "cell_type": "code",
   "execution_count": 138,
   "id": "9cf5b689",
   "metadata": {},
   "outputs": [
    {
     "data": {
      "text/plain": [
       "4365425344"
      ]
     },
     "execution_count": 138,
     "metadata": {},
     "output_type": "execute_result"
    }
   ],
   "source": [
    "id(list1_another)"
   ]
  },
  {
   "cell_type": "code",
   "execution_count": 139,
   "id": "ecb27e4b",
   "metadata": {},
   "outputs": [
    {
     "data": {
      "text/plain": [
       "4365425344"
      ]
     },
     "execution_count": 139,
     "metadata": {},
     "output_type": "execute_result"
    }
   ],
   "source": [
    "id(list1)"
   ]
  },
  {
   "cell_type": "code",
   "execution_count": 140,
   "id": "a0617208",
   "metadata": {},
   "outputs": [
    {
     "data": {
      "text/plain": [
       "[1, 56, 45, 34, 23, 4, 3, 100]"
      ]
     },
     "execution_count": 140,
     "metadata": {},
     "output_type": "execute_result"
    }
   ],
   "source": [
    "list1_another"
   ]
  },
  {
   "cell_type": "code",
   "execution_count": 141,
   "id": "96fea495",
   "metadata": {},
   "outputs": [
    {
     "data": {
      "text/plain": [
       "[1, 56, 45, 34, 23, 4, 3, 100]"
      ]
     },
     "execution_count": 141,
     "metadata": {},
     "output_type": "execute_result"
    }
   ],
   "source": [
    "list1"
   ]
  },
  {
   "cell_type": "code",
   "execution_count": 143,
   "id": "8e908b56",
   "metadata": {},
   "outputs": [],
   "source": [
    "list1_another[-1] = 50"
   ]
  },
  {
   "cell_type": "code",
   "execution_count": 144,
   "id": "757fc581",
   "metadata": {},
   "outputs": [
    {
     "data": {
      "text/plain": [
       "[1, 56, 45, 34, 23, 4, 3, 50]"
      ]
     },
     "execution_count": 144,
     "metadata": {},
     "output_type": "execute_result"
    }
   ],
   "source": [
    "list1"
   ]
  },
  {
   "cell_type": "code",
   "execution_count": 145,
   "id": "1ebf4c42",
   "metadata": {},
   "outputs": [],
   "source": [
    "list2 = list1.copy()"
   ]
  },
  {
   "cell_type": "code",
   "execution_count": 148,
   "id": "e7afa040",
   "metadata": {},
   "outputs": [
    {
     "data": {
      "text/plain": [
       "4365425344"
      ]
     },
     "execution_count": 148,
     "metadata": {},
     "output_type": "execute_result"
    }
   ],
   "source": [
    "id(list1)"
   ]
  },
  {
   "cell_type": "code",
   "execution_count": 149,
   "id": "37286a0a",
   "metadata": {},
   "outputs": [
    {
     "data": {
      "text/plain": [
       "4383060288"
      ]
     },
     "execution_count": 149,
     "metadata": {},
     "output_type": "execute_result"
    }
   ],
   "source": [
    "id(list2)"
   ]
  },
  {
   "cell_type": "code",
   "execution_count": 150,
   "id": "95d0c465",
   "metadata": {},
   "outputs": [
    {
     "data": {
      "text/plain": [
       "[1, 56, 45, 34, 23, 4, 3, 50]"
      ]
     },
     "execution_count": 150,
     "metadata": {},
     "output_type": "execute_result"
    }
   ],
   "source": [
    "list1"
   ]
  },
  {
   "cell_type": "code",
   "execution_count": 151,
   "id": "104104f6",
   "metadata": {},
   "outputs": [
    {
     "data": {
      "text/plain": [
       "[1, 56, 45, 34, 23, 4, 3, 50]"
      ]
     },
     "execution_count": 151,
     "metadata": {},
     "output_type": "execute_result"
    }
   ],
   "source": [
    "list2"
   ]
  },
  {
   "cell_type": "code",
   "execution_count": 152,
   "id": "89a2e053",
   "metadata": {},
   "outputs": [],
   "source": [
    "list2[0] = 1000"
   ]
  },
  {
   "cell_type": "code",
   "execution_count": 153,
   "id": "66ba95b5",
   "metadata": {},
   "outputs": [
    {
     "data": {
      "text/plain": [
       "[1, 56, 45, 34, 23, 4, 3, 50]"
      ]
     },
     "execution_count": 153,
     "metadata": {},
     "output_type": "execute_result"
    }
   ],
   "source": [
    "list1"
   ]
  },
  {
   "cell_type": "code",
   "execution_count": 154,
   "id": "3128e2ae",
   "metadata": {},
   "outputs": [
    {
     "data": {
      "text/plain": [
       "[1000, 56, 45, 34, 23, 4, 3, 50]"
      ]
     },
     "execution_count": 154,
     "metadata": {},
     "output_type": "execute_result"
    }
   ],
   "source": [
    "list2"
   ]
  },
  {
   "cell_type": "code",
   "execution_count": 161,
   "id": "52c3581d",
   "metadata": {},
   "outputs": [],
   "source": [
    "list2d = [[1, 2], [3, 4]]"
   ]
  },
  {
   "cell_type": "code",
   "execution_count": 162,
   "id": "1be101f9",
   "metadata": {},
   "outputs": [
    {
     "data": {
      "text/plain": [
       "[[1, 2], [3, 4]]"
      ]
     },
     "execution_count": 162,
     "metadata": {},
     "output_type": "execute_result"
    }
   ],
   "source": [
    "list2d"
   ]
  },
  {
   "cell_type": "code",
   "execution_count": 164,
   "id": "294d4fd1",
   "metadata": {},
   "outputs": [
    {
     "data": {
      "text/plain": [
       "[1, 2]"
      ]
     },
     "execution_count": 164,
     "metadata": {},
     "output_type": "execute_result"
    }
   ],
   "source": [
    "list2d[0]"
   ]
  },
  {
   "cell_type": "code",
   "execution_count": 167,
   "id": "1c5a72cb",
   "metadata": {},
   "outputs": [
    {
     "data": {
      "text/plain": [
       "1"
      ]
     },
     "execution_count": 167,
     "metadata": {},
     "output_type": "execute_result"
    }
   ],
   "source": [
    "list2d[0][0]"
   ]
  },
  {
   "cell_type": "code",
   "execution_count": 168,
   "id": "c71ddfab",
   "metadata": {},
   "outputs": [],
   "source": [
    "list2d_copy = list2d.copy()"
   ]
  },
  {
   "cell_type": "code",
   "execution_count": 170,
   "id": "5dffcb1a",
   "metadata": {},
   "outputs": [],
   "source": [
    "list2d_copy[0][0] = 100"
   ]
  },
  {
   "cell_type": "code",
   "execution_count": 171,
   "id": "c5b6d0f4",
   "metadata": {},
   "outputs": [
    {
     "data": {
      "text/plain": [
       "[[100, 2], [3, 4]]"
      ]
     },
     "execution_count": 171,
     "metadata": {},
     "output_type": "execute_result"
    }
   ],
   "source": [
    "list2d_copy"
   ]
  },
  {
   "cell_type": "code",
   "execution_count": 172,
   "id": "2c4890ad",
   "metadata": {},
   "outputs": [
    {
     "data": {
      "text/plain": [
       "[[100, 2], [3, 4]]"
      ]
     },
     "execution_count": 172,
     "metadata": {},
     "output_type": "execute_result"
    }
   ],
   "source": [
    "list2d"
   ]
  },
  {
   "cell_type": "code",
   "execution_count": 173,
   "id": "b12f1129",
   "metadata": {},
   "outputs": [],
   "source": [
    "list2d_2 = [1, 2, [3, 4]]"
   ]
  },
  {
   "cell_type": "code",
   "execution_count": 176,
   "id": "2d43b2cf",
   "metadata": {},
   "outputs": [
    {
     "name": "stdout",
     "output_type": "stream",
     "text": [
      "1\n",
      "[3, 4]\n"
     ]
    }
   ],
   "source": [
    "print(list2d_2[0])\n",
    "print(list2d_2[-1])"
   ]
  },
  {
   "cell_type": "code",
   "execution_count": 177,
   "id": "95cd9fc4",
   "metadata": {},
   "outputs": [],
   "source": [
    "list2d_2_copy = list2d_2.copy()"
   ]
  },
  {
   "cell_type": "code",
   "execution_count": 178,
   "id": "74f2e3ec",
   "metadata": {},
   "outputs": [],
   "source": [
    "list2d_2_copy[0] = 100\n",
    "list2d_2_copy[-1][-1] = 1000"
   ]
  },
  {
   "cell_type": "code",
   "execution_count": 179,
   "id": "e62b6fa7",
   "metadata": {},
   "outputs": [
    {
     "data": {
      "text/plain": [
       "[100, 2, [3, 1000]]"
      ]
     },
     "execution_count": 179,
     "metadata": {},
     "output_type": "execute_result"
    }
   ],
   "source": [
    "list2d_2_copy"
   ]
  },
  {
   "cell_type": "code",
   "execution_count": 180,
   "id": "b12b8f71",
   "metadata": {},
   "outputs": [
    {
     "data": {
      "text/plain": [
       "[1, 2, [3, 1000]]"
      ]
     },
     "execution_count": 180,
     "metadata": {},
     "output_type": "execute_result"
    }
   ],
   "source": [
    "list2d_2"
   ]
  },
  {
   "cell_type": "code",
   "execution_count": 181,
   "id": "3e6fe27b",
   "metadata": {},
   "outputs": [],
   "source": [
    "import copy"
   ]
  },
  {
   "cell_type": "code",
   "execution_count": 182,
   "id": "323e3e35",
   "metadata": {},
   "outputs": [],
   "source": [
    "list3 = copy.deepcopy(list2d_2)"
   ]
  },
  {
   "cell_type": "code",
   "execution_count": 183,
   "id": "bb23210f",
   "metadata": {},
   "outputs": [
    {
     "data": {
      "text/plain": [
       "[1, 2, [3, 1000]]"
      ]
     },
     "execution_count": 183,
     "metadata": {},
     "output_type": "execute_result"
    }
   ],
   "source": [
    "list2d_2"
   ]
  },
  {
   "cell_type": "code",
   "execution_count": 184,
   "id": "762eb655",
   "metadata": {},
   "outputs": [],
   "source": [
    "list3[0] = \"a\"\n",
    "list3[-1][-1] = \"apple\""
   ]
  },
  {
   "cell_type": "code",
   "execution_count": 185,
   "id": "ef4db161",
   "metadata": {},
   "outputs": [
    {
     "data": {
      "text/plain": [
       "['a', 2, [3, 'apple']]"
      ]
     },
     "execution_count": 185,
     "metadata": {},
     "output_type": "execute_result"
    }
   ],
   "source": [
    "list3"
   ]
  },
  {
   "cell_type": "code",
   "execution_count": 186,
   "id": "1c6ed61a",
   "metadata": {},
   "outputs": [
    {
     "data": {
      "text/plain": [
       "[1, 2, [3, 1000]]"
      ]
     },
     "execution_count": 186,
     "metadata": {},
     "output_type": "execute_result"
    }
   ],
   "source": [
    "list2d_2"
   ]
  },
  {
   "cell_type": "code",
   "execution_count": null,
   "id": "cf77b030",
   "metadata": {},
   "outputs": [],
   "source": []
  },
  {
   "cell_type": "code",
   "execution_count": 199,
   "id": "980f83b1",
   "metadata": {},
   "outputs": [],
   "source": [
    "def modify_list(a: list):\n",
    "    a[0] = 100\n",
    "    print(id(a))\n",
    "    print(\"In function:\", a)"
   ]
  },
  {
   "cell_type": "code",
   "execution_count": 200,
   "id": "fc9daf05",
   "metadata": {},
   "outputs": [
    {
     "name": "stdout",
     "output_type": "stream",
     "text": [
      "4388687040\n",
      "Before function call: [1, 2, 3]\n",
      "4388687040\n",
      "In function: [100, 2, 3]\n",
      "After function call: [100, 2, 3]\n"
     ]
    }
   ],
   "source": [
    "price = [1, 2, 3]\n",
    "print(id(price))\n",
    "print(\"Before function call:\", price)\n",
    "modify_list(price)\n",
    "print(\"After function call:\", price)"
   ]
  },
  {
   "cell_type": "code",
   "execution_count": 203,
   "id": "a088089c",
   "metadata": {},
   "outputs": [],
   "source": [
    "def modify_list2(a: list):\n",
    "    a = a.copy()\n",
    "    print(id(a))\n",
    "    a[0] = 100\n",
    "    print(\"In function:\", a)"
   ]
  },
  {
   "cell_type": "code",
   "execution_count": 204,
   "id": "45fb450a",
   "metadata": {},
   "outputs": [
    {
     "name": "stdout",
     "output_type": "stream",
     "text": [
      "4378113856\n",
      "Before function call: [1, 2, 3]\n",
      "4386588992\n",
      "In function: [100, 2, 3]\n",
      "After function call: [1, 2, 3]\n"
     ]
    }
   ],
   "source": [
    "price = [1, 2, 3]\n",
    "print(id(price))\n",
    "print(\"Before function call:\", price)\n",
    "modify_list2(price)\n",
    "print(\"After function call:\", price)"
   ]
  },
  {
   "cell_type": "code",
   "execution_count": null,
   "id": "1c8934ce",
   "metadata": {},
   "outputs": [],
   "source": []
  },
  {
   "cell_type": "code",
   "execution_count": 207,
   "id": "6859b926",
   "metadata": {},
   "outputs": [],
   "source": [
    "def modify_list3(*item, a=[]):\n",
    "    a.extend(item)\n",
    "    print(\"In function:\", a)"
   ]
  },
  {
   "cell_type": "code",
   "execution_count": 208,
   "id": "5b7df8ac",
   "metadata": {},
   "outputs": [
    {
     "name": "stdout",
     "output_type": "stream",
     "text": [
      "In function: [1, 2, 3]\n"
     ]
    }
   ],
   "source": [
    "modify_list3(1, 2, 3)"
   ]
  },
  {
   "cell_type": "code",
   "execution_count": 209,
   "id": "03242aac",
   "metadata": {},
   "outputs": [
    {
     "name": "stdout",
     "output_type": "stream",
     "text": [
      "In function: [1, 2, 3, 4, 5, 6]\n"
     ]
    }
   ],
   "source": [
    "modify_list3(4, 5, 6)"
   ]
  },
  {
   "cell_type": "code",
   "execution_count": 210,
   "id": "811198e8",
   "metadata": {},
   "outputs": [
    {
     "name": "stdout",
     "output_type": "stream",
     "text": [
      "In function: [1, 2, 3, 4, 5, 6, 7]\n"
     ]
    }
   ],
   "source": [
    "modify_list3(7)"
   ]
  },
  {
   "cell_type": "code",
   "execution_count": 211,
   "id": "39ad8110",
   "metadata": {},
   "outputs": [],
   "source": [
    "def modify_list4(*item, a=None):\n",
    "    if a is None:\n",
    "        a = []\n",
    "    a.extend(item)\n",
    "    print(\"In function:\", a)"
   ]
  },
  {
   "cell_type": "code",
   "execution_count": 212,
   "id": "b5d7f96d",
   "metadata": {},
   "outputs": [
    {
     "name": "stdout",
     "output_type": "stream",
     "text": [
      "In function: [1, 2, 3]\n"
     ]
    }
   ],
   "source": [
    "modify_list4(1, 2, 3)"
   ]
  },
  {
   "cell_type": "code",
   "execution_count": 213,
   "id": "9ec42a51",
   "metadata": {},
   "outputs": [
    {
     "name": "stdout",
     "output_type": "stream",
     "text": [
      "In function: [4, 5, 6]\n"
     ]
    }
   ],
   "source": [
    "modify_list4(4, 5, 6)"
   ]
  },
  {
   "cell_type": "code",
   "execution_count": null,
   "id": "27b8679f",
   "metadata": {},
   "outputs": [],
   "source": []
  },
  {
   "cell_type": "code",
   "execution_count": null,
   "id": "30019cbb",
   "metadata": {},
   "outputs": [],
   "source": []
  },
  {
   "cell_type": "code",
   "execution_count": null,
   "id": "96d73bbd",
   "metadata": {},
   "outputs": [],
   "source": []
  },
  {
   "cell_type": "markdown",
   "id": "ed19998f",
   "metadata": {},
   "source": [
    "## List Comprehensions\n",
    "\n",
    "List Comprehensions 提供了一個更簡潔的方法來創建 List。\n",
    "\n",
    "```python\n",
    "# 生成一個每個元素都是其平方的新 List\n",
    "squares = [x ** 2 for x in range(10)]\n",
    "```\n",
    "\n",
    "你還可以加入條件語句：\n",
    "```python\n",
    "# 生成一個只包含偶數平方的新 List\n",
    "even_squares = [x ** 2 for x in range(10) if x % 2 == 0]\n",
    "```\n"
   ]
  },
  {
   "cell_type": "code",
   "execution_count": 214,
   "id": "80881121",
   "metadata": {},
   "outputs": [
    {
     "data": {
      "text/plain": [
       "[0, 1, 4, 9, 16, 25, 36, 49, 64, 81]"
      ]
     },
     "execution_count": 214,
     "metadata": {},
     "output_type": "execute_result"
    }
   ],
   "source": [
    "squares = [x ** 2 for x in range(10)]\n",
    "squares"
   ]
  },
  {
   "cell_type": "code",
   "execution_count": 215,
   "id": "e27dda1b",
   "metadata": {},
   "outputs": [
    {
     "data": {
      "text/plain": [
       "[0, 1, 4, 9, 16, 25, 36, 49, 64, 81]"
      ]
     },
     "execution_count": 215,
     "metadata": {},
     "output_type": "execute_result"
    }
   ],
   "source": [
    "a = []\n",
    "for x in range(10):\n",
    "    a.append(x ** 2)\n",
    "a"
   ]
  },
  {
   "cell_type": "code",
   "execution_count": 216,
   "id": "69248522",
   "metadata": {},
   "outputs": [
    {
     "data": {
      "text/plain": [
       "[0, 4, 16, 36, 64]"
      ]
     },
     "execution_count": 216,
     "metadata": {},
     "output_type": "execute_result"
    }
   ],
   "source": [
    "even_squares = [x ** 2 for x in range(10) if x % 2 == 0]\n",
    "even_squares"
   ]
  },
  {
   "cell_type": "code",
   "execution_count": null,
   "id": "a59e92a5",
   "metadata": {},
   "outputs": [],
   "source": []
  },
  {
   "cell_type": "code",
   "execution_count": 262,
   "id": "78caef5c",
   "metadata": {},
   "outputs": [],
   "source": [
    "def square_normal():\n",
    "    squares = []\n",
    "    for i in range(10000):\n",
    "        squares.append(i ** 2)\n",
    "    return squares"
   ]
  },
  {
   "cell_type": "code",
   "execution_count": 263,
   "id": "f89f9416",
   "metadata": {},
   "outputs": [],
   "source": [
    "def square_comprehension():\n",
    "    return [i ** 2 for i in range(10000)]"
   ]
  },
  {
   "cell_type": "code",
   "execution_count": 266,
   "id": "22bc322e",
   "metadata": {},
   "outputs": [
    {
     "name": "stdout",
     "output_type": "stream",
     "text": [
      "291 µs ± 7.64 µs per loop (mean ± std. dev. of 7 runs, 1,000 loops each)\n"
     ]
    }
   ],
   "source": [
    "%timeit square_normal()"
   ]
  },
  {
   "cell_type": "code",
   "execution_count": 267,
   "id": "bcb838f8",
   "metadata": {},
   "outputs": [
    {
     "name": "stdout",
     "output_type": "stream",
     "text": [
      "260 µs ± 939 ns per loop (mean ± std. dev. of 7 runs, 1,000 loops each)\n"
     ]
    }
   ],
   "source": [
    "%timeit square_comprehension()"
   ]
  },
  {
   "cell_type": "code",
   "execution_count": null,
   "id": "33b4ac3e",
   "metadata": {},
   "outputs": [],
   "source": []
  },
  {
   "cell_type": "code",
   "execution_count": 272,
   "id": "add53111",
   "metadata": {},
   "outputs": [
    {
     "data": {
      "text/plain": [
       "[10, 11, 12, 13, 14, 15, 16, 17, 18, 19]"
      ]
     },
     "execution_count": 272,
     "metadata": {},
     "output_type": "execute_result"
    }
   ],
   "source": [
    "list1 = list(range(10, 20))\n",
    "list1"
   ]
  },
  {
   "cell_type": "code",
   "execution_count": 273,
   "id": "1abdf3cf",
   "metadata": {},
   "outputs": [
    {
     "name": "stdout",
     "output_type": "stream",
     "text": [
      "(0, 10)\n",
      "(1, 11)\n",
      "(2, 12)\n",
      "(3, 13)\n",
      "(4, 14)\n",
      "(5, 15)\n",
      "(6, 16)\n",
      "(7, 17)\n",
      "(8, 18)\n",
      "(9, 19)\n"
     ]
    }
   ],
   "source": [
    "for i in enumerate(list1):\n",
    "    print(i)"
   ]
  },
  {
   "cell_type": "code",
   "execution_count": 274,
   "id": "a302cb6e",
   "metadata": {},
   "outputs": [
    {
     "data": {
      "text/plain": [
       "['a', 'b', 'c']"
      ]
     },
     "execution_count": 274,
     "metadata": {},
     "output_type": "execute_result"
    }
   ],
   "source": [
    "list1 = list(\"abc\")\n",
    "list1"
   ]
  },
  {
   "cell_type": "code",
   "execution_count": 276,
   "id": "8a537615",
   "metadata": {},
   "outputs": [
    {
     "data": {
      "text/plain": [
       "[0, 1, 2]"
      ]
     },
     "execution_count": 276,
     "metadata": {},
     "output_type": "execute_result"
    }
   ],
   "source": [
    "list2 = list(range(3))\n",
    "list2"
   ]
  },
  {
   "cell_type": "code",
   "execution_count": 277,
   "id": "1f25d8ea",
   "metadata": {},
   "outputs": [
    {
     "name": "stdout",
     "output_type": "stream",
     "text": [
      "('a', 0)\n",
      "('b', 1)\n",
      "('c', 2)\n"
     ]
    }
   ],
   "source": [
    "for i in zip(list1, list2):\n",
    "    print(i)"
   ]
  },
  {
   "cell_type": "code",
   "execution_count": 285,
   "id": "fef96829",
   "metadata": {},
   "outputs": [
    {
     "data": {
      "text/plain": [
       "True"
      ]
     },
     "execution_count": 285,
     "metadata": {},
     "output_type": "execute_result"
    }
   ],
   "source": [
    "any([0, True, 0])"
   ]
  },
  {
   "cell_type": "code",
   "execution_count": 287,
   "id": "41268478",
   "metadata": {},
   "outputs": [
    {
     "data": {
      "text/plain": [
       "True"
      ]
     },
     "execution_count": 287,
     "metadata": {},
     "output_type": "execute_result"
    }
   ],
   "source": [
    "all([1, True, \"a\"])"
   ]
  },
  {
   "cell_type": "code",
   "execution_count": null,
   "id": "9d95366b",
   "metadata": {},
   "outputs": [],
   "source": []
  },
  {
   "cell_type": "code",
   "execution_count": null,
   "id": "9869f0b3",
   "metadata": {},
   "outputs": [],
   "source": []
  },
  {
   "cell_type": "code",
   "execution_count": null,
   "id": "12bb7c3a",
   "metadata": {},
   "outputs": [],
   "source": []
  },
  {
   "cell_type": "code",
   "execution_count": null,
   "id": "62d6ffed",
   "metadata": {},
   "outputs": [],
   "source": []
  },
  {
   "cell_type": "code",
   "execution_count": null,
   "id": "3d66dfbf",
   "metadata": {},
   "outputs": [],
   "source": []
  },
  {
   "cell_type": "code",
   "execution_count": null,
   "id": "70615f6c",
   "metadata": {},
   "outputs": [],
   "source": []
  },
  {
   "cell_type": "code",
   "execution_count": null,
   "id": "649d3755",
   "metadata": {},
   "outputs": [],
   "source": []
  }
 ],
 "metadata": {
  "kernelspec": {
   "display_name": "Python 3 (ipykernel)",
   "language": "python",
   "name": "python3"
  },
  "language_info": {
   "codemirror_mode": {
    "name": "ipython",
    "version": 3
   },
   "file_extension": ".py",
   "mimetype": "text/x-python",
   "name": "python",
   "nbconvert_exporter": "python",
   "pygments_lexer": "ipython3",
   "version": "3.11.4"
  }
 },
 "nbformat": 4,
 "nbformat_minor": 5
}
