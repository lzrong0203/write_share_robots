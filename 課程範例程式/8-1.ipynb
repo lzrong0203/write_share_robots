{
 "cells": [
  {
   "cell_type": "markdown",
   "id": "d3a487d6",
   "metadata": {},
   "source": [
    "# Python 「字典（Dictionary）」\n",
    "\n",
    "\n",
    "---\n",
    "\n",
    "## 1. 字典（Dictionary）簡介\n",
    "\n",
    "字典是一個無序的資料結構，用來儲存 `key-value` 對。它在資料查找、資料整理以及多種應用場合中都非常有用。\n",
    "\n",
    "### 基本語法\n",
    "\n",
    "#### 宣告字典\n",
    "\n",
    "```python\n",
    "# 空字典\n",
    "empty_dict = {}\n",
    "\n",
    "# 有初始值的字典\n",
    "person = {'name': 'John', 'age': 30, 'email': 'john@example.com'}\n",
    "```\n",
    "\n",
    "---\n",
    "\n",
    "## 2. 字典的基本操作\n",
    "\n",
    "### 添加元素\n",
    "\n",
    "```python\n",
    "person['phone'] = '123-4567'\n",
    "```\n",
    "\n",
    "### 取得元素\n",
    "\n",
    "```python\n",
    "name = person['name']  # John\n",
    "```\n",
    "\n",
    "### 刪除元素\n",
    "\n",
    "```python\n",
    "del person['email']\n",
    "```\n",
    "\n",
    "### 遍歷字典\n",
    "\n",
    "```python\n",
    "for key, value in person.items():\n",
    "    print(f\"{key}: {value}\")\n",
    "```\n",
    "\n",
    "---\n",
    "\n",
    "## 3. 字典的各種方法\n",
    "\n",
    "### 基本查詢與修改\n",
    "\n",
    "- `get(key, default=None)`\n",
    "- `setdefault(key, default=None)`\n",
    "- `update([other])`\n",
    "- `pop(key[, default])`\n",
    "- `popitem()`\n",
    "\n",
    "### 查詢字典\n",
    "\n",
    "- `keys()`\n",
    "- `values()`\n",
    "- `items()`\n",
    "\n",
    "### 其他操作\n",
    "\n",
    "- `clear()`\n",
    "- `copy()`\n",
    "\n",
    "---\n",
    "\n",
    "## 4. 字典在金融市場和股票分析中的應用\n",
    "\n",
    "### 股票價格資訊儲存\n",
    "\n",
    "```python\n",
    "stock_prices = {\n",
    "    'AAPL': 150.0,\n",
    "    'GOOGL': 1000.0,\n",
    "    'TSLA': 600.0,\n",
    "    'AMZN': 1900.0\n",
    "}\n",
    "```\n",
    "\n",
    "### 組合資產管理\n",
    "\n",
    "```python\n",
    "portfolio = {\n",
    "    'AAPL': 10,\n",
    "    'GOOGL': 2,\n",
    "    'TSLA': 5,\n",
    "    'AMZN': 1\n",
    "}\n",
    "```\n",
    "\n",
    "### 指標計算結果\n",
    "\n",
    "```python\n",
    "indicators = {\n",
    "    'AAPL': {'SMA_50': 145.0, 'SMA_200': 130.0},\n",
    "    'GOOGL': {'SMA_50': 950.0, 'SMA_200': 920.0},\n",
    "    # ...\n",
    "}\n",
    "```\n",
    "\n",
    "### 記錄交易紀錄\n",
    "\n",
    "```python\n",
    "trade_history = {\n",
    "    '2021-10-01': {'ticker': 'AAPL', 'action': 'BUY', 'price': 145.0, 'quantity': 10},\n",
    "    '2021-10-02': {'ticker': 'TSLA', 'action': 'SELL', 'price': 610.0, 'quantity': 5},\n",
    "    # ...\n",
    "}\n",
    "```\n",
    "\n",
    "### 經濟數據和金融報表\n",
    "\n",
    "```python\n",
    "financials = {\n",
    "    'AAPL': {'Revenue': 365_000_000_000, 'Net_Income': 75_000_000_000},\n",
    "    'GOOGL': {'Revenue': 182_000_000_000, 'Net_Income': 40_000_000_000},\n",
    "    # ...\n",
    "}\n",
    "```\n",
    "\n",
    "---\n",
    "\n"
   ]
  },
  {
   "cell_type": "markdown",
   "id": "f920271a",
   "metadata": {},
   "source": [
    "### Dictionary Comprehension 簡介\n",
    "\n",
    "Dictionary Comprehension 是一種簡潔的方式來創建字典（Dictionary）。它的語法類似於 List Comprehension，但是用來生成字典而非列表。\n",
    "\n",
    "### 基本語法\n",
    "\n",
    "基本的 Dictionary Comprehension 語法如下：\n",
    "\n",
    "```python\n",
    "{key: value for item in iterable}\n",
    "```\n",
    "\n",
    "### 範例與用法\n",
    "\n",
    "#### 基本用法\n",
    "\n",
    "以下是一個簡單的範例，將數字的平方存儲為字典：\n",
    "\n",
    "```python\n",
    "squares = {x: x*x for x in range(6)}\n",
    "# 輸出：{0: 0, 1: 1, 2: 4, 3: 9, 4: 16, 5: 25}\n",
    "```\n",
    "\n",
    "#### 使用條件語句\n",
    "\n",
    "您也可以在 Dictionary Comprehension 中使用條件語句：\n",
    "\n",
    "```python\n",
    "even_squares = {x: x*x for x in range(6) if x % 2 == 0}\n",
    "# 輸出：{0: 0, 2: 4, 4: 16}\n",
    "```\n",
    "\n",
    "#### 使用多個迴圈\n",
    "\n",
    "就像 List Comprehension，您也可以使用多個 `for` 子句：\n",
    "\n",
    "```python\n",
    "dict1 = {f\"pair_{a}_{b}\": a+b for a in range(3) for b in range(3)}\n",
    "# 輸出：{'pair_0_0': 0, 'pair_0_1': 1, 'pair_0_2': 2, 'pair_1_0': 1, 'pair_1_1': 2, 'pair_1_2': 3, 'pair_2_0': 2, 'pair_2_1': 3, 'pair_2_2': 4}\n",
    "```\n",
    "\n",
    "#### 從其他字典創建\n",
    "\n",
    "您也可以使用 Dictionary Comprehension 從一個字典創建另一個字典：\n",
    "\n",
    "```python\n",
    "original = {'a': 1, 'b': 2, 'c': 3}\n",
    "new_dict = {k: v * v for k, v in original.items()}\n",
    "# 輸出：{'a': 1, 'b': 4, 'c': 9}\n",
    "```\n",
    "\n",
    "#### 轉換鍵和值\n",
    "\n",
    "您也可以用它來轉換字典的鍵和值：\n",
    "\n",
    "```python\n",
    "original = {'a': 1, 'b': 2, 'c': 3}\n",
    "swapped_dict = {v: k for k, v in original.items()}\n",
    "# 輸出：{1: 'a', 2: 'b', 3: 'c'}\n",
    "```\n",
    "\n"
   ]
  },
  {
   "cell_type": "code",
   "execution_count": 2,
   "id": "51f29649",
   "metadata": {},
   "outputs": [],
   "source": [
    "fruits = {\"a\": \"apple\", \"b\": \"banana\", \"c\": \"cherry\"}"
   ]
  },
  {
   "cell_type": "code",
   "execution_count": 3,
   "id": "395ae5be",
   "metadata": {},
   "outputs": [
    {
     "data": {
      "text/plain": [
       "'apple'"
      ]
     },
     "execution_count": 3,
     "metadata": {},
     "output_type": "execute_result"
    }
   ],
   "source": [
    "fruits[\"a\"]"
   ]
  },
  {
   "cell_type": "code",
   "execution_count": 4,
   "id": "e4cc3369",
   "metadata": {},
   "outputs": [
    {
     "data": {
      "text/plain": [
       "'banana'"
      ]
     },
     "execution_count": 4,
     "metadata": {},
     "output_type": "execute_result"
    }
   ],
   "source": [
    "fruits[\"b\"]"
   ]
  },
  {
   "cell_type": "code",
   "execution_count": 5,
   "id": "b50bfc6d",
   "metadata": {},
   "outputs": [
    {
     "ename": "KeyError",
     "evalue": "'d'",
     "output_type": "error",
     "traceback": [
      "\u001b[0;31m---------------------------------------------------------------------------\u001b[0m",
      "\u001b[0;31mKeyError\u001b[0m                                  Traceback (most recent call last)",
      "Cell \u001b[0;32mIn[5], line 1\u001b[0m\n\u001b[0;32m----> 1\u001b[0m fruits[\u001b[38;5;124m\"\u001b[39m\u001b[38;5;124md\u001b[39m\u001b[38;5;124m\"\u001b[39m]\n",
      "\u001b[0;31mKeyError\u001b[0m: 'd'"
     ]
    }
   ],
   "source": [
    "fruits[\"d\"]"
   ]
  },
  {
   "cell_type": "code",
   "execution_count": 8,
   "id": "8ca4c808",
   "metadata": {},
   "outputs": [
    {
     "name": "stdout",
     "output_type": "stream",
     "text": [
      "0\n"
     ]
    }
   ],
   "source": [
    "print(fruits.get(\"d\", 0))"
   ]
  },
  {
   "cell_type": "code",
   "execution_count": 16,
   "id": "ec2fa28f",
   "metadata": {},
   "outputs": [
    {
     "name": "stdout",
     "output_type": "stream",
     "text": [
      "apple\n",
      "======\n",
      "apple\n"
     ]
    }
   ],
   "source": [
    "key = \"a\"\n",
    "if key in fruits:\n",
    "    print(fruits[key])\n",
    "else:\n",
    "    print(0)\n",
    "    \n",
    "print(\"======\")\n",
    "print(fruits.get(key, 0))"
   ]
  },
  {
   "cell_type": "code",
   "execution_count": 19,
   "id": "ebf9400a",
   "metadata": {},
   "outputs": [],
   "source": [
    "fruits[\"d\"] = \"durain\""
   ]
  },
  {
   "cell_type": "code",
   "execution_count": 21,
   "id": "0f2f61aa",
   "metadata": {},
   "outputs": [],
   "source": [
    "fruits[\"d\"] = \"dog\""
   ]
  },
  {
   "cell_type": "code",
   "execution_count": 23,
   "id": "5b8c2639",
   "metadata": {},
   "outputs": [],
   "source": [
    "fruits[\"ap\"] = \"apple\""
   ]
  },
  {
   "cell_type": "code",
   "execution_count": 25,
   "id": "8b45ce58",
   "metadata": {},
   "outputs": [
    {
     "name": "stdout",
     "output_type": "stream",
     "text": [
      "{'a': 'apple', 'b': 'banana', 'c': 'cherry', 'd': 'durain', 'ap': 'apple'}\n"
     ]
    }
   ],
   "source": [
    "fruits[\"d\"] = \"durain\"\n",
    "print(fruits)"
   ]
  },
  {
   "cell_type": "code",
   "execution_count": 26,
   "id": "29d802d0",
   "metadata": {},
   "outputs": [
    {
     "name": "stdout",
     "output_type": "stream",
     "text": [
      "{'a': 'apple', 'b': 'banana', 'c': 'cherry', 'd': 'durain'}\n"
     ]
    }
   ],
   "source": [
    "del fruits[\"ap\"]\n",
    "print(fruits)"
   ]
  },
  {
   "cell_type": "code",
   "execution_count": 32,
   "id": "78f36bf8",
   "metadata": {},
   "outputs": [
    {
     "name": "stdout",
     "output_type": "stream",
     "text": [
      "key: a\n",
      "key: b\n",
      "key: c\n",
      "key: d\n"
     ]
    }
   ],
   "source": [
    "for i in fruits:\n",
    "    print(\"key:\", i)"
   ]
  },
  {
   "cell_type": "code",
   "execution_count": 37,
   "id": "3de9373f",
   "metadata": {},
   "outputs": [
    {
     "name": "stdout",
     "output_type": "stream",
     "text": [
      "key: a, value: apple\n",
      "key: b, value: banana\n",
      "key: c, value: cherry\n",
      "key: d, value: durain\n"
     ]
    }
   ],
   "source": [
    "for k in fruits.keys():\n",
    "    print(f\"key: {k}, value: {fruits[k]}\")"
   ]
  },
  {
   "cell_type": "code",
   "execution_count": 36,
   "id": "18341587",
   "metadata": {},
   "outputs": [
    {
     "name": "stdout",
     "output_type": "stream",
     "text": [
      "value: apple\n",
      "value: banana\n",
      "value: cherry\n",
      "value: durain\n"
     ]
    }
   ],
   "source": [
    "for v in fruits.values():\n",
    "    print(f\"value: {v}\")"
   ]
  },
  {
   "cell_type": "code",
   "execution_count": 39,
   "id": "2d4376ba",
   "metadata": {},
   "outputs": [
    {
     "name": "stdout",
     "output_type": "stream",
     "text": [
      "a apple\n",
      "b banana\n",
      "c cherry\n",
      "d durain\n"
     ]
    }
   ],
   "source": [
    "for k, v in fruits.items():\n",
    "    print(k, v)"
   ]
  },
  {
   "cell_type": "code",
   "execution_count": 43,
   "id": "66e1f507",
   "metadata": {},
   "outputs": [
    {
     "data": {
      "text/plain": [
       "'durain'"
      ]
     },
     "execution_count": 43,
     "metadata": {},
     "output_type": "execute_result"
    }
   ],
   "source": [
    "fruits.setdefault(\"d\", \"dog\")"
   ]
  },
  {
   "cell_type": "code",
   "execution_count": 42,
   "id": "49db9784",
   "metadata": {},
   "outputs": [
    {
     "data": {
      "text/plain": [
       "{'a': 'apple', 'b': 'banana', 'c': 'cherry', 'd': 'durain', 'aa': 0}"
      ]
     },
     "execution_count": 42,
     "metadata": {},
     "output_type": "execute_result"
    }
   ],
   "source": [
    "fruits"
   ]
  },
  {
   "cell_type": "code",
   "execution_count": null,
   "id": "1143b87a",
   "metadata": {},
   "outputs": [],
   "source": [
    "fruits.update"
   ]
  },
  {
   "cell_type": "code",
   "execution_count": 44,
   "id": "37a3f1d6",
   "metadata": {},
   "outputs": [],
   "source": [
    "dict1 = {\"a\": 1, \"b\": 2}\n",
    "dict2 = {\"c\": 3, \"d\": 4}"
   ]
  },
  {
   "cell_type": "code",
   "execution_count": 45,
   "id": "37fc1ba4",
   "metadata": {},
   "outputs": [],
   "source": [
    "dict1.update(dict2)"
   ]
  },
  {
   "cell_type": "code",
   "execution_count": 47,
   "id": "0e4b8880",
   "metadata": {},
   "outputs": [
    {
     "name": "stdout",
     "output_type": "stream",
     "text": [
      "{'a': 1, 'b': 2, 'c': 3, 'd': 4}\n",
      "{'c': 3, 'd': 4}\n"
     ]
    }
   ],
   "source": [
    "print(dict1)\n",
    "print(dict2)"
   ]
  },
  {
   "cell_type": "code",
   "execution_count": 51,
   "id": "0557edcf",
   "metadata": {},
   "outputs": [],
   "source": [
    "dict1.update(e=5, f=6)"
   ]
  },
  {
   "cell_type": "code",
   "execution_count": 53,
   "id": "55ff9052",
   "metadata": {},
   "outputs": [],
   "source": [
    "dict1.update([(\"g\", 7), (\"h\", 8)])"
   ]
  },
  {
   "cell_type": "code",
   "execution_count": 54,
   "id": "d21ce2ab",
   "metadata": {},
   "outputs": [
    {
     "data": {
      "text/plain": [
       "{'a': 1, 'b': 2, 'c': 3, 'd': 4, 'e': 5, 'f': 6, 'g': 7, 'h': 8}"
      ]
     },
     "execution_count": 54,
     "metadata": {},
     "output_type": "execute_result"
    }
   ],
   "source": [
    "dict1"
   ]
  },
  {
   "cell_type": "code",
   "execution_count": 61,
   "id": "4db6b04a",
   "metadata": {},
   "outputs": [],
   "source": [
    "dict1.update({\"i\": 9}, j=10)"
   ]
  },
  {
   "cell_type": "code",
   "execution_count": 62,
   "id": "f51b14e1",
   "metadata": {},
   "outputs": [
    {
     "data": {
      "text/plain": [
       "{'a': 1,\n",
       " 'b': 2,\n",
       " 'c': 3,\n",
       " 'd': 4,\n",
       " 'e': 5,\n",
       " 'f': 6,\n",
       " 'g': 7,\n",
       " 'h': 8,\n",
       " 'j': 10,\n",
       " 'i': 9}"
      ]
     },
     "execution_count": 62,
     "metadata": {},
     "output_type": "execute_result"
    }
   ],
   "source": [
    "dict1"
   ]
  },
  {
   "cell_type": "code",
   "execution_count": 65,
   "id": "1271b308",
   "metadata": {},
   "outputs": [
    {
     "name": "stdout",
     "output_type": "stream",
     "text": [
      "{'a': 1, 'b': 2, 'c': 3, 'd': 4, 'e': 5, 'f': 6, 'g': 7, 'h': 8, 'j': 10, 'i': 9}\n",
      "pop 9\n",
      "======\n",
      "{'a': 1, 'b': 2, 'c': 3, 'd': 4, 'e': 5, 'f': 6, 'g': 7, 'h': 8, 'j': 10}\n",
      "pop 100\n",
      "======\n",
      "{'a': 1, 'b': 2, 'c': 3, 'd': 4, 'e': 5, 'f': 6, 'g': 7, 'h': 8, 'j': 10}\n"
     ]
    },
    {
     "ename": "KeyError",
     "evalue": "'i'",
     "output_type": "error",
     "traceback": [
      "\u001b[0;31m---------------------------------------------------------------------------\u001b[0m",
      "\u001b[0;31mKeyError\u001b[0m                                  Traceback (most recent call last)",
      "Cell \u001b[0;32mIn[65], line 9\u001b[0m\n\u001b[1;32m      7\u001b[0m \u001b[38;5;28mprint\u001b[39m(\u001b[38;5;124m\"\u001b[39m\u001b[38;5;124m======\u001b[39m\u001b[38;5;124m\"\u001b[39m)\n\u001b[1;32m      8\u001b[0m \u001b[38;5;28mprint\u001b[39m(dict1)\n\u001b[0;32m----> 9\u001b[0m \u001b[38;5;28mprint\u001b[39m(\u001b[38;5;124m\"\u001b[39m\u001b[38;5;124mpop\u001b[39m\u001b[38;5;124m\"\u001b[39m, dict1\u001b[38;5;241m.\u001b[39mpop(\u001b[38;5;124m\"\u001b[39m\u001b[38;5;124mi\u001b[39m\u001b[38;5;124m\"\u001b[39m))\n\u001b[1;32m     10\u001b[0m \u001b[38;5;28mprint\u001b[39m(\u001b[38;5;124m\"\u001b[39m\u001b[38;5;124m======\u001b[39m\u001b[38;5;124m\"\u001b[39m)\n\u001b[1;32m     11\u001b[0m \u001b[38;5;28mprint\u001b[39m(dict1)\n",
      "\u001b[0;31mKeyError\u001b[0m: 'i'"
     ]
    }
   ],
   "source": [
    "dict1 = {'a': 1, 'b': 2, 'c': 3, 'd': 4, 'e': 5, 'f': 6, 'g': 7, 'h': 8, 'j': 10, 'i': 9}\n",
    "print(dict1)\n",
    "print(\"pop\", dict1.pop(\"i\", 100))\n",
    "print(\"======\")\n",
    "print(dict1)\n",
    "print(\"pop\", dict1.pop(\"i\", 100))\n",
    "print(\"======\")\n",
    "print(dict1)\n",
    "print(\"pop\", dict1.pop(\"i\"))\n",
    "print(\"======\")\n",
    "print(dict1)"
   ]
  },
  {
   "cell_type": "code",
   "execution_count": 66,
   "id": "eaeeab46",
   "metadata": {},
   "outputs": [
    {
     "data": {
      "text/plain": [
       "('j', 10)"
      ]
     },
     "execution_count": 66,
     "metadata": {},
     "output_type": "execute_result"
    }
   ],
   "source": [
    "dict1.popitem()"
   ]
  },
  {
   "cell_type": "code",
   "execution_count": 67,
   "id": "67d1b36d",
   "metadata": {},
   "outputs": [
    {
     "data": {
      "text/plain": [
       "{'a': 1, 'b': 2, 'c': 3, 'd': 4, 'e': 5, 'f': 6, 'g': 7, 'h': 8}"
      ]
     },
     "execution_count": 67,
     "metadata": {},
     "output_type": "execute_result"
    }
   ],
   "source": [
    "print(dict1)"
   ]
  },
  {
   "cell_type": "code",
   "execution_count": 68,
   "id": "f4c8ba53",
   "metadata": {},
   "outputs": [
    {
     "data": {
      "text/plain": [
       "('h', 8)"
      ]
     },
     "execution_count": 68,
     "metadata": {},
     "output_type": "execute_result"
    }
   ],
   "source": [
    "dict1.popitem()"
   ]
  },
  {
   "cell_type": "code",
   "execution_count": 69,
   "id": "cad1a143",
   "metadata": {},
   "outputs": [
    {
     "data": {
      "text/plain": [
       "('g', 7)"
      ]
     },
     "execution_count": 69,
     "metadata": {},
     "output_type": "execute_result"
    }
   ],
   "source": [
    "dict1.popitem()"
   ]
  },
  {
   "cell_type": "code",
   "execution_count": 72,
   "id": "5f5be632",
   "metadata": {},
   "outputs": [
    {
     "data": {
      "text/plain": [
       "('f', 6)"
      ]
     },
     "execution_count": 72,
     "metadata": {},
     "output_type": "execute_result"
    }
   ],
   "source": [
    "dict1.popitem()"
   ]
  },
  {
   "cell_type": "code",
   "execution_count": 73,
   "id": "504d947d",
   "metadata": {},
   "outputs": [],
   "source": [
    "dict1[\"d\"] = \"dog\""
   ]
  },
  {
   "cell_type": "code",
   "execution_count": 74,
   "id": "0bb3f57c",
   "metadata": {},
   "outputs": [
    {
     "data": {
      "text/plain": [
       "{'a': 1, 'b': 2, 'c': 3, 'd': 'dog', 'e': 5}"
      ]
     },
     "execution_count": 74,
     "metadata": {},
     "output_type": "execute_result"
    }
   ],
   "source": [
    "dict1"
   ]
  },
  {
   "cell_type": "code",
   "execution_count": 75,
   "id": "66f27855",
   "metadata": {},
   "outputs": [
    {
     "data": {
      "text/plain": [
       "('e', 5)"
      ]
     },
     "execution_count": 75,
     "metadata": {},
     "output_type": "execute_result"
    }
   ],
   "source": [
    "dict1.popitem()"
   ]
  },
  {
   "cell_type": "code",
   "execution_count": 76,
   "id": "b7548a2f",
   "metadata": {},
   "outputs": [],
   "source": [
    "dict1.clear()"
   ]
  },
  {
   "cell_type": "code",
   "execution_count": 78,
   "id": "09034f66",
   "metadata": {},
   "outputs": [],
   "source": [
    "del dict1"
   ]
  },
  {
   "cell_type": "code",
   "execution_count": 79,
   "id": "b2df5769",
   "metadata": {},
   "outputs": [
    {
     "ename": "NameError",
     "evalue": "name 'dict1' is not defined",
     "output_type": "error",
     "traceback": [
      "\u001b[0;31m---------------------------------------------------------------------------\u001b[0m",
      "\u001b[0;31mNameError\u001b[0m                                 Traceback (most recent call last)",
      "Cell \u001b[0;32mIn[79], line 1\u001b[0m\n\u001b[0;32m----> 1\u001b[0m dict1\n",
      "\u001b[0;31mNameError\u001b[0m: name 'dict1' is not defined"
     ]
    }
   ],
   "source": [
    "dict1"
   ]
  },
  {
   "cell_type": "code",
   "execution_count": 84,
   "id": "61c404d0",
   "metadata": {},
   "outputs": [
    {
     "data": {
      "text/plain": [
       "97"
      ]
     },
     "execution_count": 84,
     "metadata": {},
     "output_type": "execute_result"
    }
   ],
   "source": [
    "ord(\"a\")"
   ]
  },
  {
   "cell_type": "code",
   "execution_count": 87,
   "id": "1fb4e5fa",
   "metadata": {},
   "outputs": [
    {
     "data": {
      "text/plain": [
       "{'a': 1,\n",
       " 'b': 2,\n",
       " 'c': 3,\n",
       " 'd': 4,\n",
       " 'e': 5,\n",
       " 'f': 6,\n",
       " 'g': 7,\n",
       " 'h': 8,\n",
       " 'i': 9,\n",
       " 'j': 10}"
      ]
     },
     "execution_count": 87,
     "metadata": {},
     "output_type": "execute_result"
    }
   ],
   "source": [
    "dict1 = {chr(ord(\"a\") + x): x + 1 for x in range(10)}\n",
    "dict1"
   ]
  },
  {
   "cell_type": "code",
   "execution_count": 89,
   "id": "c26870b9",
   "metadata": {},
   "outputs": [
    {
     "data": {
      "text/plain": [
       "{'a': 1, 'c': 3, 'e': 5, 'g': 7, 'i': 9}"
      ]
     },
     "execution_count": 89,
     "metadata": {},
     "output_type": "execute_result"
    }
   ],
   "source": [
    "dict1 = {chr(ord(\"a\") + x): x + 1 for x in range(10) if x % 2 == 0}\n",
    "dict1"
   ]
  },
  {
   "cell_type": "code",
   "execution_count": 95,
   "id": "3f4454c1",
   "metadata": {},
   "outputs": [
    {
     "data": {
      "text/plain": [
       "{'pair_0_0': 0,\n",
       " 'pair_0_1': 1,\n",
       " 'pair_0_2': 2,\n",
       " 'pair_1_0': 1,\n",
       " 'pair_1_1': 2,\n",
       " 'pair_1_2': 3,\n",
       " 'pair_2_0': 2,\n",
       " 'pair_2_1': 3,\n",
       " 'pair_2_2': 4}"
      ]
     },
     "execution_count": 95,
     "metadata": {},
     "output_type": "execute_result"
    }
   ],
   "source": [
    "dict1 = {f\"pair_{a}_{b}\": a + b for a in range(3) for b in range(3)}\n",
    "dict1"
   ]
  },
  {
   "cell_type": "code",
   "execution_count": 99,
   "id": "b5fd2f66",
   "metadata": {},
   "outputs": [
    {
     "name": "stdout",
     "output_type": "stream",
     "text": [
      "012\n",
      "123\n",
      "234\n"
     ]
    }
   ],
   "source": [
    "for a in range(3):\n",
    "    for b in range(3):\n",
    "        print(a + b, end=\"\")\n",
    "    print()"
   ]
  },
  {
   "cell_type": "code",
   "execution_count": 100,
   "id": "6499ed31",
   "metadata": {},
   "outputs": [
    {
     "data": {
      "text/plain": [
       "{'pair_0_0': 0,\n",
       " 'pair_0_1': 1,\n",
       " 'pair_0_2': 2,\n",
       " 'pair_1_0': 1,\n",
       " 'pair_1_1': 2,\n",
       " 'pair_1_2': 3,\n",
       " 'pair_2_0': 2,\n",
       " 'pair_2_1': 3,\n",
       " 'pair_2_2': 4}"
      ]
     },
     "execution_count": 100,
     "metadata": {},
     "output_type": "execute_result"
    }
   ],
   "source": [
    "dict1"
   ]
  },
  {
   "cell_type": "code",
   "execution_count": 102,
   "id": "dd940f4e",
   "metadata": {},
   "outputs": [
    {
     "data": {
      "text/plain": [
       "{'a': 1,\n",
       " 'b': 2,\n",
       " 'c': 3,\n",
       " 'd': 4,\n",
       " 'e': 5,\n",
       " 'f': 6,\n",
       " 'g': 7,\n",
       " 'h': 8,\n",
       " 'i': 9,\n",
       " 'j': 10}"
      ]
     },
     "execution_count": 102,
     "metadata": {},
     "output_type": "execute_result"
    }
   ],
   "source": [
    "dict1 = {chr(ord(\"a\") + x): x + 1 for x in range(10)}\n",
    "dict1"
   ]
  },
  {
   "cell_type": "code",
   "execution_count": 103,
   "id": "a4995beb",
   "metadata": {},
   "outputs": [
    {
     "data": {
      "text/plain": [
       "{1: 'a',\n",
       " 2: 'b',\n",
       " 3: 'c',\n",
       " 4: 'd',\n",
       " 5: 'e',\n",
       " 6: 'f',\n",
       " 7: 'g',\n",
       " 8: 'h',\n",
       " 9: 'i',\n",
       " 10: 'j'}"
      ]
     },
     "execution_count": 103,
     "metadata": {},
     "output_type": "execute_result"
    }
   ],
   "source": [
    "dict2 = {}  # dict()\n",
    "for k, v in dict1.items():\n",
    "    dict2[v] = k\n",
    "dict2"
   ]
  },
  {
   "cell_type": "code",
   "execution_count": 105,
   "id": "8805edf0",
   "metadata": {},
   "outputs": [
    {
     "data": {
      "text/plain": [
       "{1: 'a',\n",
       " 2: 'b',\n",
       " 3: 'c',\n",
       " 4: 'd',\n",
       " 5: 'e',\n",
       " 6: 'f',\n",
       " 7: 'g',\n",
       " 8: 'h',\n",
       " 9: 'i',\n",
       " 10: 'j'}"
      ]
     },
     "execution_count": 105,
     "metadata": {},
     "output_type": "execute_result"
    }
   ],
   "source": [
    "{v: k for k, v in dict1.items()}"
   ]
  },
  {
   "cell_type": "code",
   "execution_count": 109,
   "id": "b08cfa95",
   "metadata": {},
   "outputs": [],
   "source": [
    "str1 = \"Hello, my name is Steve and I am a programmer.\"\n",
    "str1_counter = {}\n",
    "for c in str1:\n",
    "    if c in str1_counter:\n",
    "        str1_counter[c] += 1  # str1_count[c] = str1_count[c] + 1 \n",
    "    else:\n",
    "        str1_counter[c] = 1"
   ]
  },
  {
   "cell_type": "code",
   "execution_count": 110,
   "id": "5ad66842",
   "metadata": {},
   "outputs": [
    {
     "data": {
      "text/plain": [
       "{'H': 1,\n",
       " 'e': 5,\n",
       " 'l': 2,\n",
       " 'o': 2,\n",
       " ',': 1,\n",
       " ' ': 9,\n",
       " 'm': 5,\n",
       " 'y': 1,\n",
       " 'n': 2,\n",
       " 'a': 5,\n",
       " 'i': 1,\n",
       " 's': 1,\n",
       " 'S': 1,\n",
       " 't': 1,\n",
       " 'v': 1,\n",
       " 'd': 1,\n",
       " 'I': 1,\n",
       " 'p': 1,\n",
       " 'r': 3,\n",
       " 'g': 1,\n",
       " '.': 1}"
      ]
     },
     "execution_count": 110,
     "metadata": {},
     "output_type": "execute_result"
    }
   ],
   "source": [
    "str1_counter"
   ]
  },
  {
   "cell_type": "code",
   "execution_count": 131,
   "id": "4c4dcd49",
   "metadata": {},
   "outputs": [],
   "source": [
    "str1 = \"Hello, my name is Steve and I am a programmer.\"\n",
    "str1_counter = {}\n",
    "for c in str1:\n",
    "    str1_counter[c] = str1_counter.get(c, 0) + 1"
   ]
  },
  {
   "cell_type": "code",
   "execution_count": 147,
   "id": "b6d88bfa",
   "metadata": {},
   "outputs": [],
   "source": [
    "str1 = \"Hello, my name is Steve and I am a programmer. I am 40 years old. My last name is Lai.\"\n",
    "str1_counter = {}\n",
    "for sub in str1.lower().split():\n",
    "    sub = sub.strip(\".\").strip(\",\")\n",
    "    str1_counter[sub] = str1_counter.get(sub, 0) + 1"
   ]
  },
  {
   "cell_type": "code",
   "execution_count": 148,
   "id": "cc77452b",
   "metadata": {},
   "outputs": [
    {
     "data": {
      "text/plain": [
       "{'hello': 1,\n",
       " 'my': 2,\n",
       " 'name': 2,\n",
       " 'is': 2,\n",
       " 'steve': 1,\n",
       " 'and': 1,\n",
       " 'i': 2,\n",
       " 'am': 2,\n",
       " 'a': 1,\n",
       " 'programmer': 1,\n",
       " '40': 1,\n",
       " 'years': 1,\n",
       " 'old': 1,\n",
       " 'last': 1,\n",
       " 'lai': 1}"
      ]
     },
     "execution_count": 148,
     "metadata": {},
     "output_type": "execute_result"
    }
   ],
   "source": [
    "str1_counter"
   ]
  },
  {
   "cell_type": "code",
   "execution_count": null,
   "id": "5e04b39b",
   "metadata": {},
   "outputs": [],
   "source": []
  },
  {
   "cell_type": "code",
   "execution_count": null,
   "id": "796aa6f8",
   "metadata": {},
   "outputs": [],
   "source": []
  },
  {
   "cell_type": "code",
   "execution_count": null,
   "id": "b2d5fe97",
   "metadata": {},
   "outputs": [],
   "source": []
  },
  {
   "cell_type": "code",
   "execution_count": null,
   "id": "4dff4cc5",
   "metadata": {},
   "outputs": [],
   "source": []
  },
  {
   "cell_type": "code",
   "execution_count": null,
   "id": "9461412b",
   "metadata": {},
   "outputs": [],
   "source": []
  },
  {
   "cell_type": "code",
   "execution_count": null,
   "id": "174de1c8",
   "metadata": {},
   "outputs": [],
   "source": []
  },
  {
   "cell_type": "code",
   "execution_count": null,
   "id": "1261deb1",
   "metadata": {},
   "outputs": [],
   "source": []
  }
 ],
 "metadata": {
  "kernelspec": {
   "display_name": "Python 3 (ipykernel)",
   "language": "python",
   "name": "python3"
  },
  "language_info": {
   "codemirror_mode": {
    "name": "ipython",
    "version": 3
   },
   "file_extension": ".py",
   "mimetype": "text/x-python",
   "name": "python",
   "nbconvert_exporter": "python",
   "pygments_lexer": "ipython3",
   "version": "3.11.4"
  }
 },
 "nbformat": 4,
 "nbformat_minor": 5
}
