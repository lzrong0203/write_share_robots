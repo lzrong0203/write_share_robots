{
 "cells": [
  {
   "cell_type": "markdown",
   "id": "cd6e36ae",
   "metadata": {},
   "source": [
    "Python 的匿名函數（Anonymous Functions）又稱為 Lambda 函數，提供了一個快捷的方式來聲明小型且無名的函數。Lambda 函數可以有任何數量的參數，但只能有一個表達式。表達式的計算結果會自動成為函數的返回值。\n",
    "\n",
    "### Lambda 函數語法：\n",
    "\n",
    "```python\n",
    "lambda arguments: expression\n",
    "```\n",
    "\n",
    "- `arguments`：參數列表，可以有多個，用逗號隔開。\n",
    "- `expression`：表達式，執行後的結果會被直接返回。\n",
    "\n",
    "### 使用時機：\n",
    "\n",
    "1. **簡化代碼**：當需要一個函數，但它足夠簡單到只有一行，且只會用一次。\n",
    "2. **作為參數傳遞**：常用於高階函數（如 `map()`、`filter()`、`sorted()` 等）的參數，這些函數接受其他函數作為參數。\n",
    "\n"
   ]
  },
  {
   "cell_type": "code",
   "execution_count": 2,
   "id": "3499bebb",
   "metadata": {},
   "outputs": [],
   "source": [
    "def f1(x, y):\n",
    "    return x + y"
   ]
  },
  {
   "cell_type": "code",
   "execution_count": 3,
   "id": "f805fad4",
   "metadata": {},
   "outputs": [
    {
     "data": {
      "text/plain": [
       "8"
      ]
     },
     "execution_count": 3,
     "metadata": {},
     "output_type": "execute_result"
    }
   ],
   "source": [
    "f1(3, 5)"
   ]
  },
  {
   "cell_type": "code",
   "execution_count": 4,
   "id": "1ab973c6",
   "metadata": {},
   "outputs": [],
   "source": [
    "addTwoNum = f1"
   ]
  },
  {
   "cell_type": "code",
   "execution_count": 5,
   "id": "b6d777c9",
   "metadata": {},
   "outputs": [
    {
     "data": {
      "text/plain": [
       "8"
      ]
     },
     "execution_count": 5,
     "metadata": {},
     "output_type": "execute_result"
    }
   ],
   "source": [
    "addTwoNum(3, 5)"
   ]
  },
  {
   "cell_type": "code",
   "execution_count": 8,
   "id": "e33ed671",
   "metadata": {},
   "outputs": [],
   "source": [
    "addNum = lambda x, y: x + y"
   ]
  },
  {
   "cell_type": "code",
   "execution_count": 9,
   "id": "af2848fc",
   "metadata": {},
   "outputs": [
    {
     "data": {
      "text/plain": [
       "8"
      ]
     },
     "execution_count": 9,
     "metadata": {},
     "output_type": "execute_result"
    }
   ],
   "source": [
    "addNum(3, 5)"
   ]
  },
  {
   "cell_type": "code",
   "execution_count": 10,
   "id": "61eeb3d5",
   "metadata": {},
   "outputs": [
    {
     "data": {
      "text/plain": [
       "[0, 1, 2, 3, 4]"
      ]
     },
     "execution_count": 10,
     "metadata": {},
     "output_type": "execute_result"
    }
   ],
   "source": [
    "list1 = list(range(5))\n",
    "list1"
   ]
  },
  {
   "cell_type": "code",
   "execution_count": 11,
   "id": "ec7a0356",
   "metadata": {},
   "outputs": [],
   "source": [
    "def f2(x):\n",
    "    return x ** 2"
   ]
  },
  {
   "cell_type": "code",
   "execution_count": 12,
   "id": "55cdea6e",
   "metadata": {},
   "outputs": [
    {
     "data": {
      "text/plain": [
       "9"
      ]
     },
     "execution_count": 12,
     "metadata": {},
     "output_type": "execute_result"
    }
   ],
   "source": [
    "f2(3)"
   ]
  },
  {
   "cell_type": "code",
   "execution_count": 14,
   "id": "4a8df377",
   "metadata": {},
   "outputs": [
    {
     "data": {
      "text/plain": [
       "[0, 1, 4, 9, 16]"
      ]
     },
     "execution_count": 14,
     "metadata": {},
     "output_type": "execute_result"
    }
   ],
   "source": [
    "list(map(f2, list1))"
   ]
  },
  {
   "cell_type": "code",
   "execution_count": 15,
   "id": "55c05790",
   "metadata": {},
   "outputs": [
    {
     "data": {
      "text/plain": [
       "[0, 1, 4, 9, 16]"
      ]
     },
     "execution_count": 15,
     "metadata": {},
     "output_type": "execute_result"
    }
   ],
   "source": [
    "list(map(lambda x: x ** 2, list1))"
   ]
  },
  {
   "cell_type": "code",
   "execution_count": 17,
   "id": "ae727ec4",
   "metadata": {},
   "outputs": [
    {
     "data": {
      "text/plain": [
       "[0, 2, 4]"
      ]
     },
     "execution_count": 17,
     "metadata": {},
     "output_type": "execute_result"
    }
   ],
   "source": [
    "list(filter(lambda x: x % 2 == 0, list1))"
   ]
  },
  {
   "cell_type": "code",
   "execution_count": 19,
   "id": "1bcce8d4",
   "metadata": {},
   "outputs": [
    {
     "data": {
      "text/plain": [
       "['even', 'odd', 'even', 'odd', 'even']"
      ]
     },
     "execution_count": 19,
     "metadata": {},
     "output_type": "execute_result"
    }
   ],
   "source": [
    "list(map(lambda x: \"even\" if x % 2 == 0 else \"odd\", list1))"
   ]
  },
  {
   "cell_type": "code",
   "execution_count": null,
   "id": "53ed3a51",
   "metadata": {},
   "outputs": [],
   "source": []
  },
  {
   "cell_type": "code",
   "execution_count": null,
   "id": "9986e694",
   "metadata": {},
   "outputs": [],
   "source": []
  },
  {
   "cell_type": "code",
   "execution_count": null,
   "id": "771e68b8",
   "metadata": {},
   "outputs": [],
   "source": []
  },
  {
   "cell_type": "code",
   "execution_count": null,
   "id": "ab8f7292",
   "metadata": {},
   "outputs": [],
   "source": []
  },
  {
   "cell_type": "code",
   "execution_count": null,
   "id": "7e7533ed",
   "metadata": {},
   "outputs": [],
   "source": []
  }
 ],
 "metadata": {
  "kernelspec": {
   "display_name": "Python 3 (ipykernel)",
   "language": "python",
   "name": "python3"
  },
  "language_info": {
   "codemirror_mode": {
    "name": "ipython",
    "version": 3
   },
   "file_extension": ".py",
   "mimetype": "text/x-python",
   "name": "python",
   "nbconvert_exporter": "python",
   "pygments_lexer": "ipython3",
   "version": "3.11.4"
  }
 },
 "nbformat": 4,
 "nbformat_minor": 5
}
