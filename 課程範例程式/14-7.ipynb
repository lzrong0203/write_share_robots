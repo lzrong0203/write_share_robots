{
 "cells": [
  {
   "cell_type": "code",
   "execution_count": 32,
   "id": "f78f9596",
   "metadata": {},
   "outputs": [],
   "source": [
    "import numpy as np\n",
    "import numpy.random as nr\n",
    "# from numpy import random as nr"
   ]
  },
  {
   "cell_type": "code",
   "execution_count": 33,
   "id": "c3a13c49",
   "metadata": {},
   "outputs": [
    {
     "data": {
      "text/plain": [
       "array([[0.5488135 , 0.71518937, 0.60276338, 0.54488318],\n",
       "       [0.4236548 , 0.64589411, 0.43758721, 0.891773  ],\n",
       "       [0.96366276, 0.38344152, 0.79172504, 0.52889492]])"
      ]
     },
     "execution_count": 33,
     "metadata": {},
     "output_type": "execute_result"
    }
   ],
   "source": [
    "nr.seed(0)\n",
    "nr.rand(3, 4)"
   ]
  },
  {
   "cell_type": "code",
   "execution_count": 31,
   "id": "5c8dee7f",
   "metadata": {},
   "outputs": [
    {
     "data": {
      "text/plain": [
       "array([[ 1.76405235,  0.40015721,  0.97873798,  2.2408932 ],\n",
       "       [ 1.86755799, -0.97727788,  0.95008842, -0.15135721],\n",
       "       [-0.10321885,  0.4105985 ,  0.14404357,  1.45427351]])"
      ]
     },
     "execution_count": 31,
     "metadata": {},
     "output_type": "execute_result"
    }
   ],
   "source": [
    "np.random.seed(0)\n",
    "np.random.randn(3, 4)"
   ]
  },
  {
   "cell_type": "code",
   "execution_count": 49,
   "id": "c1289183",
   "metadata": {},
   "outputs": [
    {
     "data": {
      "text/plain": [
       "array([[ 0.12573022, -0.13210486,  0.64042265,  0.10490012],\n",
       "       [-0.53566937,  0.36159505,  1.30400005,  0.94708096],\n",
       "       [-0.70373524, -1.26542147, -0.62327446,  0.04132598]])"
      ]
     },
     "execution_count": 49,
     "metadata": {},
     "output_type": "execute_result"
    }
   ],
   "source": [
    "rng = nr.default_rng(seed=0)\n",
    "rng.standard_normal((3, 4))"
   ]
  },
  {
   "cell_type": "code",
   "execution_count": 54,
   "id": "564a766b",
   "metadata": {},
   "outputs": [
    {
     "data": {
      "text/plain": [
       "array([[14,  7,  2,  5],\n",
       "       [13,  5,  9, 11],\n",
       "       [ 5,  7,  4,  6]])"
      ]
     },
     "execution_count": 54,
     "metadata": {},
     "output_type": "execute_result"
    }
   ],
   "source": [
    "nr.seed(0)\n",
    "nr.randint(2, 15, size=(3, 4))"
   ]
  },
  {
   "cell_type": "code",
   "execution_count": 59,
   "id": "0144c687",
   "metadata": {},
   "outputs": [
    {
     "data": {
      "text/plain": [
       "array([[10.48813504, 12.15189366, 11.02763376, 10.44883183],\n",
       "       [ 9.23654799, 11.45894113,  9.37587211, 13.91773001],\n",
       "       [14.63662761,  8.83441519, 12.91725038, 10.2889492 ]])"
      ]
     },
     "execution_count": 59,
     "metadata": {},
     "output_type": "execute_result"
    }
   ],
   "source": [
    "nr.seed(0)\n",
    "10 * nr.random((3, 4)) + 5"
   ]
  },
  {
   "cell_type": "code",
   "execution_count": null,
   "id": "0fe36a2d",
   "metadata": {},
   "outputs": [],
   "source": []
  },
  {
   "cell_type": "code",
   "execution_count": null,
   "id": "aa0ff099",
   "metadata": {},
   "outputs": [],
   "source": []
  },
  {
   "cell_type": "code",
   "execution_count": null,
   "id": "e3ac038c",
   "metadata": {},
   "outputs": [],
   "source": []
  },
  {
   "cell_type": "code",
   "execution_count": null,
   "id": "562658fb",
   "metadata": {},
   "outputs": [],
   "source": []
  },
  {
   "cell_type": "code",
   "execution_count": null,
   "id": "e133e352",
   "metadata": {},
   "outputs": [],
   "source": []
  }
 ],
 "metadata": {
  "kernelspec": {
   "display_name": "Python 3 (ipykernel)",
   "language": "python",
   "name": "python3"
  },
  "language_info": {
   "codemirror_mode": {
    "name": "ipython",
    "version": 3
   },
   "file_extension": ".py",
   "mimetype": "text/x-python",
   "name": "python",
   "nbconvert_exporter": "python",
   "pygments_lexer": "ipython3",
   "version": "3.11.4"
  }
 },
 "nbformat": 4,
 "nbformat_minor": 5
}
