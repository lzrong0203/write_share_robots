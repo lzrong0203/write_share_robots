{
 "cells": [
  {
   "cell_type": "markdown",
   "id": "a4268e31",
   "metadata": {},
   "source": [
    "### NumPy 統計相關功能\n",
    "\n",
    "- `mean`：計算數組中所有元素的算術平均值。\n",
    "- `average`：計算數組中的加權平均值。與`mean`不同，`average`可以考慮權重。\n",
    "- `var`：計算數組的方差，表示數據分布的程度，方差越大表示數據分布越廣。\n",
    "- `std`：計算數組的標準差，是方差的平方根，表示數據的分散程度。\n",
    "- `min`, `max`：分別找出數組中的最小值和最大值。\n",
    "- `cumsum`：計算數組的累積和，即從數組的第一個元素開始逐個加總。\n",
    "- `cumprod`：計算數組的累積乘積，即從數組的第一個元素開始逐個相乘。\n",
    "- `ptp` (peak to peak)：計算數組中最大值和最小值之間的差值，即“峰值到峰值”的距離。\n",
    "- `median`：計算數組的中位數，即將數據從小到大排列後位於中間的數值。\n",
    "- `quantile`：計算數組的分位數，是指將數據分成幾等分的數值點。\n",
    "- `percentile`：與`quantile`類似，計算數組中給定百分比下的數值。\n",
    "- `corrcoef`：計算數組的相關係數矩陣，用於衡量數據間的線性關係程度。\n"
   ]
  },
  {
   "cell_type": "code",
   "execution_count": 2,
   "id": "0d2c8efa",
   "metadata": {},
   "outputs": [],
   "source": [
    "import yfinance as yf"
   ]
  },
  {
   "cell_type": "code",
   "execution_count": 16,
   "id": "ce1a6cca",
   "metadata": {},
   "outputs": [
    {
     "name": "stdout",
     "output_type": "stream",
     "text": [
      "[*********************100%%**********************]  1 of 1 completed\n"
     ]
    }
   ],
   "source": [
    "tsmc = yf.download(\"2330.tw\", start=\"2023-10-01\", end=\"2023-10-31\")\n",
    "tsmc_array = tsmc.loc[:, \"Open\":\"Close\"].to_numpy(dtype=\"int\")"
   ]
  },
  {
   "cell_type": "code",
   "execution_count": 18,
   "id": "948dc33e",
   "metadata": {},
   "outputs": [
    {
     "name": "stdout",
     "output_type": "stream",
     "text": [
      "[[530 534 528 533]\n",
      " [528 533 528 529]\n",
      " [521 523 519 520]\n",
      " [523 529 523 528]\n",
      " [530 533 529 532]\n",
      " [542 544 540 544]\n",
      " [545 550 544 550]\n",
      " [550 554 548 553]\n",
      " [546 547 542 545]\n",
      " [550 552 548 551]\n",
      " [549 549 540 540]\n",
      " [540 548 540 546]\n",
      " [549 556 546 556]\n",
      " [552 553 543 544]\n",
      " [543 546 540 544]\n",
      " [544 551 544 544]\n",
      " [530 535 530 531]\n",
      " [534 536 532 533]\n",
      " [531 534 528 532]]\n",
      "(19, 4)\n"
     ]
    }
   ],
   "source": [
    "print(tsmc_array)\n",
    "print(tsmc_array.shape)"
   ]
  },
  {
   "cell_type": "code",
   "execution_count": 19,
   "id": "6a40563f",
   "metadata": {},
   "outputs": [],
   "source": [
    "import numpy as np"
   ]
  },
  {
   "cell_type": "code",
   "execution_count": 21,
   "id": "251ba532",
   "metadata": {},
   "outputs": [],
   "source": [
    "np.savetxt(\"tsmc.csv\", tsmc_array, delimiter=\",\", fmt=\"%d\")"
   ]
  },
  {
   "cell_type": "code",
   "execution_count": 23,
   "id": "4e3a6dc7",
   "metadata": {},
   "outputs": [
    {
     "data": {
      "text/plain": [
       "array([[530, 534, 528, 533],\n",
       "       [528, 533, 528, 529],\n",
       "       [521, 523, 519, 520],\n",
       "       [523, 529, 523, 528],\n",
       "       [530, 533, 529, 532],\n",
       "       [542, 544, 540, 544],\n",
       "       [545, 550, 544, 550],\n",
       "       [550, 554, 548, 553],\n",
       "       [546, 547, 542, 545],\n",
       "       [550, 552, 548, 551],\n",
       "       [549, 549, 540, 540],\n",
       "       [540, 548, 540, 546],\n",
       "       [549, 556, 546, 556],\n",
       "       [552, 553, 543, 544],\n",
       "       [543, 546, 540, 544],\n",
       "       [544, 551, 544, 544],\n",
       "       [530, 535, 530, 531],\n",
       "       [534, 536, 532, 533],\n",
       "       [531, 534, 528, 532]])"
      ]
     },
     "execution_count": 23,
     "metadata": {},
     "output_type": "execute_result"
    }
   ],
   "source": [
    "np.loadtxt(\"tsmc.csv\", delimiter=\",\", dtype=\"int\")"
   ]
  },
  {
   "cell_type": "code",
   "execution_count": null,
   "id": "5565172b",
   "metadata": {},
   "outputs": [],
   "source": []
  },
  {
   "cell_type": "code",
   "execution_count": 25,
   "id": "b658cac6",
   "metadata": {},
   "outputs": [
    {
     "data": {
      "text/plain": [
       "array([538.78947368, 542.47368421, 536.42105263, 539.73684211])"
      ]
     },
     "execution_count": 25,
     "metadata": {},
     "output_type": "execute_result"
    }
   ],
   "source": [
    "np.mean(tsmc_array, axis=0)"
   ]
  },
  {
   "cell_type": "code",
   "execution_count": 32,
   "id": "ab3997f9",
   "metadata": {},
   "outputs": [
    {
     "data": {
      "text/plain": [
       "11.5"
      ]
     },
     "execution_count": 32,
     "metadata": {},
     "output_type": "execute_result"
    }
   ],
   "source": [
    "np.average(np.arange(10, 14))"
   ]
  },
  {
   "cell_type": "code",
   "execution_count": 37,
   "id": "d5c209eb",
   "metadata": {},
   "outputs": [
    {
     "data": {
      "text/plain": [
       "64.0"
      ]
     },
     "execution_count": 37,
     "metadata": {},
     "output_type": "execute_result"
    }
   ],
   "source": [
    "np.average(np.linspace(10, 100, num=4), weights=[0.1, 0.3, 0.3, 0.3])"
   ]
  },
  {
   "cell_type": "code",
   "execution_count": 38,
   "id": "d4982050",
   "metadata": {},
   "outputs": [
    {
     "data": {
      "text/plain": [
       "55.0"
      ]
     },
     "execution_count": 38,
     "metadata": {},
     "output_type": "execute_result"
    }
   ],
   "source": [
    "np.linspace(10, 100, num=4).mean()"
   ]
  },
  {
   "cell_type": "code",
   "execution_count": 39,
   "id": "3e1ba5c9",
   "metadata": {},
   "outputs": [
    {
     "data": {
      "text/plain": [
       "array([93.6398892 , 91.40720222, 74.34903047, 91.66759003])"
      ]
     },
     "execution_count": 39,
     "metadata": {},
     "output_type": "execute_result"
    }
   ],
   "source": [
    "np.var(tsmc_array, axis=0)"
   ]
  },
  {
   "cell_type": "code",
   "execution_count": 40,
   "id": "aadfecb4",
   "metadata": {},
   "outputs": [
    {
     "data": {
      "text/plain": [
       "array([9.6767706 , 9.56071139, 8.62258839, 9.5743193 ])"
      ]
     },
     "execution_count": 40,
     "metadata": {},
     "output_type": "execute_result"
    }
   ],
   "source": [
    "np.std(tsmc_array, axis=0)"
   ]
  },
  {
   "cell_type": "code",
   "execution_count": 41,
   "id": "f72521af",
   "metadata": {},
   "outputs": [
    {
     "data": {
      "text/plain": [
       "array([521, 523, 519, 520])"
      ]
     },
     "execution_count": 41,
     "metadata": {},
     "output_type": "execute_result"
    }
   ],
   "source": [
    "np.min(tsmc_array, axis=0)"
   ]
  },
  {
   "cell_type": "code",
   "execution_count": 44,
   "id": "8fbd9432",
   "metadata": {},
   "outputs": [
    {
     "data": {
      "text/plain": [
       "array([ 6,  5,  4,  6,  4,  4,  6,  6,  5,  4,  9,  8, 10, 10,  6,  7,  5,\n",
       "        4,  6])"
      ]
     },
     "execution_count": 44,
     "metadata": {},
     "output_type": "execute_result"
    }
   ],
   "source": [
    "np.ptp(tsmc_array, axis=1)"
   ]
  },
  {
   "cell_type": "code",
   "execution_count": 45,
   "id": "71fffb1e",
   "metadata": {},
   "outputs": [
    {
     "data": {
      "text/plain": [
       "array([[  530,   534,   528,   533],\n",
       "       [ 1058,  1067,  1056,  1062],\n",
       "       [ 1579,  1590,  1575,  1582],\n",
       "       [ 2102,  2119,  2098,  2110],\n",
       "       [ 2632,  2652,  2627,  2642],\n",
       "       [ 3174,  3196,  3167,  3186],\n",
       "       [ 3719,  3746,  3711,  3736],\n",
       "       [ 4269,  4300,  4259,  4289],\n",
       "       [ 4815,  4847,  4801,  4834],\n",
       "       [ 5365,  5399,  5349,  5385],\n",
       "       [ 5914,  5948,  5889,  5925],\n",
       "       [ 6454,  6496,  6429,  6471],\n",
       "       [ 7003,  7052,  6975,  7027],\n",
       "       [ 7555,  7605,  7518,  7571],\n",
       "       [ 8098,  8151,  8058,  8115],\n",
       "       [ 8642,  8702,  8602,  8659],\n",
       "       [ 9172,  9237,  9132,  9190],\n",
       "       [ 9706,  9773,  9664,  9723],\n",
       "       [10237, 10307, 10192, 10255]])"
      ]
     },
     "execution_count": 45,
     "metadata": {},
     "output_type": "execute_result"
    }
   ],
   "source": [
    "np.cumsum(tsmc_array, axis=0)"
   ]
  },
  {
   "cell_type": "code",
   "execution_count": 46,
   "id": "cbdbd670",
   "metadata": {},
   "outputs": [
    {
     "data": {
      "text/plain": [
       "array([[                 530,                  534,                  528,\n",
       "                         533],\n",
       "       [              279840,               284622,               278784,\n",
       "                      281957],\n",
       "       [           145796640,            148857306,            144688896,\n",
       "                   146617640],\n",
       "       [         76251642720,          78745514874,          75672292608,\n",
       "                 77414113920],\n",
       "       [      40413370641600,       41971359427842,       40030642789632,\n",
       "              41184308605440],\n",
       "       [   21904046887747200,    22832419528746048,    21616547106401280,\n",
       "           22404263881359360],\n",
       "       [-6509038519887327616, -5888913332899225216, -6687342447827255296,\n",
       "        -6124398938961903616],\n",
       "       [-1302835638377175296,  2615714620419866368,  6238409258864869376,\n",
       "         7408296316624797696],\n",
       "       [ 8074760320734801408, -8050140379678122752,  5463652815911256064,\n",
       "        -2315459581877059584],\n",
       "       [-4547145359861165056,  1987832181678180352,  5709203178420961280,\n",
       "        -2992888528300769280],\n",
       "       [-6072352612990147584,  2961967392457467904,  2363456037823971328,\n",
       "         7153673204025131008],\n",
       "       [ 4450034105620492288,  -155347419748130816,  3440919338985455616,\n",
       "        -4804174228703412224],\n",
       "       [ 8098506255989452800,  5860554988587024384, -2825936432315498496,\n",
       "         3657019528787787776],\n",
       "       [ 6263387468466454528, -5740048284256600064, -3403724629422899200,\n",
       "        -2829736300075024384],\n",
       "       [ 6818485814727311360,  1880129326520139776,  6663107482589593600,\n",
       "        -8296789122920480768],\n",
       "       [ 1460724396037505024,  2933590784862126080,  9168632081666801664,\n",
       "         5999015190098608128],\n",
       "       [ -579321195923505152,  1497823635925565440,  7881311897792806912,\n",
       "        -5809658809391513600],\n",
       "       [ 4237130629910626304, -8823270387117195264,  5447024893705060352,\n",
       "         2504858977527922688],\n",
       "       [ -586412510022729728, -7706647924646608896, -1662931622418186240,\n",
       "         4419402737767153664]])"
      ]
     },
     "execution_count": 46,
     "metadata": {},
     "output_type": "execute_result"
    }
   ],
   "source": [
    "np.cumprod(tsmc_array, axis=0)"
   ]
  },
  {
   "cell_type": "code",
   "execution_count": 47,
   "id": "b35ebd35",
   "metadata": {},
   "outputs": [
    {
     "data": {
      "text/plain": [
       "array([542., 546., 540., 544.])"
      ]
     },
     "execution_count": 47,
     "metadata": {},
     "output_type": "execute_result"
    }
   ],
   "source": [
    "np.median(tsmc_array, axis=0)"
   ]
  },
  {
   "cell_type": "code",
   "execution_count": 49,
   "id": "8db4337c",
   "metadata": {},
   "outputs": [
    {
     "data": {
      "text/plain": [
       "array([530. , 534. , 528.5, 532. ])"
      ]
     },
     "execution_count": 49,
     "metadata": {},
     "output_type": "execute_result"
    }
   ],
   "source": [
    "np.quantile(tsmc_array, 0.25, axis=0)"
   ]
  },
  {
   "cell_type": "code",
   "execution_count": 51,
   "id": "ec4e05dc",
   "metadata": {},
   "outputs": [
    {
     "data": {
      "text/plain": [
       "array([545.6, 549.6, 542.6, 544.6])"
      ]
     },
     "execution_count": 51,
     "metadata": {},
     "output_type": "execute_result"
    }
   ],
   "source": [
    "np.quantile(tsmc_array, 0.70, axis=0)"
   ]
  },
  {
   "cell_type": "code",
   "execution_count": 52,
   "id": "2afc59df",
   "metadata": {},
   "outputs": [
    {
     "data": {
      "text/plain": [
       "array([545.6, 549.6, 542.6, 544.6])"
      ]
     },
     "execution_count": 52,
     "metadata": {},
     "output_type": "execute_result"
    }
   ],
   "source": [
    "np.percentile(tsmc_array, 70, axis=0)"
   ]
  },
  {
   "cell_type": "code",
   "execution_count": 55,
   "id": "2179d032",
   "metadata": {},
   "outputs": [],
   "source": [
    "import numpy.random as nr"
   ]
  },
  {
   "cell_type": "code",
   "execution_count": 64,
   "id": "e63dd072",
   "metadata": {},
   "outputs": [],
   "source": [
    "nr.seed(0)\n",
    "a1 = nr.randint(100, size=10)\n",
    "nr.seed(10)\n",
    "a2 = nr.randint(100, size=10)"
   ]
  },
  {
   "cell_type": "code",
   "execution_count": 65,
   "id": "71ec156d",
   "metadata": {},
   "outputs": [
    {
     "name": "stdout",
     "output_type": "stream",
     "text": [
      "[44 47 64 67 67  9 83 21 36 87]\n",
      "[ 9 15 64 28 89 93 29  8 73  0]\n"
     ]
    }
   ],
   "source": [
    "print(a1)\n",
    "print(a2)"
   ]
  },
  {
   "cell_type": "code",
   "execution_count": 66,
   "id": "432a61db",
   "metadata": {},
   "outputs": [
    {
     "data": {
      "text/plain": [
       "array([[ 1.       , -0.2857349],\n",
       "       [-0.2857349,  1.       ]])"
      ]
     },
     "execution_count": 66,
     "metadata": {},
     "output_type": "execute_result"
    }
   ],
   "source": [
    "np.corrcoef(a1, a2)"
   ]
  },
  {
   "cell_type": "code",
   "execution_count": null,
   "id": "ee210d35",
   "metadata": {},
   "outputs": [],
   "source": []
  },
  {
   "cell_type": "code",
   "execution_count": null,
   "id": "b88e9258",
   "metadata": {},
   "outputs": [],
   "source": []
  },
  {
   "cell_type": "code",
   "execution_count": null,
   "id": "5ec48479",
   "metadata": {},
   "outputs": [],
   "source": []
  },
  {
   "cell_type": "code",
   "execution_count": null,
   "id": "696a87b5",
   "metadata": {},
   "outputs": [],
   "source": []
  },
  {
   "cell_type": "code",
   "execution_count": null,
   "id": "36e1de4f",
   "metadata": {},
   "outputs": [],
   "source": []
  },
  {
   "cell_type": "code",
   "execution_count": null,
   "id": "a96c49fa",
   "metadata": {},
   "outputs": [],
   "source": []
  },
  {
   "cell_type": "code",
   "execution_count": null,
   "id": "5a8f4352",
   "metadata": {},
   "outputs": [],
   "source": []
  },
  {
   "cell_type": "code",
   "execution_count": null,
   "id": "10a0301f",
   "metadata": {},
   "outputs": [],
   "source": []
  },
  {
   "cell_type": "code",
   "execution_count": null,
   "id": "99706d4a",
   "metadata": {},
   "outputs": [],
   "source": []
  },
  {
   "cell_type": "code",
   "execution_count": null,
   "id": "e0085b37",
   "metadata": {},
   "outputs": [],
   "source": []
  },
  {
   "cell_type": "code",
   "execution_count": null,
   "id": "471d8f1a",
   "metadata": {},
   "outputs": [],
   "source": []
  },
  {
   "cell_type": "code",
   "execution_count": null,
   "id": "53437ef3",
   "metadata": {},
   "outputs": [],
   "source": []
  }
 ],
 "metadata": {
  "kernelspec": {
   "display_name": "Python 3 (ipykernel)",
   "language": "python",
   "name": "python3"
  },
  "language_info": {
   "codemirror_mode": {
    "name": "ipython",
    "version": 3
   },
   "file_extension": ".py",
   "mimetype": "text/x-python",
   "name": "python",
   "nbconvert_exporter": "python",
   "pygments_lexer": "ipython3",
   "version": "3.11.4"
  }
 },
 "nbformat": 4,
 "nbformat_minor": 5
}
