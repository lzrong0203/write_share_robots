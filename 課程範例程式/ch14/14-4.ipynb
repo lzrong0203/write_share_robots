{
 "cells": [
  {
   "cell_type": "code",
   "execution_count": 1,
   "id": "a7cc8401",
   "metadata": {},
   "outputs": [],
   "source": [
    "import numpy as np"
   ]
  },
  {
   "cell_type": "code",
   "execution_count": 3,
   "id": "0a15ff89",
   "metadata": {},
   "outputs": [],
   "source": [
    "array1 = np.arange(6)"
   ]
  },
  {
   "cell_type": "code",
   "execution_count": 4,
   "id": "d565c7dc",
   "metadata": {},
   "outputs": [
    {
     "name": "stdout",
     "output_type": "stream",
     "text": [
      "[0 1 2 3 4 5]\n"
     ]
    }
   ],
   "source": [
    "print(array1)"
   ]
  },
  {
   "cell_type": "code",
   "execution_count": 5,
   "id": "bdd7fd95",
   "metadata": {},
   "outputs": [
    {
     "data": {
      "text/plain": [
       "3"
      ]
     },
     "execution_count": 5,
     "metadata": {},
     "output_type": "execute_result"
    }
   ],
   "source": [
    "array1[3]"
   ]
  },
  {
   "cell_type": "code",
   "execution_count": 6,
   "id": "6ee93d27",
   "metadata": {},
   "outputs": [
    {
     "data": {
      "text/plain": [
       "array([1, 2, 3])"
      ]
     },
     "execution_count": 6,
     "metadata": {},
     "output_type": "execute_result"
    }
   ],
   "source": [
    "array1[1:4]"
   ]
  },
  {
   "cell_type": "code",
   "execution_count": 7,
   "id": "4a972d94",
   "metadata": {},
   "outputs": [
    {
     "data": {
      "text/plain": [
       "array([0, 1, 2, 3])"
      ]
     },
     "execution_count": 7,
     "metadata": {},
     "output_type": "execute_result"
    }
   ],
   "source": [
    "array1[:4]"
   ]
  },
  {
   "cell_type": "code",
   "execution_count": 8,
   "id": "08c186ec",
   "metadata": {},
   "outputs": [
    {
     "data": {
      "text/plain": [
       "array([2, 3, 4, 5])"
      ]
     },
     "execution_count": 8,
     "metadata": {},
     "output_type": "execute_result"
    }
   ],
   "source": [
    "array1[2:]"
   ]
  },
  {
   "cell_type": "code",
   "execution_count": 10,
   "id": "c0ccac52",
   "metadata": {},
   "outputs": [],
   "source": [
    "array1[2:5] = 100"
   ]
  },
  {
   "cell_type": "code",
   "execution_count": 18,
   "id": "ca6f20af",
   "metadata": {},
   "outputs": [],
   "source": [
    "array2 = array1[2:5]"
   ]
  },
  {
   "cell_type": "code",
   "execution_count": 19,
   "id": "53cf1ba6",
   "metadata": {},
   "outputs": [
    {
     "data": {
      "text/plain": [
       "array([100, 555, 100])"
      ]
     },
     "execution_count": 19,
     "metadata": {},
     "output_type": "execute_result"
    }
   ],
   "source": [
    "array2"
   ]
  },
  {
   "cell_type": "code",
   "execution_count": 20,
   "id": "d37ad8c8",
   "metadata": {},
   "outputs": [],
   "source": [
    "array2[1] = 555"
   ]
  },
  {
   "cell_type": "code",
   "execution_count": 21,
   "id": "bd0e2612",
   "metadata": {},
   "outputs": [],
   "source": [
    "array2[:] = 4444"
   ]
  },
  {
   "cell_type": "code",
   "execution_count": 22,
   "id": "5f6b63fa",
   "metadata": {},
   "outputs": [
    {
     "data": {
      "text/plain": [
       "array([   0,    1, 4444, 4444, 4444,    5])"
      ]
     },
     "execution_count": 22,
     "metadata": {},
     "output_type": "execute_result"
    }
   ],
   "source": [
    "array1"
   ]
  },
  {
   "cell_type": "code",
   "execution_count": 23,
   "id": "6270425e",
   "metadata": {},
   "outputs": [],
   "source": [
    "array_2d = np.arange(9)"
   ]
  },
  {
   "cell_type": "code",
   "execution_count": 24,
   "id": "a69c8682",
   "metadata": {},
   "outputs": [
    {
     "data": {
      "text/plain": [
       "(9,)"
      ]
     },
     "execution_count": 24,
     "metadata": {},
     "output_type": "execute_result"
    }
   ],
   "source": [
    "array_2d.shape"
   ]
  },
  {
   "cell_type": "code",
   "execution_count": 25,
   "id": "30b7df12",
   "metadata": {},
   "outputs": [
    {
     "data": {
      "text/plain": [
       "1"
      ]
     },
     "execution_count": 25,
     "metadata": {},
     "output_type": "execute_result"
    }
   ],
   "source": [
    "array_2d.ndim"
   ]
  },
  {
   "cell_type": "code",
   "execution_count": null,
   "id": "0f8db0ae",
   "metadata": {},
   "outputs": [],
   "source": []
  },
  {
   "cell_type": "code",
   "execution_count": 28,
   "id": "00a719e6",
   "metadata": {},
   "outputs": [],
   "source": [
    "array_2d_new = np.reshape(array_2d, (3, 3))"
   ]
  },
  {
   "cell_type": "code",
   "execution_count": 30,
   "id": "6a037af9",
   "metadata": {},
   "outputs": [],
   "source": [
    "array_2d_new[1] = 5"
   ]
  },
  {
   "cell_type": "code",
   "execution_count": 35,
   "id": "2b3ed49c",
   "metadata": {},
   "outputs": [
    {
     "data": {
      "text/plain": [
       "(3, 3)"
      ]
     },
     "execution_count": 35,
     "metadata": {},
     "output_type": "execute_result"
    }
   ],
   "source": [
    "array_2d_new.shape"
   ]
  },
  {
   "cell_type": "code",
   "execution_count": 32,
   "id": "ac2677de",
   "metadata": {},
   "outputs": [
    {
     "data": {
      "text/plain": [
       "array([0, 1, 2, 5, 5, 5, 6, 7, 8])"
      ]
     },
     "execution_count": 32,
     "metadata": {},
     "output_type": "execute_result"
    }
   ],
   "source": [
    "array_2d"
   ]
  },
  {
   "cell_type": "code",
   "execution_count": 34,
   "id": "7f0712da",
   "metadata": {},
   "outputs": [
    {
     "data": {
      "text/plain": [
       "(9,)"
      ]
     },
     "execution_count": 34,
     "metadata": {},
     "output_type": "execute_result"
    }
   ],
   "source": [
    "array_2d.shape"
   ]
  },
  {
   "cell_type": "code",
   "execution_count": 36,
   "id": "6bb97d79",
   "metadata": {},
   "outputs": [
    {
     "data": {
      "text/plain": [
       "array([[0, 1, 2],\n",
       "       [5, 5, 5],\n",
       "       [6, 7, 8]])"
      ]
     },
     "execution_count": 36,
     "metadata": {},
     "output_type": "execute_result"
    }
   ],
   "source": [
    "array_2d_new"
   ]
  },
  {
   "cell_type": "code",
   "execution_count": 44,
   "id": "8d1cf503",
   "metadata": {},
   "outputs": [],
   "source": [
    "array2_2d = array_2d.reshape(3, 3)"
   ]
  },
  {
   "cell_type": "code",
   "execution_count": 40,
   "id": "8e489625",
   "metadata": {},
   "outputs": [],
   "source": [
    "array2_2d[1] = 100 "
   ]
  },
  {
   "cell_type": "code",
   "execution_count": 41,
   "id": "60c1cf93",
   "metadata": {},
   "outputs": [
    {
     "data": {
      "text/plain": [
       "array([  0,   1,   2, 100, 100, 100,   6,   7,   8])"
      ]
     },
     "execution_count": 41,
     "metadata": {},
     "output_type": "execute_result"
    }
   ],
   "source": [
    "array_2d"
   ]
  },
  {
   "cell_type": "code",
   "execution_count": 45,
   "id": "d6eb5568",
   "metadata": {},
   "outputs": [],
   "source": [
    "array_2d.resize((3, 3))"
   ]
  },
  {
   "cell_type": "code",
   "execution_count": 47,
   "id": "79591ccb",
   "metadata": {},
   "outputs": [],
   "source": [
    "array_2d[1] = [3, 4, 5]"
   ]
  },
  {
   "cell_type": "code",
   "execution_count": 49,
   "id": "3fe6d42e",
   "metadata": {},
   "outputs": [
    {
     "data": {
      "text/plain": [
       "(3, 3)"
      ]
     },
     "execution_count": 49,
     "metadata": {},
     "output_type": "execute_result"
    }
   ],
   "source": [
    "array_2d.shape"
   ]
  },
  {
   "cell_type": "code",
   "execution_count": 50,
   "id": "4d1a5a98",
   "metadata": {},
   "outputs": [
    {
     "data": {
      "text/plain": [
       "2"
      ]
     },
     "execution_count": 50,
     "metadata": {},
     "output_type": "execute_result"
    }
   ],
   "source": [
    "array_2d.ndim"
   ]
  },
  {
   "cell_type": "code",
   "execution_count": 51,
   "id": "a55d594f",
   "metadata": {},
   "outputs": [
    {
     "data": {
      "text/plain": [
       "array([[0, 1, 2],\n",
       "       [3, 4, 5],\n",
       "       [6, 7, 8]])"
      ]
     },
     "execution_count": 51,
     "metadata": {},
     "output_type": "execute_result"
    }
   ],
   "source": [
    "array_2d"
   ]
  },
  {
   "cell_type": "code",
   "execution_count": 52,
   "id": "4a9465d2",
   "metadata": {},
   "outputs": [],
   "source": [
    "del array2_2d"
   ]
  },
  {
   "cell_type": "code",
   "execution_count": 53,
   "id": "2bb85cb4",
   "metadata": {},
   "outputs": [],
   "source": [
    "del array_2d_new"
   ]
  },
  {
   "cell_type": "code",
   "execution_count": 59,
   "id": "aa7f0c9f",
   "metadata": {},
   "outputs": [
    {
     "name": "stdout",
     "output_type": "stream",
     "text": [
      "[3 4 5]\n",
      "5\n",
      "5\n"
     ]
    }
   ],
   "source": [
    "print(array_2d[1])\n",
    "print(array_2d[1][2])\n",
    "print(array_2d[1, 2])"
   ]
  },
  {
   "cell_type": "code",
   "execution_count": 62,
   "id": "98ca4419",
   "metadata": {},
   "outputs": [
    {
     "name": "stdout",
     "output_type": "stream",
     "text": [
      "[[3 4 5]\n",
      " [6 7 8]]\n",
      "[[3 4]\n",
      " [6 7]]\n",
      "[[0 1]\n",
      " [3 4]\n",
      " [6 7]]\n"
     ]
    }
   ],
   "source": [
    "print(array_2d[1:3])\n",
    "print(array_2d[1:3, 0:2])\n",
    "print(array_2d[:, 0:2])"
   ]
  },
  {
   "cell_type": "code",
   "execution_count": 63,
   "id": "415b18cc",
   "metadata": {},
   "outputs": [
    {
     "name": "stdout",
     "output_type": "stream",
     "text": [
      "[[0 1 2]\n",
      " [3 4 5]\n",
      " [6 7 8]]\n"
     ]
    }
   ],
   "source": [
    "print(array_2d[:, 0:])"
   ]
  },
  {
   "cell_type": "code",
   "execution_count": null,
   "id": "21ca1282",
   "metadata": {},
   "outputs": [],
   "source": []
  },
  {
   "cell_type": "code",
   "execution_count": 66,
   "id": "f60043fd",
   "metadata": {},
   "outputs": [
    {
     "name": "stdout",
     "output_type": "stream",
     "text": [
      "[1 4 7]\n",
      "[[1]\n",
      " [4]\n",
      " [7]]\n",
      "(3, 1)\n"
     ]
    }
   ],
   "source": [
    "print(array_2d[:, 1])\n",
    "print(array_2d[:, 1:2])\n",
    "print(array_2d[:, 1:2].shape)"
   ]
  },
  {
   "cell_type": "code",
   "execution_count": 72,
   "id": "cb215330",
   "metadata": {},
   "outputs": [
    {
     "name": "stdout",
     "output_type": "stream",
     "text": [
      "[[0 1 2]\n",
      " [3 4 5]\n",
      " [6 7 8]]\n",
      "\n",
      "[[ True False  True]\n",
      " [False  True False]\n",
      " [ True False  True]]\n",
      "\n",
      "[0 2 4 6 8]\n"
     ]
    }
   ],
   "source": [
    "print(array_2d)\n",
    "print()\n",
    "print(array_2d % 2 == 0)\n",
    "print()\n",
    "print(array_2d[array_2d % 2 == 0])"
   ]
  },
  {
   "cell_type": "code",
   "execution_count": 73,
   "id": "227f26d1",
   "metadata": {},
   "outputs": [],
   "source": [
    "array_int = np.array([1, 0, 1])"
   ]
  },
  {
   "cell_type": "code",
   "execution_count": 75,
   "id": "fa7bab58",
   "metadata": {},
   "outputs": [],
   "source": [
    "mask = array_int == 1"
   ]
  },
  {
   "cell_type": "code",
   "execution_count": 76,
   "id": "4dc9b7f0",
   "metadata": {},
   "outputs": [
    {
     "data": {
      "text/plain": [
       "array([ True, False,  True])"
      ]
     },
     "execution_count": 76,
     "metadata": {},
     "output_type": "execute_result"
    }
   ],
   "source": [
    "mask"
   ]
  },
  {
   "cell_type": "code",
   "execution_count": 77,
   "id": "4be1aaa8",
   "metadata": {},
   "outputs": [
    {
     "data": {
      "text/plain": [
       "array([[0, 1, 2],\n",
       "       [6, 7, 8]])"
      ]
     },
     "execution_count": 77,
     "metadata": {},
     "output_type": "execute_result"
    }
   ],
   "source": [
    "array_2d[mask]"
   ]
  },
  {
   "cell_type": "code",
   "execution_count": 81,
   "id": "86a77f66",
   "metadata": {},
   "outputs": [
    {
     "name": "stdout",
     "output_type": "stream",
     "text": [
      "[[ True False  True]\n",
      " [False  True False]\n",
      " [ True False  True]]\n",
      "\n",
      "[[ True False  True]\n",
      " [ True  True  True]\n",
      " [ True False  True]]\n"
     ]
    }
   ],
   "source": [
    "print(array_2d % 2 == 0)\n",
    "print()\n",
    "print(mask | (array_2d % 2 == 0))"
   ]
  },
  {
   "cell_type": "code",
   "execution_count": 83,
   "id": "9941332f",
   "metadata": {},
   "outputs": [
    {
     "name": "stdout",
     "output_type": "stream",
     "text": [
      "[[0 1 2]\n",
      " [3 4 5]\n",
      " [6 7 8]]\n",
      "[0 2 3 4 5 6 8]\n"
     ]
    }
   ],
   "source": [
    "print(array_2d)\n",
    "print(array_2d[mask | (array_2d % 2 == 0)])"
   ]
  },
  {
   "cell_type": "code",
   "execution_count": 86,
   "id": "2a22fdb1",
   "metadata": {},
   "outputs": [
    {
     "name": "stdout",
     "output_type": "stream",
     "text": [
      "[[0 1 2]\n",
      " [3 4 5]\n",
      " [6 7 8]]\n"
     ]
    },
    {
     "ename": "ValueError",
     "evalue": "The truth value of an array with more than one element is ambiguous. Use a.any() or a.all()",
     "output_type": "error",
     "traceback": [
      "\u001b[0;31m---------------------------------------------------------------------------\u001b[0m",
      "\u001b[0;31mValueError\u001b[0m                                Traceback (most recent call last)",
      "Cell \u001b[0;32mIn[86], line 2\u001b[0m\n\u001b[1;32m      1\u001b[0m \u001b[38;5;28mprint\u001b[39m(array_2d)\n\u001b[0;32m----> 2\u001b[0m \u001b[38;5;28mprint\u001b[39m(array_2d[mask \u001b[38;5;129;01mand\u001b[39;00m (array_2d \u001b[38;5;241m%\u001b[39m \u001b[38;5;241m2\u001b[39m \u001b[38;5;241m==\u001b[39m \u001b[38;5;241m0\u001b[39m)])\n",
      "\u001b[0;31mValueError\u001b[0m: The truth value of an array with more than one element is ambiguous. Use a.any() or a.all()"
     ]
    }
   ],
   "source": [
    "print(array_2d)\n",
    "print(array_2d[mask & (array_2d % 2 == 0)])"
   ]
  },
  {
   "cell_type": "code",
   "execution_count": 85,
   "id": "7247d52b",
   "metadata": {},
   "outputs": [
    {
     "data": {
      "text/plain": [
       "array([False,  True, False])"
      ]
     },
     "execution_count": 85,
     "metadata": {},
     "output_type": "execute_result"
    }
   ],
   "source": [
    "~mask"
   ]
  },
  {
   "cell_type": "code",
   "execution_count": 92,
   "id": "329fd23f",
   "metadata": {},
   "outputs": [
    {
     "name": "stdout",
     "output_type": "stream",
     "text": [
      "[[0 1 2]\n",
      " [3 4 5]\n",
      " [6 7 8]]\n",
      "\n",
      "[[0 3 6]\n",
      " [1 4 7]\n",
      " [2 5 8]]\n",
      "\n",
      "[[0 3 6]\n",
      " [1 4 7]\n",
      " [2 5 8]]\n"
     ]
    }
   ],
   "source": [
    "print(array_2d)\n",
    "print()\n",
    "print(array_2d.transpose())\n",
    "print()\n",
    "print(array_2d.T)"
   ]
  },
  {
   "cell_type": "code",
   "execution_count": 97,
   "id": "d65c4df2",
   "metadata": {},
   "outputs": [
    {
     "name": "stdout",
     "output_type": "stream",
     "text": [
      "[[0 1 2]\n",
      " [3 4 5]\n",
      " [6 7 8]]\n"
     ]
    },
    {
     "data": {
      "text/plain": [
       "(9,)"
      ]
     },
     "execution_count": 97,
     "metadata": {},
     "output_type": "execute_result"
    }
   ],
   "source": [
    "print(array_2d)\n",
    "array_2d.flatten().shape"
   ]
  },
  {
   "cell_type": "code",
   "execution_count": 100,
   "id": "2bfa2c0a",
   "metadata": {},
   "outputs": [
    {
     "name": "stdout",
     "output_type": "stream",
     "text": [
      "[[0 1 2]\n",
      " [3 4 5]]\n",
      "[[3 4]\n",
      " [5 6]\n",
      " [7 8]]\n"
     ]
    }
   ],
   "source": [
    "arr1 = np.arange(6).reshape(2, 3)\n",
    "arr2 = np.arange(3, 9).reshape(3, 2)\n",
    "print(arr1)\n",
    "print(arr2)"
   ]
  },
  {
   "cell_type": "code",
   "execution_count": 102,
   "id": "b03f4d70",
   "metadata": {},
   "outputs": [
    {
     "name": "stdout",
     "output_type": "stream",
     "text": [
      "[[19 22]\n",
      " [64 76]]\n",
      "[[19 22]\n",
      " [64 76]]\n"
     ]
    }
   ],
   "source": [
    "print(np.dot(arr1, arr2))\n",
    "print(arr1 @ arr2)"
   ]
  },
  {
   "cell_type": "code",
   "execution_count": 103,
   "id": "34a4c015",
   "metadata": {},
   "outputs": [],
   "source": [
    "matrix1 = np.matrix([1, 2, 3])"
   ]
  },
  {
   "cell_type": "code",
   "execution_count": null,
   "id": "28fd3e07",
   "metadata": {},
   "outputs": [],
   "source": []
  },
  {
   "cell_type": "code",
   "execution_count": null,
   "id": "4de4da66",
   "metadata": {},
   "outputs": [],
   "source": []
  },
  {
   "cell_type": "code",
   "execution_count": 105,
   "id": "50132e02",
   "metadata": {},
   "outputs": [
    {
     "name": "stdout",
     "output_type": "stream",
     "text": [
      "[[14]]\n"
     ]
    }
   ],
   "source": [
    "print(matrix1 * matrix1.T)"
   ]
  },
  {
   "cell_type": "code",
   "execution_count": 110,
   "id": "66e83ac8",
   "metadata": {},
   "outputs": [
    {
     "name": "stdout",
     "output_type": "stream",
     "text": [
      "[[0 1 2]\n",
      " [3 4 5]\n",
      " [6 7 8]]\n",
      "4.0\n",
      "4.0\n"
     ]
    }
   ],
   "source": [
    "print(array_2d)\n",
    "\n",
    "print(array_2d.mean())\n",
    "\n",
    "print(np.mean(array_2d))"
   ]
  },
  {
   "cell_type": "code",
   "execution_count": 112,
   "id": "40be585e",
   "metadata": {},
   "outputs": [
    {
     "name": "stdout",
     "output_type": "stream",
     "text": [
      "[3. 4. 5.]\n",
      "[3. 4. 5.]\n"
     ]
    }
   ],
   "source": [
    "print(array_2d.mean(axis=0))\n",
    "print(np.mean(array_2d, axis=0))"
   ]
  },
  {
   "cell_type": "code",
   "execution_count": 113,
   "id": "81f8851c",
   "metadata": {},
   "outputs": [
    {
     "name": "stdout",
     "output_type": "stream",
     "text": [
      "[1. 4. 7.]\n",
      "[1. 4. 7.]\n"
     ]
    }
   ],
   "source": [
    "print(array_2d.mean(axis=1))\n",
    "print(np.mean(array_2d, axis=1))"
   ]
  },
  {
   "cell_type": "code",
   "execution_count": 116,
   "id": "a48d6b23",
   "metadata": {},
   "outputs": [
    {
     "name": "stdout",
     "output_type": "stream",
     "text": [
      "2.581988897471611\n",
      "[2.44948974 2.44948974 2.44948974]\n",
      "[0.81649658 0.81649658 0.81649658]\n"
     ]
    }
   ],
   "source": [
    "print(array_2d.std())\n",
    "print(array_2d.std(axis=0))\n",
    "print(array_2d.std(axis=1))"
   ]
  },
  {
   "cell_type": "code",
   "execution_count": 117,
   "id": "446f4f5f",
   "metadata": {},
   "outputs": [
    {
     "name": "stdout",
     "output_type": "stream",
     "text": [
      "36\n",
      "[ 9 12 15]\n",
      "[ 3 12 21]\n"
     ]
    }
   ],
   "source": [
    "print(array_2d.sum())\n",
    "print(array_2d.sum(axis=0))\n",
    "print(array_2d.sum(axis=1))"
   ]
  },
  {
   "cell_type": "code",
   "execution_count": null,
   "id": "a04dc848",
   "metadata": {},
   "outputs": [],
   "source": []
  },
  {
   "cell_type": "code",
   "execution_count": null,
   "id": "5c1f1949",
   "metadata": {},
   "outputs": [],
   "source": []
  },
  {
   "cell_type": "code",
   "execution_count": null,
   "id": "aee80e0b",
   "metadata": {},
   "outputs": [],
   "source": []
  },
  {
   "cell_type": "code",
   "execution_count": null,
   "id": "fc937235",
   "metadata": {},
   "outputs": [],
   "source": []
  },
  {
   "cell_type": "code",
   "execution_count": null,
   "id": "99904edc",
   "metadata": {},
   "outputs": [],
   "source": []
  },
  {
   "cell_type": "code",
   "execution_count": null,
   "id": "7ff77061",
   "metadata": {},
   "outputs": [],
   "source": []
  },
  {
   "cell_type": "code",
   "execution_count": null,
   "id": "fd240b41",
   "metadata": {},
   "outputs": [],
   "source": []
  },
  {
   "cell_type": "code",
   "execution_count": null,
   "id": "7f1334c1",
   "metadata": {},
   "outputs": [],
   "source": []
  },
  {
   "cell_type": "code",
   "execution_count": null,
   "id": "9115e3a1",
   "metadata": {},
   "outputs": [],
   "source": []
  },
  {
   "cell_type": "code",
   "execution_count": 2,
   "id": "e77b3e3c",
   "metadata": {},
   "outputs": [],
   "source": [
    "import numpy as np\n",
    "\n",
    "arr2d = np.array([[0, 1, 2], [3, 4, 5],[6, 7, 8]])"
   ]
  },
  {
   "cell_type": "code",
   "execution_count": 5,
   "id": "2e201eb1",
   "metadata": {},
   "outputs": [
    {
     "data": {
      "text/plain": [
       "array([0, 2, 3, 4, 5, 6, 8])"
      ]
     },
     "execution_count": 5,
     "metadata": {},
     "output_type": "execute_result"
    }
   ],
   "source": [
    "import numpy as np\n",
    "\n",
    "arr2d = np.array([[0, 1, 2], [3, 4, 5],[6, 7, 8]])\n",
    "names = np.array([\"Steve\", \"Joe\", \"Steve\"])\n",
    "\n",
    "arr2d[(names == \"Steve\") | (arr2d % 2 == 0)]"
   ]
  },
  {
   "cell_type": "code",
   "execution_count": null,
   "id": "73203143",
   "metadata": {},
   "outputs": [],
   "source": []
  }
 ],
 "metadata": {
  "kernelspec": {
   "display_name": "Python 3 (ipykernel)",
   "language": "python",
   "name": "python3"
  },
  "language_info": {
   "codemirror_mode": {
    "name": "ipython",
    "version": 3
   },
   "file_extension": ".py",
   "mimetype": "text/x-python",
   "name": "python",
   "nbconvert_exporter": "python",
   "pygments_lexer": "ipython3",
   "version": "3.11.4"
  }
 },
 "nbformat": 4,
 "nbformat_minor": 5
}
