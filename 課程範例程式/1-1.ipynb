{
 "cells": [
  {
   "cell_type": "markdown",
   "id": "bc6c0f2c",
   "metadata": {},
   "source": [
    "# Python 程式語言\n",
    "\n",
    "## 歷史\n",
    "\n",
    "Python 是由 Guido van Rossum 在 1989 年底發明的，首個公開發布版本（0.9.0）是在 1991 年。Python 是一個高階、動態型別的解釋型程式語言。它的設計哲學強調程式碼的可讀性，並且允許程式設計師以少量的程式碼表達概念，這是透過豐富的標準函式庫來實現的。\n",
    "\n",
    "## 優劣\n",
    "\n",
    "### 優點\n",
    "\n",
    "1. **可讀性強**: 程式碼結構清晰，容易理解。\n",
    "2. **生態系統豐富**: 擁有大量的函式庫和框架。\n",
    "3. **多用途**: 適用於網頁開發、數據分析、人工智慧、嵌入式系統等。\n",
    "4. **簡潔、高效**: 高階語法使得用較少的程式碼完成相同的任務。\n",
    "5. **社群活躍**: 開發者社群活躍，資源和教程多。\n",
    "\n",
    "### 缺點\n",
    "\n",
    "\n",
    "1. **執行速度慢**: 直譯式語言（Interpreted language）通常比編譯式語言（Compiled language）慢。\n",
    "2. **全域解釋器鎖（GIL）**: 在多核心 CPU 使用上有限制。\n",
    "3. **部署複雜**: 有時因為依賴的問題，部署會相對複雜。\n",
    "\n",
    "## 與其他程式語言的比較\n",
    "\n",
    "1. **Java**: Java 通常用於企業級應用和 Android 開發，執行速度快但語法相對繁瑣。\n",
    "2. **JavaScript**: 主要用於前端開發，但對於大型、複雜應用的後端開發較不適用。\n",
    "3. **C/C++**: 高效能但較不容易開發和維護，主要用於系統級編程。"
   ]
  },
  {
   "cell_type": "markdown",
   "id": "454944df",
   "metadata": {},
   "source": []
  },
  {
   "cell_type": "code",
   "execution_count": null,
   "id": "94e8c8c3",
   "metadata": {},
   "outputs": [],
   "source": []
  }
 ],
 "metadata": {
  "kernelspec": {
   "display_name": "Python 3 (ipykernel)",
   "language": "python",
   "name": "python3"
  },
  "language_info": {
   "codemirror_mode": {
    "name": "ipython",
    "version": 3
   },
   "file_extension": ".py",
   "mimetype": "text/x-python",
   "name": "python",
   "nbconvert_exporter": "python",
   "pygments_lexer": "ipython3",
   "version": "3.11.4"
  }
 },
 "nbformat": 4,
 "nbformat_minor": 5
}
