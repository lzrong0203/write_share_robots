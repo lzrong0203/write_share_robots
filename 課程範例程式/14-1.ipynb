{
 "cells": [
  {
   "cell_type": "markdown",
   "id": "146e57ef",
   "metadata": {},
   "source": [
    "### NumPy array 與 Python 標準 list 的主要差異\n",
    "\n",
    "#### 資料型態的統一性\n",
    "- **NumPy array**：array 內的所有元素都必須是相同的資料型態，這樣能讓資料處理更有效率，但也限制了可儲存的資料型態多樣性。\n",
    "- **list**：list 可以包含不同類型的資料，像是整數、字串和物件等。這樣提供了更多的彈性，但也可能使得資料操作的效率不及 NumPy array。\n",
    "\n",
    "#### 效能表現\n",
    "- **NumPy array**：因為資料型態的統一和底層的優化，NumPy array 在進行數學運算和向量化操作時特別優秀，尤其是在處理大量資料時。\n",
    "- **list**：在處理大量資料和複雜的數學運算時，效能可能不如 NumPy array，特別是在需要進行大量元素層級運算的情況下。\n",
    "\n",
    "#### 功能與方法\n",
    "- **NumPy array**：支援許多專為資料分析和科學計算而優化的功能，比如矩陣運算、統計操作和向量化函式等。\n",
    "- **list**：提供基本的資料操作功能，如新增、刪除、迭代等，但不支援複雜的數學運算和向量化操作。\n",
    "\n",
    "#### 記憶體使用\n",
    "- **NumPy array**：由於資料型態的統一和緊湊的儲存方式，NumPy array 儲存大型資料集時通常比 list 更節省記憶體。\n",
    "- **list**：因為其靈活性，一個 list 可能會使用比 NumPy array 更多的記憶體，特別是當儲存大量元素的時候。\n",
    "\n",
    "#### 使用場合\n",
    "- **NumPy array**：常用於科學計算、資料分析、機器學習等領域，非常適合處理數字型資料。\n",
    "- **list**：更常用於一般的資料儲存和處理，尤其是在資料類型多樣或大小變動較大的情況下。\n",
    "\n",
    "總結來說，選擇使用 NumPy array 或是 list 取決於具體的應用需求。需要進行高效率的資料操作和計算時，NumPy array 是較佳的選擇。而對於資料型態多樣或大小不定的資料集，則可能更適合使用 list。"
   ]
  },
  {
   "cell_type": "code",
   "execution_count": null,
   "id": "b27affa3",
   "metadata": {},
   "outputs": [],
   "source": []
  },
  {
   "cell_type": "code",
   "execution_count": null,
   "id": "1e63f9f6",
   "metadata": {},
   "outputs": [],
   "source": []
  },
  {
   "cell_type": "code",
   "execution_count": null,
   "id": "3c2677f3",
   "metadata": {},
   "outputs": [],
   "source": []
  },
  {
   "cell_type": "code",
   "execution_count": null,
   "id": "711b4f2e",
   "metadata": {},
   "outputs": [],
   "source": []
  },
  {
   "cell_type": "code",
   "execution_count": null,
   "id": "b245849b",
   "metadata": {},
   "outputs": [],
   "source": []
  },
  {
   "cell_type": "code",
   "execution_count": null,
   "id": "bd9266bb",
   "metadata": {},
   "outputs": [],
   "source": []
  },
  {
   "cell_type": "code",
   "execution_count": null,
   "id": "9a11b509",
   "metadata": {},
   "outputs": [],
   "source": []
  },
  {
   "cell_type": "code",
   "execution_count": null,
   "id": "0305be62",
   "metadata": {},
   "outputs": [],
   "source": []
  },
  {
   "cell_type": "code",
   "execution_count": null,
   "id": "97ffa349",
   "metadata": {},
   "outputs": [],
   "source": []
  },
  {
   "cell_type": "code",
   "execution_count": null,
   "id": "87a7e13b",
   "metadata": {},
   "outputs": [],
   "source": []
  },
  {
   "cell_type": "code",
   "execution_count": null,
   "id": "a8c733d4",
   "metadata": {},
   "outputs": [],
   "source": []
  },
  {
   "cell_type": "code",
   "execution_count": null,
   "id": "51be0a58",
   "metadata": {},
   "outputs": [],
   "source": []
  },
  {
   "cell_type": "code",
   "execution_count": null,
   "id": "41f37fc9",
   "metadata": {},
   "outputs": [],
   "source": []
  },
  {
   "cell_type": "code",
   "execution_count": null,
   "id": "b5a5c966",
   "metadata": {},
   "outputs": [],
   "source": []
  },
  {
   "cell_type": "code",
   "execution_count": 1,
   "id": "d9ef23f7",
   "metadata": {},
   "outputs": [],
   "source": [
    "import numpy as np"
   ]
  },
  {
   "cell_type": "code",
   "execution_count": 3,
   "id": "9351370f",
   "metadata": {},
   "outputs": [],
   "source": [
    "arr1 = np.array([1, 2, 3])"
   ]
  },
  {
   "cell_type": "code",
   "execution_count": 4,
   "id": "75b1812b",
   "metadata": {},
   "outputs": [
    {
     "name": "stdout",
     "output_type": "stream",
     "text": [
      "[1 2 3]\n"
     ]
    }
   ],
   "source": [
    "print(arr1)"
   ]
  },
  {
   "cell_type": "code",
   "execution_count": 38,
   "id": "e9a0ad9f",
   "metadata": {},
   "outputs": [
    {
     "data": {
      "text/plain": [
       "numpy.int64"
      ]
     },
     "execution_count": 38,
     "metadata": {},
     "output_type": "execute_result"
    }
   ],
   "source": [
    "type(arr1[0])"
   ]
  },
  {
   "cell_type": "code",
   "execution_count": 18,
   "id": "1723f325",
   "metadata": {},
   "outputs": [
    {
     "data": {
      "text/plain": [
       "array([2, 4, 6])"
      ]
     },
     "execution_count": 18,
     "metadata": {},
     "output_type": "execute_result"
    }
   ],
   "source": [
    "arr1 * 2"
   ]
  },
  {
   "cell_type": "code",
   "execution_count": 7,
   "id": "335c83f7",
   "metadata": {},
   "outputs": [
    {
     "name": "stdout",
     "output_type": "stream",
     "text": [
      "<class 'numpy.ndarray'>\n"
     ]
    }
   ],
   "source": [
    "print(type(arr1))"
   ]
  },
  {
   "cell_type": "code",
   "execution_count": null,
   "id": "8930d159",
   "metadata": {},
   "outputs": [],
   "source": []
  },
  {
   "cell_type": "code",
   "execution_count": 10,
   "id": "1115c68b",
   "metadata": {},
   "outputs": [],
   "source": [
    "my_list = list(range(1000000))"
   ]
  },
  {
   "cell_type": "code",
   "execution_count": 14,
   "id": "d7159830",
   "metadata": {},
   "outputs": [
    {
     "name": "stdout",
     "output_type": "stream",
     "text": [
      "CPU times: user 366 ms, sys: 51.9 ms, total: 418 ms\n",
      "Wall time: 418 ms\n"
     ]
    }
   ],
   "source": [
    "%%time\n",
    "\n",
    "for _ in range(10):\n",
    "    my_list2 = []\n",
    "    for i in my_list:\n",
    "        my_list2.append(i * 2)"
   ]
  },
  {
   "cell_type": "code",
   "execution_count": 15,
   "id": "2ffabc82",
   "metadata": {},
   "outputs": [
    {
     "name": "stdout",
     "output_type": "stream",
     "text": [
      "CPU times: user 199 ms, sys: 55.1 ms, total: 254 ms\n",
      "Wall time: 253 ms\n"
     ]
    }
   ],
   "source": [
    "%%time\n",
    "\n",
    "for _ in range(10):\n",
    "    my_list2 = [i * 2 for i in my_list]"
   ]
  },
  {
   "cell_type": "code",
   "execution_count": 20,
   "id": "6f2a07a1",
   "metadata": {},
   "outputs": [
    {
     "data": {
      "text/plain": [
       "999999000000"
      ]
     },
     "execution_count": 20,
     "metadata": {},
     "output_type": "execute_result"
    }
   ],
   "source": [
    "sum(my_list2)"
   ]
  },
  {
   "cell_type": "code",
   "execution_count": 17,
   "id": "ec82b037",
   "metadata": {},
   "outputs": [],
   "source": [
    "my_array = np.array(my_list)"
   ]
  },
  {
   "cell_type": "code",
   "execution_count": 19,
   "id": "989cfa55",
   "metadata": {},
   "outputs": [
    {
     "name": "stdout",
     "output_type": "stream",
     "text": [
      "CPU times: user 13.6 ms, sys: 15.5 ms, total: 29.1 ms\n",
      "Wall time: 36.6 ms\n"
     ]
    }
   ],
   "source": [
    "%%time\n",
    "\n",
    "for _ in range(10):\n",
    "    my_array2 = my_array * 2"
   ]
  },
  {
   "cell_type": "code",
   "execution_count": 21,
   "id": "12c6f1d7",
   "metadata": {},
   "outputs": [
    {
     "data": {
      "text/plain": [
       "999999000000"
      ]
     },
     "execution_count": 21,
     "metadata": {},
     "output_type": "execute_result"
    }
   ],
   "source": [
    "sum(my_array2)"
   ]
  },
  {
   "cell_type": "code",
   "execution_count": 24,
   "id": "d54447bd",
   "metadata": {},
   "outputs": [
    {
     "name": "stdout",
     "output_type": "stream",
     "text": [
      "[[1 2]\n",
      " [3 4]]\n"
     ]
    }
   ],
   "source": [
    "print(np.array([[1, 2], [3, 4]]))"
   ]
  },
  {
   "cell_type": "code",
   "execution_count": 46,
   "id": "a2a37f58",
   "metadata": {},
   "outputs": [
    {
     "name": "stdout",
     "output_type": "stream",
     "text": [
      "[2 3 4 5 6 7 8 9]\n"
     ]
    }
   ],
   "source": [
    "print(np.arange(2, 10))"
   ]
  },
  {
   "cell_type": "code",
   "execution_count": 27,
   "id": "dee0e2c5",
   "metadata": {},
   "outputs": [
    {
     "data": {
      "text/plain": [
       "[2, 4, 6, 8]"
      ]
     },
     "execution_count": 27,
     "metadata": {},
     "output_type": "execute_result"
    }
   ],
   "source": [
    "list(range(2, 10, 2))"
   ]
  },
  {
   "cell_type": "code",
   "execution_count": 47,
   "id": "73879e57",
   "metadata": {},
   "outputs": [
    {
     "data": {
      "text/plain": [
       "array([ 0.,  1.,  2.,  3.,  4.,  5.,  6.,  7.,  8.,  9., 10.])"
      ]
     },
     "execution_count": 47,
     "metadata": {},
     "output_type": "execute_result"
    }
   ],
   "source": [
    "np.linspace(0, 10, num=11)"
   ]
  },
  {
   "cell_type": "code",
   "execution_count": 49,
   "id": "336d0777",
   "metadata": {},
   "outputs": [
    {
     "data": {
      "text/plain": [
       "array([0., 1., 2., 3., 4., 5., 6., 7., 8., 9.])"
      ]
     },
     "execution_count": 49,
     "metadata": {},
     "output_type": "execute_result"
    }
   ],
   "source": [
    "np.linspace(0, 10, num=10, endpoint=False)"
   ]
  },
  {
   "cell_type": "code",
   "execution_count": 56,
   "id": "5e5466df",
   "metadata": {},
   "outputs": [
    {
     "name": "stdout",
     "output_type": "stream",
     "text": [
      "[[1 1 1]\n",
      " [1 1 1]]\n"
     ]
    }
   ],
   "source": [
    "print(np.ones((2, 3), dtype=np.int64))"
   ]
  },
  {
   "cell_type": "code",
   "execution_count": 60,
   "id": "c3317df3",
   "metadata": {},
   "outputs": [],
   "source": [
    "array_zero = np.zeros((2, 3))"
   ]
  },
  {
   "cell_type": "code",
   "execution_count": 65,
   "id": "825dba13",
   "metadata": {},
   "outputs": [],
   "source": [
    "array_zero[0, 2] = 5"
   ]
  },
  {
   "cell_type": "code",
   "execution_count": 66,
   "id": "dbed4b56",
   "metadata": {},
   "outputs": [
    {
     "data": {
      "text/plain": [
       "array([[5., 0., 5.],\n",
       "       [0., 0., 0.]])"
      ]
     },
     "execution_count": 66,
     "metadata": {},
     "output_type": "execute_result"
    }
   ],
   "source": [
    "array_zero"
   ]
  },
  {
   "cell_type": "code",
   "execution_count": 74,
   "id": "960ba66f",
   "metadata": {},
   "outputs": [
    {
     "data": {
      "text/plain": [
       "array([[0., 0.],\n",
       "       [0., 0.],\n",
       "       [0., 0.],\n",
       "       [0., 0.],\n",
       "       [0., 0.],\n",
       "       [0., 0.],\n",
       "       [0., 0.],\n",
       "       [0., 0.],\n",
       "       [0., 0.],\n",
       "       [0., 0.]])"
      ]
     },
     "execution_count": 74,
     "metadata": {},
     "output_type": "execute_result"
    }
   ],
   "source": [
    "np.empty((10, 2))"
   ]
  },
  {
   "cell_type": "code",
   "execution_count": 75,
   "id": "bbfc4085",
   "metadata": {},
   "outputs": [
    {
     "data": {
      "text/plain": [
       "array([[4, 4, 4, 4],\n",
       "       [4, 4, 4, 4],\n",
       "       [4, 4, 4, 4]])"
      ]
     },
     "execution_count": 75,
     "metadata": {},
     "output_type": "execute_result"
    }
   ],
   "source": [
    "np.full((3, 4), 4)"
   ]
  },
  {
   "cell_type": "code",
   "execution_count": 76,
   "id": "48308d54",
   "metadata": {},
   "outputs": [
    {
     "data": {
      "text/plain": [
       "array([[1., 0., 0., 0.],\n",
       "       [0., 1., 0., 0.],\n",
       "       [0., 0., 1., 0.],\n",
       "       [0., 0., 0., 1.]])"
      ]
     },
     "execution_count": 76,
     "metadata": {},
     "output_type": "execute_result"
    }
   ],
   "source": [
    "np.eye(4)"
   ]
  },
  {
   "cell_type": "code",
   "execution_count": 77,
   "id": "66df5372",
   "metadata": {},
   "outputs": [
    {
     "data": {
      "text/plain": [
       "array([[1., 0., 0., 0.],\n",
       "       [0., 1., 0., 0.],\n",
       "       [0., 0., 1., 0.],\n",
       "       [0., 0., 0., 1.]])"
      ]
     },
     "execution_count": 77,
     "metadata": {},
     "output_type": "execute_result"
    }
   ],
   "source": [
    "np.identity(4)"
   ]
  },
  {
   "cell_type": "code",
   "execution_count": null,
   "id": "9bb8970c",
   "metadata": {},
   "outputs": [],
   "source": []
  },
  {
   "cell_type": "code",
   "execution_count": 37,
   "id": "da56d2b5",
   "metadata": {},
   "outputs": [
    {
     "data": {
      "text/plain": [
       "numpy.float64"
      ]
     },
     "execution_count": 37,
     "metadata": {},
     "output_type": "execute_result"
    }
   ],
   "source": [
    "type(array1[0])"
   ]
  },
  {
   "cell_type": "code",
   "execution_count": 44,
   "id": "a8971b7a",
   "metadata": {},
   "outputs": [
    {
     "name": "stdout",
     "output_type": "stream",
     "text": [
      "['a' '3']\n"
     ]
    }
   ],
   "source": [
    "print(np.array([\"a\", 3]))"
   ]
  },
  {
   "cell_type": "markdown",
   "id": "26ff2159",
   "metadata": {},
   "source": []
  },
  {
   "cell_type": "code",
   "execution_count": null,
   "id": "d787bc5f",
   "metadata": {},
   "outputs": [],
   "source": []
  }
 ],
 "metadata": {
  "kernelspec": {
   "display_name": "Python 3 (ipykernel)",
   "language": "python",
   "name": "python3"
  },
  "language_info": {
   "codemirror_mode": {
    "name": "ipython",
    "version": 3
   },
   "file_extension": ".py",
   "mimetype": "text/x-python",
   "name": "python",
   "nbconvert_exporter": "python",
   "pygments_lexer": "ipython3",
   "version": "3.11.4"
  }
 },
 "nbformat": 4,
 "nbformat_minor": 5
}
