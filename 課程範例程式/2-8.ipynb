{
 "cells": [
  {
   "cell_type": "code",
   "execution_count": 2,
   "id": "c4350717",
   "metadata": {},
   "outputs": [
    {
     "name": "stdout",
     "output_type": "stream",
     "text": [
      "Hello, my name is Steve , and I'm 40 years old.\n"
     ]
    }
   ],
   "source": [
    "name = \"Steve\"\n",
    "age = 40\n",
    "print(\"Hello, my name is\", name, \", and I'm\", age, \"years old.\")"
   ]
  },
  {
   "cell_type": "code",
   "execution_count": 7,
   "id": "d3e2a0db",
   "metadata": {},
   "outputs": [
    {
     "data": {
      "text/plain": [
       "\"Hello, my name is Sam, and I'm 40 years old.\""
      ]
     },
     "execution_count": 7,
     "metadata": {},
     "output_type": "execute_result"
    }
   ],
   "source": [
    "name = \"Sam\"\n",
    "name_mine = \"Steve\"\n",
    "age = 40\n",
    "greeting = f\"Hello, my name is {name}, and I'm {age} years old.\"  # f-string\n",
    "greeting"
   ]
  },
  {
   "cell_type": "code",
   "execution_count": 5,
   "id": "d19d9f92",
   "metadata": {},
   "outputs": [
    {
     "data": {
      "text/plain": [
       "\"Hello, my name is Steve, and I'm 40 years old.\""
      ]
     },
     "execution_count": 5,
     "metadata": {},
     "output_type": "execute_result"
    }
   ],
   "source": [
    "greeting"
   ]
  },
  {
   "cell_type": "code",
   "execution_count": 23,
   "id": "e8ab22f2",
   "metadata": {},
   "outputs": [
    {
     "data": {
      "text/plain": [
       "\"Hello, World, my name Sam and I'm 40 years old. My bmi is 24.12\""
      ]
     },
     "execution_count": 23,
     "metadata": {},
     "output_type": "execute_result"
    }
   ],
   "source": [
    "\"Hello, World, my name {na} and I'm {age} years old. My bmi is {bmi:.2f}\".format(age=age, bmi=24.1234567, na=name)"
   ]
  },
  {
   "cell_type": "code",
   "execution_count": 25,
   "id": "776a700c",
   "metadata": {},
   "outputs": [],
   "source": [
    "greeting1 = \"Hello\"\n",
    "gretting2 = \"Steve\""
   ]
  },
  {
   "cell_type": "code",
   "execution_count": 30,
   "id": "d6047e3c",
   "metadata": {},
   "outputs": [
    {
     "data": {
      "text/plain": [
       "'HelloHelloHelloHelloHelloHelloHelloHelloHelloHello'"
      ]
     },
     "execution_count": 30,
     "metadata": {},
     "output_type": "execute_result"
    }
   ],
   "source": [
    "greeting1 * 10"
   ]
  },
  {
   "cell_type": "code",
   "execution_count": 33,
   "id": "d36e1df6",
   "metadata": {},
   "outputs": [
    {
     "ename": "TypeError",
     "evalue": "'str' object does not support item assignment",
     "output_type": "error",
     "traceback": [
      "\u001b[0;31m---------------------------------------------------------------------------\u001b[0m",
      "\u001b[0;31mTypeError\u001b[0m                                 Traceback (most recent call last)",
      "Cell \u001b[0;32mIn[33], line 1\u001b[0m\n\u001b[0;32m----> 1\u001b[0m greeting1[\u001b[38;5;241m0\u001b[39m] \u001b[38;5;241m=\u001b[39m \u001b[38;5;124m\"\u001b[39m\u001b[38;5;124mh\u001b[39m\u001b[38;5;124m\"\u001b[39m\n",
      "\u001b[0;31mTypeError\u001b[0m: 'str' object does not support item assignment"
     ]
    }
   ],
   "source": [
    "greeting1[0] = \"h\""
   ]
  },
  {
   "cell_type": "code",
   "execution_count": 35,
   "id": "220fb5e2",
   "metadata": {},
   "outputs": [
    {
     "ename": "IndexError",
     "evalue": "string index out of range",
     "output_type": "error",
     "traceback": [
      "\u001b[0;31m---------------------------------------------------------------------------\u001b[0m",
      "\u001b[0;31mIndexError\u001b[0m                                Traceback (most recent call last)",
      "Cell \u001b[0;32mIn[35], line 1\u001b[0m\n\u001b[0;32m----> 1\u001b[0m greeting1[\u001b[38;5;241m5\u001b[39m]\n",
      "\u001b[0;31mIndexError\u001b[0m: string index out of range"
     ]
    }
   ],
   "source": [
    "greeting1[5]"
   ]
  },
  {
   "cell_type": "code",
   "execution_count": 40,
   "id": "86d2bbf5",
   "metadata": {},
   "outputs": [
    {
     "data": {
      "text/plain": [
       "'HELLO'"
      ]
     },
     "execution_count": 40,
     "metadata": {},
     "output_type": "execute_result"
    }
   ],
   "source": [
    "greeting3 = \"hello\"\n",
    "greeting3.upper()"
   ]
  },
  {
   "cell_type": "code",
   "execution_count": 47,
   "id": "4b5ae32a",
   "metadata": {},
   "outputs": [
    {
     "data": {
      "text/plain": [
       "3"
      ]
     },
     "execution_count": 47,
     "metadata": {},
     "output_type": "execute_result"
    }
   ],
   "source": [
    "greeting3.index(\"l\", 3, 10)"
   ]
  },
  {
   "cell_type": "code",
   "execution_count": 56,
   "id": "06e703f8",
   "metadata": {},
   "outputs": [
    {
     "data": {
      "text/plain": [
       "'o'"
      ]
     },
     "execution_count": 56,
     "metadata": {},
     "output_type": "execute_result"
    }
   ],
   "source": [
    "greeting3.replace(\"hell\", \"\")"
   ]
  },
  {
   "cell_type": "code",
   "execution_count": 57,
   "id": "83c99a1c",
   "metadata": {},
   "outputs": [
    {
     "data": {
      "text/plain": [
       "'hello'"
      ]
     },
     "execution_count": 57,
     "metadata": {},
     "output_type": "execute_result"
    }
   ],
   "source": [
    "greeting3"
   ]
  },
  {
   "cell_type": "code",
   "execution_count": null,
   "id": "7d7ca18d",
   "metadata": {},
   "outputs": [],
   "source": []
  },
  {
   "cell_type": "code",
   "execution_count": 58,
   "id": "56a232e1",
   "metadata": {},
   "outputs": [
    {
     "name": "stdout",
     "output_type": "stream",
     "text": [
      "test\n"
     ]
    }
   ],
   "source": [
    "from sys import stdin\n",
    "\n",
    "line = \"Test\"\n",
    "print(line.lower())"
   ]
  },
  {
   "cell_type": "code",
   "execution_count": 59,
   "id": "84912aa4",
   "metadata": {},
   "outputs": [],
   "source": [
    "string1 = '180 80\\n'"
   ]
  },
  {
   "cell_type": "code",
   "execution_count": 71,
   "id": "ebd01291",
   "metadata": {},
   "outputs": [
    {
     "data": {
      "text/plain": [
       "24.69"
      ]
     },
     "execution_count": 71,
     "metadata": {},
     "output_type": "execute_result"
    }
   ],
   "source": [
    "string1 = string1.strip()\n",
    "data = string1.split()\n",
    "height = float(data[0])\n",
    "weight = float(data[1])\n",
    "round(weight / (height / 100) ** 2, 2)"
   ]
  },
  {
   "cell_type": "code",
   "execution_count": null,
   "id": "e19e506c",
   "metadata": {},
   "outputs": [],
   "source": []
  },
  {
   "cell_type": "code",
   "execution_count": 68,
   "id": "e6ab2da2",
   "metadata": {},
   "outputs": [
    {
     "data": {
      "text/plain": [
       "'180'"
      ]
     },
     "execution_count": 68,
     "metadata": {},
     "output_type": "execute_result"
    }
   ],
   "source": [
    "data[0]"
   ]
  },
  {
   "cell_type": "code",
   "execution_count": 69,
   "id": "f78a4326",
   "metadata": {},
   "outputs": [
    {
     "data": {
      "text/plain": [
       "'80'"
      ]
     },
     "execution_count": 69,
     "metadata": {},
     "output_type": "execute_result"
    }
   ],
   "source": [
    "data[1]"
   ]
  },
  {
   "cell_type": "code",
   "execution_count": null,
   "id": "fd720f79",
   "metadata": {},
   "outputs": [],
   "source": [
    "from sys import stdin  # 系統輸入的模組導入\n",
    "\n",
    "# string1 = list(stdin)[0]\n",
    "\n",
    "for line in stdin:\n",
    "    string1 = line.strip()\n",
    "    data = string1.split()\n",
    "    height = float(data[0])\n",
    "    weight = float(data[1])\n",
    "    bmi = round(weight / (height / 100) ** 2, 2)\n",
    "\n",
    "    print(bmi)"
   ]
  },
  {
   "cell_type": "code",
   "execution_count": null,
   "id": "e4b989c4",
   "metadata": {},
   "outputs": [],
   "source": []
  },
  {
   "cell_type": "code",
   "execution_count": null,
   "id": "4701eabe",
   "metadata": {},
   "outputs": [],
   "source": []
  },
  {
   "cell_type": "code",
   "execution_count": null,
   "id": "c430281d",
   "metadata": {},
   "outputs": [],
   "source": []
  }
 ],
 "metadata": {
  "kernelspec": {
   "display_name": "Python 3 (ipykernel)",
   "language": "python",
   "name": "python3"
  },
  "language_info": {
   "codemirror_mode": {
    "name": "ipython",
    "version": 3
   },
   "file_extension": ".py",
   "mimetype": "text/x-python",
   "name": "python",
   "nbconvert_exporter": "python",
   "pygments_lexer": "ipython3",
   "version": "3.11.4"
  }
 },
 "nbformat": 4,
 "nbformat_minor": 5
}
