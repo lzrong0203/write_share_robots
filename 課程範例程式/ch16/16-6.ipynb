{
 "cells": [
  {
   "cell_type": "code",
   "execution_count": 1,
   "id": "dda18597",
   "metadata": {},
   "outputs": [],
   "source": [
    "from matplotlib import pyplot as plt\n",
    "%matplotlib inline\n",
    "import yfinance as yf\n",
    "import numpy as np"
   ]
  },
  {
   "cell_type": "code",
   "execution_count": 18,
   "id": "41ee96da",
   "metadata": {},
   "outputs": [
    {
     "name": "stdout",
     "output_type": "stream",
     "text": [
      "[*********************100%%**********************]  1 of 1 completed\n"
     ]
    }
   ],
   "source": [
    "tsmc = yf.download(\"2330.tw\", start=\"2023-10-01\", end=\"2023-10-31\")\n",
    "tsmc['Change'] = tsmc['Close'].diff()\n",
    "tsmc[\"K_Change\"] = tsmc.Close - tsmc.Open\n",
    "tsmc2 = tsmc.dropna()"
   ]
  },
  {
   "cell_type": "code",
   "execution_count": 24,
   "id": "5aed907b",
   "metadata": {},
   "outputs": [
    {
     "name": "stderr",
     "output_type": "stream",
     "text": [
      "/var/folders/wz/nykyh5gs2ydchhm_zdd_mkth0000gn/T/ipykernel_31860/2582067.py:2: SettingWithCopyWarning: \n",
      "A value is trying to be set on a copy of a slice from a DataFrame.\n",
      "Try using .loc[row_indexer,col_indexer] = value instead\n",
      "\n",
      "See the caveats in the documentation: https://pandas.pydata.org/pandas-docs/stable/user_guide/indexing.html#returning-a-view-versus-a-copy\n",
      "  tsmc2[\"Change_status\"] = tsmc2.Change.apply(lambda x: \"r\" if x > 0 else(\"k\" if x == 0 else \"g\"))\n",
      "/var/folders/wz/nykyh5gs2ydchhm_zdd_mkth0000gn/T/ipykernel_31860/2582067.py:3: SettingWithCopyWarning: \n",
      "A value is trying to be set on a copy of a slice from a DataFrame.\n",
      "Try using .loc[row_indexer,col_indexer] = value instead\n",
      "\n",
      "See the caveats in the documentation: https://pandas.pydata.org/pandas-docs/stable/user_guide/indexing.html#returning-a-view-versus-a-copy\n",
      "  tsmc2[\"Adjusted_change\"] = tsmc.Change.apply(lambda x: 0.05 if x == 0 else x)  # 為平盤設定最小高度0.1\n"
     ]
    },
    {
     "data": {
      "image/png": "[encoded data removed]",
      "text/plain": [
       "<Figure size 1080x576 with 1 Axes>"
      ]
     },
     "metadata": {
      "needs_background": "light"
     },
     "output_type": "display_data"
    }
   ],
   "source": [
    "plt.figure(figsize=(15, 8))\n",
    "tsmc2[\"Change_status\"] = tsmc2.Change.apply(lambda x: \"r\" if x > 0 else(\"k\" if x == 0 else \"g\"))\n",
    "tsmc2[\"Adjusted_change\"] = tsmc.Change.apply(lambda x: 0.05 if x == 0 else x)  # 為平盤設定最小高度0.1\n",
    "x = np.arange(tsmc2.index.size)\n",
    "plt.xticks(x, tsmc2.index.strftime(\"%Y-%m-%d\"))\n",
    "plt.bar(x, tsmc2.Adjusted_change, color=tsmc2.Change_status)\n",
    "plt.gcf().autofmt_xdate() # 自動旋轉日期標籤，以避免重疊\n",
    "plt.show()"
   ]
  },
  {
   "cell_type": "code",
   "execution_count": 21,
   "id": "65fdc9f3",
   "metadata": {},
   "outputs": [
    {
     "data": {
      "text/html": [
       "<div>\n",
       "<style scoped>\n",
       "    .dataframe tbody tr th:only-of-type {\n",
       "        vertical-align: middle;\n",
       "    }\n",
       "\n",
       "    .dataframe tbody tr th {\n",
       "        vertical-align: top;\n",
       "    }\n",
       "\n",
       "    .dataframe thead th {\n",
       "        text-align: right;\n",
       "    }\n",
       "</style>\n",
       "<table border=\"1\" class=\"dataframe\">\n",
       "  <thead>\n",
       "    <tr style=\"text-align: right;\">\n",
       "      <th></th>\n",
       "      <th>Open</th>\n",
       "      <th>High</th>\n",
       "      <th>Low</th>\n",
       "      <th>Close</th>\n",
       "      <th>Adj Close</th>\n",
       "      <th>Volume</th>\n",
       "      <th>Change</th>\n",
       "      <th>K_Change</th>\n",
       "    </tr>\n",
       "    <tr>\n",
       "      <th>Date</th>\n",
       "      <th></th>\n",
       "      <th></th>\n",
       "      <th></th>\n",
       "      <th></th>\n",
       "      <th></th>\n",
       "      <th></th>\n",
       "      <th></th>\n",
       "      <th></th>\n",
       "    </tr>\n",
       "  </thead>\n",
       "  <tbody>\n",
       "    <tr>\n",
       "      <th>2023-10-03</th>\n",
       "      <td>528.0</td>\n",
       "      <td>533.0</td>\n",
       "      <td>528.0</td>\n",
       "      <td>529.0</td>\n",
       "      <td>523.803650</td>\n",
       "      <td>14490129</td>\n",
       "      <td>-4.0</td>\n",
       "      <td>1.0</td>\n",
       "    </tr>\n",
       "    <tr>\n",
       "      <th>2023-10-04</th>\n",
       "      <td>521.0</td>\n",
       "      <td>523.0</td>\n",
       "      <td>519.0</td>\n",
       "      <td>520.0</td>\n",
       "      <td>514.892029</td>\n",
       "      <td>28358964</td>\n",
       "      <td>-9.0</td>\n",
       "      <td>-1.0</td>\n",
       "    </tr>\n",
       "    <tr>\n",
       "      <th>2023-10-05</th>\n",
       "      <td>523.0</td>\n",
       "      <td>529.0</td>\n",
       "      <td>523.0</td>\n",
       "      <td>528.0</td>\n",
       "      <td>522.813477</td>\n",
       "      <td>24945684</td>\n",
       "      <td>8.0</td>\n",
       "      <td>5.0</td>\n",
       "    </tr>\n",
       "    <tr>\n",
       "      <th>2023-10-06</th>\n",
       "      <td>530.0</td>\n",
       "      <td>533.0</td>\n",
       "      <td>529.0</td>\n",
       "      <td>532.0</td>\n",
       "      <td>526.774231</td>\n",
       "      <td>15336587</td>\n",
       "      <td>4.0</td>\n",
       "      <td>2.0</td>\n",
       "    </tr>\n",
       "    <tr>\n",
       "      <th>2023-10-11</th>\n",
       "      <td>542.0</td>\n",
       "      <td>544.0</td>\n",
       "      <td>540.0</td>\n",
       "      <td>544.0</td>\n",
       "      <td>538.656311</td>\n",
       "      <td>46639969</td>\n",
       "      <td>12.0</td>\n",
       "      <td>2.0</td>\n",
       "    </tr>\n",
       "    <tr>\n",
       "      <th>2023-10-12</th>\n",
       "      <td>545.0</td>\n",
       "      <td>550.0</td>\n",
       "      <td>544.0</td>\n",
       "      <td>550.0</td>\n",
       "      <td>544.597412</td>\n",
       "      <td>34161176</td>\n",
       "      <td>6.0</td>\n",
       "      <td>5.0</td>\n",
       "    </tr>\n",
       "    <tr>\n",
       "      <th>2023-10-13</th>\n",
       "      <td>550.0</td>\n",
       "      <td>554.0</td>\n",
       "      <td>548.0</td>\n",
       "      <td>553.0</td>\n",
       "      <td>547.567871</td>\n",
       "      <td>31123496</td>\n",
       "      <td>3.0</td>\n",
       "      <td>3.0</td>\n",
       "    </tr>\n",
       "    <tr>\n",
       "      <th>2023-10-16</th>\n",
       "      <td>546.0</td>\n",
       "      <td>547.0</td>\n",
       "      <td>542.0</td>\n",
       "      <td>545.0</td>\n",
       "      <td>539.646545</td>\n",
       "      <td>19875676</td>\n",
       "      <td>-8.0</td>\n",
       "      <td>-1.0</td>\n",
       "    </tr>\n",
       "    <tr>\n",
       "      <th>2023-10-17</th>\n",
       "      <td>550.0</td>\n",
       "      <td>552.0</td>\n",
       "      <td>548.0</td>\n",
       "      <td>551.0</td>\n",
       "      <td>545.587585</td>\n",
       "      <td>18364998</td>\n",
       "      <td>6.0</td>\n",
       "      <td>1.0</td>\n",
       "    </tr>\n",
       "    <tr>\n",
       "      <th>2023-10-18</th>\n",
       "      <td>549.0</td>\n",
       "      <td>549.0</td>\n",
       "      <td>540.0</td>\n",
       "      <td>540.0</td>\n",
       "      <td>534.695618</td>\n",
       "      <td>26418940</td>\n",
       "      <td>-11.0</td>\n",
       "      <td>-9.0</td>\n",
       "    </tr>\n",
       "    <tr>\n",
       "      <th>2023-10-19</th>\n",
       "      <td>540.0</td>\n",
       "      <td>548.0</td>\n",
       "      <td>540.0</td>\n",
       "      <td>546.0</td>\n",
       "      <td>540.636658</td>\n",
       "      <td>22881262</td>\n",
       "      <td>6.0</td>\n",
       "      <td>6.0</td>\n",
       "    </tr>\n",
       "    <tr>\n",
       "      <th>2023-10-20</th>\n",
       "      <td>549.0</td>\n",
       "      <td>556.0</td>\n",
       "      <td>546.0</td>\n",
       "      <td>556.0</td>\n",
       "      <td>550.538452</td>\n",
       "      <td>45984177</td>\n",
       "      <td>10.0</td>\n",
       "      <td>7.0</td>\n",
       "    </tr>\n",
       "    <tr>\n",
       "      <th>2023-10-23</th>\n",
       "      <td>552.0</td>\n",
       "      <td>553.0</td>\n",
       "      <td>543.0</td>\n",
       "      <td>544.0</td>\n",
       "      <td>538.656311</td>\n",
       "      <td>22747367</td>\n",
       "      <td>-12.0</td>\n",
       "      <td>-8.0</td>\n",
       "    </tr>\n",
       "    <tr>\n",
       "      <th>2023-10-24</th>\n",
       "      <td>543.0</td>\n",
       "      <td>546.0</td>\n",
       "      <td>540.0</td>\n",
       "      <td>544.0</td>\n",
       "      <td>538.656311</td>\n",
       "      <td>15007814</td>\n",
       "      <td>0.0</td>\n",
       "      <td>1.0</td>\n",
       "    </tr>\n",
       "    <tr>\n",
       "      <th>2023-10-25</th>\n",
       "      <td>544.0</td>\n",
       "      <td>551.0</td>\n",
       "      <td>544.0</td>\n",
       "      <td>544.0</td>\n",
       "      <td>538.656311</td>\n",
       "      <td>16526355</td>\n",
       "      <td>0.0</td>\n",
       "      <td>0.0</td>\n",
       "    </tr>\n",
       "    <tr>\n",
       "      <th>2023-10-26</th>\n",
       "      <td>530.0</td>\n",
       "      <td>535.0</td>\n",
       "      <td>530.0</td>\n",
       "      <td>531.0</td>\n",
       "      <td>525.784058</td>\n",
       "      <td>28188348</td>\n",
       "      <td>-13.0</td>\n",
       "      <td>1.0</td>\n",
       "    </tr>\n",
       "    <tr>\n",
       "      <th>2023-10-27</th>\n",
       "      <td>534.0</td>\n",
       "      <td>536.0</td>\n",
       "      <td>532.0</td>\n",
       "      <td>533.0</td>\n",
       "      <td>527.764343</td>\n",
       "      <td>15679643</td>\n",
       "      <td>2.0</td>\n",
       "      <td>-1.0</td>\n",
       "    </tr>\n",
       "    <tr>\n",
       "      <th>2023-10-30</th>\n",
       "      <td>531.0</td>\n",
       "      <td>534.0</td>\n",
       "      <td>528.0</td>\n",
       "      <td>532.0</td>\n",
       "      <td>526.774231</td>\n",
       "      <td>21404842</td>\n",
       "      <td>-1.0</td>\n",
       "      <td>1.0</td>\n",
       "    </tr>\n",
       "  </tbody>\n",
       "</table>\n",
       "</div>"
      ],
      "text/plain": [
       "             Open   High    Low  Close   Adj Close    Volume  Change  K_Change\n",
       "Date                                                                          \n",
       "2023-10-03  528.0  533.0  528.0  529.0  523.803650  14490129    -4.0       1.0\n",
       "2023-10-04  521.0  523.0  519.0  520.0  514.892029  28358964    -9.0      -1.0\n",
       "2023-10-05  523.0  529.0  523.0  528.0  522.813477  24945684     8.0       5.0\n",
       "2023-10-06  530.0  533.0  529.0  532.0  526.774231  15336587     4.0       2.0\n",
       "2023-10-11  542.0  544.0  540.0  544.0  538.656311  46639969    12.0       2.0\n",
       "2023-10-12  545.0  550.0  544.0  550.0  544.597412  34161176     6.0       5.0\n",
       "2023-10-13  550.0  554.0  548.0  553.0  547.567871  31123496     3.0       3.0\n",
       "2023-10-16  546.0  547.0  542.0  545.0  539.646545  19875676    -8.0      -1.0\n",
       "2023-10-17  550.0  552.0  548.0  551.0  545.587585  18364998     6.0       1.0\n",
       "2023-10-18  549.0  549.0  540.0  540.0  534.695618  26418940   -11.0      -9.0\n",
       "2023-10-19  540.0  548.0  540.0  546.0  540.636658  22881262     6.0       6.0\n",
       "2023-10-20  549.0  556.0  546.0  556.0  550.538452  45984177    10.0       7.0\n",
       "2023-10-23  552.0  553.0  543.0  544.0  538.656311  22747367   -12.0      -8.0\n",
       "2023-10-24  543.0  546.0  540.0  544.0  538.656311  15007814     0.0       1.0\n",
       "2023-10-25  544.0  551.0  544.0  544.0  538.656311  16526355     0.0       0.0\n",
       "2023-10-26  530.0  535.0  530.0  531.0  525.784058  28188348   -13.0       1.0\n",
       "2023-10-27  534.0  536.0  532.0  533.0  527.764343  15679643     2.0      -1.0\n",
       "2023-10-30  531.0  534.0  528.0  532.0  526.774231  21404842    -1.0       1.0"
      ]
     },
     "execution_count": 21,
     "metadata": {},
     "output_type": "execute_result"
    }
   ],
   "source": [
    "tsmc.dropna()"
   ]
  },
  {
   "cell_type": "code",
   "execution_count": 27,
   "id": "ddfab9e3",
   "metadata": {},
   "outputs": [
    {
     "name": "stdout",
     "output_type": "stream",
     "text": [
      "[*********************100%%**********************]  1 of 1 completed\n"
     ]
    },
    {
     "name": "stderr",
     "output_type": "stream",
     "text": [
      "/var/folders/wz/nykyh5gs2ydchhm_zdd_mkth0000gn/T/ipykernel_31860/3029805310.py:7: SettingWithCopyWarning: \n",
      "A value is trying to be set on a copy of a slice from a DataFrame.\n",
      "Try using .loc[row_indexer,col_indexer] = value instead\n",
      "\n",
      "See the caveats in the documentation: https://pandas.pydata.org/pandas-docs/stable/user_guide/indexing.html#returning-a-view-versus-a-copy\n",
      "  tsmc2[\"Change_status\"] = tsmc2.Change.apply(lambda x: \"r\" if x > 0 else(\"k\" if x == 0 else \"g\"))\n",
      "/var/folders/wz/nykyh5gs2ydchhm_zdd_mkth0000gn/T/ipykernel_31860/3029805310.py:8: SettingWithCopyWarning: \n",
      "A value is trying to be set on a copy of a slice from a DataFrame.\n",
      "Try using .loc[row_indexer,col_indexer] = value instead\n",
      "\n",
      "See the caveats in the documentation: https://pandas.pydata.org/pandas-docs/stable/user_guide/indexing.html#returning-a-view-versus-a-copy\n",
      "  tsmc2[\"Adjusted_change\"] = tsmc.Change.apply(lambda x: 0.05 if x == 0 else x)  # 為平盤設定最小高度0.1\n"
     ]
    },
    {
     "data": {
      "image/png": "[encoded data removed]",
      "text/plain": [
       "<Figure size 1800x576 with 1 Axes>"
      ]
     },
     "metadata": {
      "needs_background": "light"
     },
     "output_type": "display_data"
    }
   ],
   "source": [
    "tsmc = yf.download(\"2330.tw\", start=\"2023-01-01\", end=\"2023-10-31\")\n",
    "tsmc['Change'] = tsmc['Close'].diff()\n",
    "tsmc[\"K_Change\"] = tsmc.Close - tsmc.Open\n",
    "tsmc2 = tsmc.dropna()\n",
    "\n",
    "plt.figure(figsize=(25, 8))\n",
    "tsmc2[\"Change_status\"] = tsmc2.Change.apply(lambda x: \"r\" if x > 0 else(\"k\" if x == 0 else \"g\"))\n",
    "tsmc2[\"Adjusted_change\"] = tsmc.Change.apply(lambda x: 0.05 if x == 0 else x)  # 為平盤設定最小高度0.1\n",
    "x = np.arange(tsmc2.index.size)\n",
    "plt.xticks(x, tsmc2.index.strftime(\"%m-%d\"))\n",
    "plt.bar(x, tsmc2.Adjusted_change, color=tsmc2.Change_status)\n",
    "plt.gcf().autofmt_xdate() # 自動旋轉日期標籤，以避免重疊\n",
    "plt.show()"
   ]
  },
  {
   "cell_type": "code",
   "execution_count": 28,
   "id": "d1754ad8",
   "metadata": {},
   "outputs": [],
   "source": [
    "import numpy.random as nr"
   ]
  },
  {
   "cell_type": "code",
   "execution_count": 54,
   "id": "8d4627da",
   "metadata": {},
   "outputs": [
    {
     "data": {
      "image/png": "[encoded data removed]",
      "text/plain": [
       "<Figure size 1080x576 with 1 Axes>"
      ]
     },
     "metadata": {
      "needs_background": "light"
     },
     "output_type": "display_data"
    }
   ],
   "source": [
    "plt.figure(figsize=(15, 8))\n",
    "x = np.arange(20)\n",
    "width = 0.8\n",
    "nr.seed(0)\n",
    "plt.xticks(x)\n",
    "y1 = nr.randn(20)\n",
    "y2 = nr.randn(20)\n",
    "plt.bar(x - width / 4 , y1, width=width / 2)\n",
    "plt.bar(x + width / 4, y2, width=width / 2)\n",
    "plt.grid()\n",
    "plt.show()"
   ]
  },
  {
   "cell_type": "code",
   "execution_count": 60,
   "id": "5b7353f4",
   "metadata": {},
   "outputs": [
    {
     "data": {
      "image/png": "[encoded data removed]",
      "text/plain": [
       "<Figure size 1080x576 with 1 Axes>"
      ]
     },
     "metadata": {
      "needs_background": "light"
     },
     "output_type": "display_data"
    }
   ],
   "source": [
    "plt.figure(figsize=(15, 8))\n",
    "x = np.arange(20)\n",
    "width = 0.8\n",
    "nr.seed(0)\n",
    "plt.xticks(x)\n",
    "y1 = nr.randint(1, 50, 20)\n",
    "y2 = nr.randint(1, 50, 20)\n",
    "plt.bar(x , y1, label=\"y1\")\n",
    "plt.bar(x, y2, bottom=y1, label=\"y2\")\n",
    "plt.legend()\n",
    "plt.grid()\n",
    "plt.show()"
   ]
  },
  {
   "cell_type": "code",
   "execution_count": 58,
   "id": "5af15d99",
   "metadata": {},
   "outputs": [
    {
     "data": {
      "text/plain": [
       "45"
      ]
     },
     "execution_count": 58,
     "metadata": {},
     "output_type": "execute_result"
    }
   ],
   "source": [
    "y1[0]"
   ]
  },
  {
   "cell_type": "code",
   "execution_count": 59,
   "id": "99692b3d",
   "metadata": {},
   "outputs": [
    {
     "data": {
      "text/plain": [
       "25"
      ]
     },
     "execution_count": 59,
     "metadata": {},
     "output_type": "execute_result"
    }
   ],
   "source": [
    "y2[0]"
   ]
  },
  {
   "cell_type": "code",
   "execution_count": null,
   "id": "d36d56c7",
   "metadata": {},
   "outputs": [],
   "source": []
  },
  {
   "cell_type": "code",
   "execution_count": null,
   "id": "ea9746b9",
   "metadata": {},
   "outputs": [],
   "source": []
  },
  {
   "cell_type": "code",
   "execution_count": null,
   "id": "ad9173be",
   "metadata": {},
   "outputs": [],
   "source": []
  },
  {
   "cell_type": "code",
   "execution_count": null,
   "id": "6d9089d6",
   "metadata": {},
   "outputs": [],
   "source": []
  },
  {
   "cell_type": "code",
   "execution_count": null,
   "id": "c8c26abb",
   "metadata": {},
   "outputs": [],
   "source": []
  },
  {
   "cell_type": "code",
   "execution_count": null,
   "id": "2243789d",
   "metadata": {},
   "outputs": [],
   "source": []
  },
  {
   "cell_type": "code",
   "execution_count": null,
   "id": "994a58c2",
   "metadata": {},
   "outputs": [],
   "source": []
  },
  {
   "cell_type": "code",
   "execution_count": null,
   "id": "f6a7ce4b",
   "metadata": {},
   "outputs": [],
   "source": []
  }
 ],
 "metadata": {
  "kernelspec": {
   "display_name": "Python 3 (ipykernel)",
   "language": "python",
   "name": "python3"
  },
  "language_info": {
   "codemirror_mode": {
    "name": "ipython",
    "version": 3
   },
   "file_extension": ".py",
   "mimetype": "text/x-python",
   "name": "python",
   "nbconvert_exporter": "python",
   "pygments_lexer": "ipython3",
   "version": "3.11.4"
  }
 },
 "nbformat": 4,
 "nbformat_minor": 5
}
