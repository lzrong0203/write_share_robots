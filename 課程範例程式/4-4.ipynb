{
 "cells": [
  {
   "cell_type": "markdown",
   "id": "1780198a",
   "metadata": {},
   "source": [
    "## Python 函數定義與使用\n",
    "\n",
    "### 基礎參數類型\n",
    "\n",
    "| 類型       | 描述                                                    | 範例                                     |\n",
    "|------------|---------------------------------------------------------|------------------------------------------|\n",
    "| 位置參數   | 依據位置順序傳遞參數                                    | `def func(a, b):`<br>`...`               |\n",
    "| 預設值參數 | 在定義函數時給予參數預設值                                | `def func(a, b=2):`<br>`...`             |\n",
    "\n",
    "### 進階參數類型\n",
    "\n",
    "| 類型         | 描述                                                      | 範例                                              |\n",
    "|--------------|-----------------------------------------------------------|---------------------------------------------------|\n",
    "| `*args`     | 通過位置傳遞任意數量的參數，收集到一個元組中               | `def func(*args):`<br>`...`                       |\n",
    "| `**kwargs`  | 通過關鍵字傳遞任意數量的參數，收集到一個字典中             | `def func(**kwargs):`<br>`...`                    |\n",
    "| 關鍵字參數   | 使用關鍵字傳遞參數，允許更靈活的參數順序                   | `def func(a, b):`<br>`func(b=2, a=1)`             |\n",
    "| `*`         | 強制後面的參數只能以關鍵字形式傳遞                         | `def func(a, *, b):`<br>`func(a=1, b=2)`          |\n",
    "\n",
    "### 使用範例\n",
    "\n",
    "```python\n",
    "# 位置參數\n",
    "def example1(a, b):\n",
    "    return a + b\n",
    "\n",
    "# 預設值參數\n",
    "def example2(a, b=10):\n",
    "    return a + b\n",
    "\n",
    "# 使用 *args\n",
    "def example3(*args):\n",
    "    return sum(args)\n",
    "\n",
    "# 使用 **kwargs\n",
    "def example4(**kwargs):\n",
    "    return \", \".join(f\"{k}={v}\" for k, v in kwargs.items())\n",
    "\n",
    "# 關鍵字參數\n",
    "def example5(a, b):\n",
    "    return a * b\n",
    "\n",
    "# 強制後面的參數只能以關鍵字形式傳遞\n",
    "def example6(a, *, b):\n",
    "    return a * b\n"
   ]
  },
  {
   "cell_type": "code",
   "execution_count": 12,
   "id": "9712f71b",
   "metadata": {},
   "outputs": [
    {
     "data": {
      "text/plain": [
       "4"
      ]
     },
     "execution_count": 12,
     "metadata": {},
     "output_type": "execute_result"
    }
   ],
   "source": [
    "def example1(a, b):\n",
    "    return a + b\n",
    "example1(1, b=3)"
   ]
  },
  {
   "cell_type": "code",
   "execution_count": 10,
   "id": "a56dc6d9",
   "metadata": {},
   "outputs": [
    {
     "data": {
      "text/plain": [
       "8"
      ]
     },
     "execution_count": 10,
     "metadata": {},
     "output_type": "execute_result"
    }
   ],
   "source": [
    "def example6(a, *, b, c=5, d):\n",
    "    return a * b\n",
    "example6(2, b=4, d=5)"
   ]
  },
  {
   "cell_type": "code",
   "execution_count": null,
   "id": "2c100525",
   "metadata": {},
   "outputs": [],
   "source": []
  },
  {
   "cell_type": "code",
   "execution_count": null,
   "id": "900b50e7",
   "metadata": {},
   "outputs": [],
   "source": []
  },
  {
   "cell_type": "code",
   "execution_count": null,
   "id": "7abc375f",
   "metadata": {},
   "outputs": [],
   "source": []
  },
  {
   "cell_type": "code",
   "execution_count": null,
   "id": "1dd62232",
   "metadata": {},
   "outputs": [],
   "source": []
  },
  {
   "cell_type": "code",
   "execution_count": null,
   "id": "834879d1",
   "metadata": {},
   "outputs": [],
   "source": []
  },
  {
   "cell_type": "code",
   "execution_count": null,
   "id": "e8a05b69",
   "metadata": {},
   "outputs": [],
   "source": []
  },
  {
   "cell_type": "markdown",
   "id": "cfc7db9e",
   "metadata": {},
   "source": [
    "## Python 函數參數混用規則\n",
    "\n",
    "| 混用情況                                         | 規則描述                                                                                      | 範例                                                |\n",
    "|--------------------------------------------------|------------------------------------------------------------------------------------------------|-----------------------------------------------------|\n",
    "| 位置參數 & 關鍵字參數                             | 位置參數必須在關鍵字參數前面。                                                                | `def func(a, b):`<br>`func(1, b=2)`                 |\n",
    "| 位置參數、關鍵字參數 & 預設值參數                 | 有預設值的參數必須位於無預設值的參數後面。                                                     | `def func(a, b=2, c=3):`<br>`func(1, c=4, b=5)`     |\n",
    "| 位置參數、`*args` & 關鍵字參數                   | `*args` 會收集多餘的位置參數，之後的參數必須指定為關鍵字參數。                                | `def func(a, *args, b):`<br>`func(1, 2, 3, b=4)`    |\n",
    "| `*args` & `**kwargs`                             | `*args` 會收集多餘的位置參數，而 `**kwargs` 會收集多餘的關鍵字參數。                           | `def func(*args, **kwargs):`                         |\n",
    "| 位置參數、預設值參數 & `**kwargs`                 | 位置參數和預設值參數都在 `**kwargs` 之前。                                                     | `def func(a, b=2, **kwargs):`                        |\n",
    "| 位置參數、`*args`, 預設值參數 & `**kwargs`       | 位置參數在 `*args` 前，`*args` 在預設值參數前，預設值參數在 `**kwargs` 前。                   | `def func(a, *args, b=2, **kwargs):`                 |\n",
    "| `*`，預設值參數 & 關鍵字參數                     | `*` 強制之後的參數都使用關鍵字形式傳遞。                                                     | `def func(a, *, b=2, c):`<br>`func(1, c=3, b=4)`    |\n",
    "\n",
    "### 使用範例\n",
    "\n",
    "```python\n",
    "# 位置參數 & 關鍵字參數\n",
    "def example1(a, b, c):\n",
    "    return a + b + c\n",
    "example1(1, c=3, b=2)\n",
    "\n",
    "# 位置參數、關鍵字參數 & 預設值參數\n",
    "def example2(a, b=10, c=20):\n",
    "    return a + b + c\n",
    "example2(1, c=30, b=25)\n",
    "\n",
    "# 位置參數、*args & 關鍵字參數\n",
    "def example3(a, *args, b):\n",
    "    return a + sum(args) + b\n",
    "example3(1, 2, 3, 4, b=5)\n",
    "\n",
    "# *args & **kwargs\n",
    "def example4(*args, **kwargs):\n",
    "    print(args)\n",
    "    print(kwargs)\n",
    "example4(1, 2, 3, x=4, y=5)\n",
    "\n",
    "# 位置參數、預設值參數 & **kwargs\n",
    "def example5(a, b=10, **kwargs):\n",
    "    return a + b + kwargs.get('c', 0)\n",
    "example5(1, 15, c=20)\n",
    "\n",
    "# 位置參數、*args, 預設值參數 & **kwargs\n",
    "def example6(a, *args, b=10, **kwargs):\n",
    "    return a + sum(args) + b + kwargs.get('c', 0)\n",
    "example6(1, 2, 3, b=15, c=20)\n"
   ]
  },
  {
   "cell_type": "code",
   "execution_count": null,
   "id": "afe58a54",
   "metadata": {},
   "outputs": [],
   "source": []
  }
 ],
 "metadata": {
  "kernelspec": {
   "display_name": "Python 3 (ipykernel)",
   "language": "python",
   "name": "python3"
  },
  "language_info": {
   "codemirror_mode": {
    "name": "ipython",
    "version": 3
   },
   "file_extension": ".py",
   "mimetype": "text/x-python",
   "name": "python",
   "nbconvert_exporter": "python",
   "pygments_lexer": "ipython3",
   "version": "3.11.4"
  }
 },
 "nbformat": 4,
 "nbformat_minor": 5
}
