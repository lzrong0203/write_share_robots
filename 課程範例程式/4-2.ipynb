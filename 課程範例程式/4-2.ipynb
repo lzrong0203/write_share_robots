{
 "cells": [
  {
   "cell_type": "code",
   "execution_count": 1,
   "id": "61d12d2f",
   "metadata": {},
   "outputs": [
    {
     "data": {
      "text/plain": [
       "'3.11.4 (main, Jul  5 2023, 08:40:20) [Clang 14.0.6 ]'"
      ]
     },
     "execution_count": 1,
     "metadata": {},
     "output_type": "execute_result"
    }
   ],
   "source": [
    "import sys\n",
    "\n",
    "sys.version"
   ]
  },
  {
   "cell_type": "code",
   "execution_count": 30,
   "id": "40ce299f",
   "metadata": {},
   "outputs": [],
   "source": [
    "def add(a, b=100):\n",
    "    print(\"a\", a)\n",
    "    print(\"b\", b)\n",
    "    return"
   ]
  },
  {
   "cell_type": "code",
   "execution_count": 32,
   "id": "5eb93eb3",
   "metadata": {},
   "outputs": [
    {
     "name": "stdout",
     "output_type": "stream",
     "text": [
      "a 5\n",
      "b 3\n",
      "None\n"
     ]
    }
   ],
   "source": [
    "print(add(b=3, a=5))  # Null"
   ]
  },
  {
   "cell_type": "code",
   "execution_count": 11,
   "id": "b405bd7e",
   "metadata": {},
   "outputs": [
    {
     "name": "stdout",
     "output_type": "stream",
     "text": [
      "1 2 3\n"
     ]
    }
   ],
   "source": [
    "print(1, 2, 3)"
   ]
  },
  {
   "cell_type": "code",
   "execution_count": null,
   "id": "46e345cb",
   "metadata": {},
   "outputs": [],
   "source": []
  },
  {
   "cell_type": "code",
   "execution_count": 42,
   "id": "e8fed8fb",
   "metadata": {},
   "outputs": [],
   "source": [
    "def add(a, b=100, *args):\n",
    "    print(\"a\", a)\n",
    "    print(\"b\", b)\n",
    "    print(args)\n",
    "    print(args[5])\n",
    "    return a + b"
   ]
  },
  {
   "cell_type": "code",
   "execution_count": 47,
   "id": "3b91cb2e",
   "metadata": {},
   "outputs": [
    {
     "ename": "SyntaxError",
     "evalue": "positional argument follows keyword argument (3748835193.py, line 1)",
     "output_type": "error",
     "traceback": [
      "\u001b[0;36m  Cell \u001b[0;32mIn[47], line 1\u001b[0;36m\u001b[0m\n\u001b[0;31m    add(a=3, b=5, 7, 6, 4, 5)\u001b[0m\n\u001b[0m                            ^\u001b[0m\n\u001b[0;31mSyntaxError\u001b[0m\u001b[0;31m:\u001b[0m positional argument follows keyword argument\n"
     ]
    }
   ],
   "source": [
    "add(3, 5, 7, 6, 4, 5)"
   ]
  },
  {
   "cell_type": "code",
   "execution_count": 70,
   "id": "ed8465c2",
   "metadata": {},
   "outputs": [],
   "source": [
    "def add(a, b=100, *args, kw1=10, **kargs):\n",
    "    print(\"a\", a)\n",
    "    print(\"b\", b)\n",
    "    print(args)\n",
    "    # print(args[5])\n",
    "    print(kargs)\n",
    "    print(kw1)\n",
    "    return a + b, kw1"
   ]
  },
  {
   "cell_type": "code",
   "execution_count": 72,
   "id": "95c3f60c",
   "metadata": {},
   "outputs": [
    {
     "name": "stdout",
     "output_type": "stream",
     "text": [
      "a 3\n",
      "b 5\n",
      "(4, 5, 6)\n",
      "{'c': 4, 'd': 5, 'f': 7}\n",
      "100\n"
     ]
    }
   ],
   "source": [
    "result = add(3, 5, 4, 5, 6, kw1=100, c=4, d=5, f=7)"
   ]
  },
  {
   "cell_type": "code",
   "execution_count": 74,
   "id": "b4295e05",
   "metadata": {},
   "outputs": [
    {
     "data": {
      "text/plain": [
       "100"
      ]
     },
     "execution_count": 74,
     "metadata": {},
     "output_type": "execute_result"
    }
   ],
   "source": [
    "result[1]"
   ]
  },
  {
   "cell_type": "code",
   "execution_count": 1,
   "id": "c6890ca0",
   "metadata": {},
   "outputs": [],
   "source": [
    "def stock_analysis(*prices):\n",
    "    days = len(prices)\n",
    "    result = sum(prices) / days\n",
    "    return result"
   ]
  },
  {
   "cell_type": "code",
   "execution_count": 2,
   "id": "3239ec23",
   "metadata": {},
   "outputs": [
    {
     "data": {
      "text/plain": [
       "45.25"
      ]
     },
     "execution_count": 2,
     "metadata": {},
     "output_type": "execute_result"
    }
   ],
   "source": [
    "stock_analysis(50, 40, 35, 56)"
   ]
  },
  {
   "cell_type": "markdown",
   "id": "22c88052",
   "metadata": {},
   "source": []
  },
  {
   "cell_type": "code",
   "execution_count": 53,
   "id": "d63f7c93",
   "metadata": {},
   "outputs": [],
   "source": [
    "def stock_analysis(*prices, days=3):\n",
    "    if days > len(prices) or days <= 0:\n",
    "            return None\n",
    "    moving_average = []\n",
    "    for i in range(len(prices) - days + 1):\n",
    "        result = sum(prices[i:i + days]) / days\n",
    "        moving_average.append(result)\n",
    "    return moving_average"
   ]
  },
  {
   "cell_type": "code",
   "execution_count": 54,
   "id": "94dcedda",
   "metadata": {},
   "outputs": [
    {
     "data": {
      "text/plain": [
       "[55.0, 60.0, 65.0]"
      ]
     },
     "execution_count": 54,
     "metadata": {},
     "output_type": "execute_result"
    }
   ],
   "source": [
    "stock_analysis(45, 50, 55, 60, 65, 70, 75, days=5)"
   ]
  },
  {
   "cell_type": "code",
   "execution_count": null,
   "id": "259f4151",
   "metadata": {},
   "outputs": [],
   "source": []
  },
  {
   "cell_type": "code",
   "execution_count": null,
   "id": "cd703072",
   "metadata": {},
   "outputs": [],
   "source": []
  },
  {
   "cell_type": "code",
   "execution_count": null,
   "id": "c05b1a58",
   "metadata": {},
   "outputs": [],
   "source": []
  },
  {
   "cell_type": "code",
   "execution_count": null,
   "id": "afe40e6a",
   "metadata": {},
   "outputs": [],
   "source": []
  },
  {
   "cell_type": "code",
   "execution_count": null,
   "id": "0e10ba1a",
   "metadata": {},
   "outputs": [],
   "source": []
  },
  {
   "cell_type": "code",
   "execution_count": null,
   "id": "1d7c45d1",
   "metadata": {},
   "outputs": [],
   "source": []
  },
  {
   "cell_type": "code",
   "execution_count": null,
   "id": "8e8e13a4",
   "metadata": {},
   "outputs": [],
   "source": []
  },
  {
   "cell_type": "code",
   "execution_count": null,
   "id": "bb1d09ce",
   "metadata": {},
   "outputs": [],
   "source": []
  },
  {
   "cell_type": "code",
   "execution_count": null,
   "id": "cf5bb8e9",
   "metadata": {},
   "outputs": [],
   "source": []
  },
  {
   "cell_type": "code",
   "execution_count": null,
   "id": "a1427e96",
   "metadata": {},
   "outputs": [],
   "source": []
  },
  {
   "cell_type": "code",
   "execution_count": null,
   "id": "1fe28b51",
   "metadata": {},
   "outputs": [],
   "source": []
  },
  {
   "cell_type": "code",
   "execution_count": null,
   "id": "ef5ab263",
   "metadata": {},
   "outputs": [],
   "source": []
  },
  {
   "cell_type": "code",
   "execution_count": null,
   "id": "0b22f128",
   "metadata": {},
   "outputs": [],
   "source": []
  },
  {
   "cell_type": "code",
   "execution_count": null,
   "id": "dbe89e68",
   "metadata": {},
   "outputs": [],
   "source": []
  },
  {
   "cell_type": "code",
   "execution_count": 30,
   "id": "702de439",
   "metadata": {},
   "outputs": [],
   "source": [
    "def stock_analysis(*prices, days=3):\n",
    "    if days > len(prices) or days <= 0:\n",
    "        return None\n",
    "    mv = []\n",
    "    for i in range(len(prices) - days + 1):\n",
    "        result = sum(prices[i:i + days]) / days\n",
    "        mv.append(result)\n",
    "    return mv"
   ]
  },
  {
   "cell_type": "code",
   "execution_count": 31,
   "id": "82adc881",
   "metadata": {},
   "outputs": [
    {
     "data": {
      "text/plain": [
       "[55.0, 60.0, 65.0]"
      ]
     },
     "execution_count": 31,
     "metadata": {},
     "output_type": "execute_result"
    }
   ],
   "source": [
    "stock_analysis(45, 50, 55, 60, 65, 70, 75, days=5)"
   ]
  },
  {
   "cell_type": "code",
   "execution_count": null,
   "id": "3c32da6d",
   "metadata": {},
   "outputs": [],
   "source": []
  },
  {
   "cell_type": "code",
   "execution_count": null,
   "id": "f86ce782",
   "metadata": {},
   "outputs": [],
   "source": []
  },
  {
   "cell_type": "markdown",
   "id": "63efdc61",
   "metadata": {},
   "source": [
    "## Python 函數定義與使用\n",
    "\n",
    "### 基礎參數類型\n",
    "\n",
    "| 類型       | 描述                                                    | 範例                                     |\n",
    "|------------|---------------------------------------------------------|------------------------------------------|\n",
    "| 位置參數   | 依據位置順序傳遞參數                                    | `def func(a, b):`<br>`...`               |\n",
    "| 預設值參數 | 在定義函數時給予參數預設值                                | `def func(a, b=2):`<br>`...`             |\n",
    "\n",
    "### 進階參數類型\n",
    "\n",
    "| 類型         | 描述                                                      | 範例                                              |\n",
    "|--------------|-----------------------------------------------------------|---------------------------------------------------|\n",
    "| `*args`     | 通過位置傳遞任意數量的參數，收集到一個元組中               | `def func(*args):`<br>`...`                       |\n",
    "| `**kwargs`  | 通過關鍵字傳遞任意數量的參數，收集到一個字典中             | `def func(**kwargs):`<br>`...`                    |\n",
    "| 關鍵字參數   | 使用關鍵字傳遞參數，允許更靈活的參數順序                   | `def func(a, b):`<br>`func(b=2, a=1)`             |\n",
    "| `*`         | 強制後面的參數只能以關鍵字形式傳遞                         | `def func(a, *, b):`<br>`func(a=1, b=2)`          |\n",
    "\n",
    "### 使用範例\n",
    "\n",
    "```python\n",
    "# 位置參數\n",
    "def example1(a, b):\n",
    "    return a + b\n",
    "\n",
    "# 預設值參數\n",
    "def example2(a, b=10):\n",
    "    return a + b\n",
    "\n",
    "# 使用 *args\n",
    "def example3(*args):\n",
    "    return sum(args)\n",
    "\n",
    "# 使用 **kwargs\n",
    "def example4(**kwargs):\n",
    "    return \", \".join(f\"{k}={v}\" for k, v in kwargs.items())\n",
    "\n",
    "# 關鍵字參數\n",
    "def example5(a, b):\n",
    "    return a * b\n",
    "\n",
    "# 強制後面的參數只能以關鍵字形式傳遞\n",
    "def example6(a, *, b):\n",
    "    return a * b\n"
   ]
  },
  {
   "cell_type": "markdown",
   "id": "591f382b",
   "metadata": {},
   "source": [
    "## Python 函數參數混用規則\n",
    "\n",
    "| 混用情況                                         | 規則描述                                                                                      | 範例                                                |\n",
    "|--------------------------------------------------|------------------------------------------------------------------------------------------------|-----------------------------------------------------|\n",
    "| 位置參數 & 關鍵字參數                             | 位置參數必須在關鍵字參數前面。                                                                | `def func(a, b):`<br>`func(1, b=2)`                 |\n",
    "| 位置參數、關鍵字參數 & 預設值參數                 | 有預設值的參數必須位於無預設值的參數後面。                                                     | `def func(a, b=2, c=3):`<br>`func(1, c=4, b=5)`     |\n",
    "| 位置參數、`*args` & 關鍵字參數                   | `*args` 會收集多餘的位置參數，之後的參數必須指定為關鍵字參數。                                | `def func(a, *args, b):`<br>`func(1, 2, 3, b=4)`    |\n",
    "| `*args` & `**kwargs`                             | `*args` 會收集多餘的位置參數，而 `**kwargs` 會收集多餘的關鍵字參數。                           | `def func(*args, **kwargs):`                         |\n",
    "| 位置參數、預設值參數 & `**kwargs`                 | 位置參數和預設值參數都在 `**kwargs` 之前。                                                     | `def func(a, b=2, **kwargs):`                        |\n",
    "| 位置參數、`*args`, 預設值參數 & `**kwargs`       | 位置參數在 `*args` 前，`*args` 在預設值參數前，預設值參數在 `**kwargs` 前。                   | `def func(a, *args, b=2, **kwargs):`                 |\n",
    "| `*`，預設值參數 & 關鍵字參數                     | `*` 強制之後的參數都使用關鍵字形式傳遞。                                                     | `def func(a, *, b=2, c):`<br>`func(1, c=3, b=4)`    |\n",
    "\n",
    "### 使用範例\n",
    "\n",
    "```python\n",
    "# 位置參數 & 關鍵字參數\n",
    "def example1(a, b, c):\n",
    "    return a + b + c\n",
    "example1(1, c=3, b=2)\n",
    "\n",
    "# 位置參數、關鍵字參數 & 預設值參數\n",
    "def example2(a, b=10, c=20):\n",
    "    return a + b + c\n",
    "example2(1, c=30, b=25)\n",
    "\n",
    "# 位置參數、*args & 關鍵字參數\n",
    "def example3(a, *args, b):\n",
    "    return a + sum(args) + b\n",
    "example3(1, 2, 3, 4, b=5)\n",
    "\n",
    "# *args & **kwargs\n",
    "def example4(*args, **kwargs):\n",
    "    print(args)\n",
    "    print(kwargs)\n",
    "example4(1, 2, 3, x=4, y=5)\n",
    "\n",
    "# 位置參數、預設值參數 & **kwargs\n",
    "def example5(a, b=10, **kwargs):\n",
    "    return a + b + kwargs.get('c', 0)\n",
    "example5(1, 15, c=20)\n",
    "\n",
    "# 位置參數、*args, 預設值參數 & **kwargs\n",
    "def example6(a, *args, b=10, **kwargs):\n",
    "    return a + sum(args) +\n"
   ]
  },
  {
   "cell_type": "code",
   "execution_count": null,
   "id": "e4efcc8d",
   "metadata": {},
   "outputs": [],
   "source": []
  },
  {
   "cell_type": "code",
   "execution_count": null,
   "id": "d0eb61d5",
   "metadata": {},
   "outputs": [],
   "source": []
  },
  {
   "cell_type": "code",
   "execution_count": null,
   "id": "7bebfb17",
   "metadata": {},
   "outputs": [],
   "source": []
  },
  {
   "cell_type": "code",
   "execution_count": null,
   "id": "a581ce50",
   "metadata": {},
   "outputs": [],
   "source": []
  },
  {
   "cell_type": "code",
   "execution_count": null,
   "id": "ad303624",
   "metadata": {},
   "outputs": [],
   "source": []
  },
  {
   "cell_type": "code",
   "execution_count": null,
   "id": "189bb828",
   "metadata": {},
   "outputs": [],
   "source": []
  },
  {
   "cell_type": "code",
   "execution_count": null,
   "id": "43308c03",
   "metadata": {},
   "outputs": [],
   "source": []
  },
  {
   "cell_type": "code",
   "execution_count": null,
   "id": "95086e06",
   "metadata": {},
   "outputs": [],
   "source": []
  }
 ],
 "metadata": {
  "kernelspec": {
   "display_name": "Python 3 (ipykernel)",
   "language": "python",
   "name": "python3"
  },
  "language_info": {
   "codemirror_mode": {
    "name": "ipython",
    "version": 3
   },
   "file_extension": ".py",
   "mimetype": "text/x-python",
   "name": "python",
   "nbconvert_exporter": "python",
   "pygments_lexer": "ipython3",
   "version": "3.11.4"
  }
 },
 "nbformat": 4,
 "nbformat_minor": 5
}
