{
 "cells": [
  {
   "cell_type": "markdown",
   "id": "4c903f08",
   "metadata": {},
   "source": [
    "### 錯誤處理\n",
    "\n",
    "在 Python 程式設計中，遇到錯誤或異常（exception）是很常見的。了解如何適當地處理這些錯誤是寫出穩健程式碼的關鍵。\n",
    "\n",
    "#### 常見的錯誤類型\n",
    "\n",
    "1. **SyntaxError**: 語法錯誤，例如少了括號或引號。\n",
    "2. **NameError**: 使用了未定義的變數名稱。\n",
    "3. **TypeError**: 錯誤的數據類型操作，例如對字串進行除法運算。\n",
    "4. **ValueError**: 傳遞了不符合預期的值，例如將字串傳給要求整數的函數。\n",
    "5. **IndexError**: 陣列或列表索引超出範圍。\n",
    "6. **KeyError**: 字典中找不到指定的鍵。\n",
    "7. **IOError**: 輸入/輸出操作失敗，例如讀取不存在的文件。\n",
    "8. **DatabaseError**: 資料庫操作失敗。\n",
    "\n",
    "#### 基本的錯誤處理語法\n",
    "\n",
    "Python 使用 `try`、`except` 語句來捕捉和處理錯誤。\n",
    "\n",
    "##### 簡單的 `try` 和 `except`\n",
    "\n",
    "```python\n",
    "try:\n",
    "    # 嘗試執行的程式碼\n",
    "    result = 10 / 0\n",
    "except ZeroDivisionError:\n",
    "    # 如果發生 ZeroDivisionError，執行這裡的程式碼\n",
    "    print(\"Cannot divide by zero!\")\n",
    "```\n",
    "\n",
    "##### 捕捉多種錯誤\n",
    "\n",
    "```python\n",
    "try:\n",
    "    # 嘗試執行的程式碼\n",
    "    result = 10 / 'a'\n",
    "except ZeroDivisionError:\n",
    "    print(\"Cannot divide by zero!\")\n",
    "except (TypeError, ValueError):\n",
    "    print(\"Calculation error\")\n",
    "```\n",
    "\n",
    "##### 使用 `else` 和 `finally`\n",
    "\n",
    "```python\n",
    "try:\n",
    "    # 嘗試執行的程式碼\n",
    "    result = 10 / 2\n",
    "except ZeroDivisionError:\n",
    "    print(\"Cannot divide by zero!\")\n",
    "else:\n",
    "    # 如果沒有錯誤發生，執行這裡的程式碼\n",
    "    print(\"Division successful\")\n",
    "finally:\n",
    "    # 無論有無錯誤，都會執行這裡的程式碼\n",
    "    print(\"This will always execute\")\n",
    "```\n",
    "\n",
    "#### 範例：資料庫錯誤處理\n",
    "\n",
    "```python\n",
    "import sqlite3\n",
    "\n",
    "try:\n",
    "    with sqlite3.connect('example.db') as conn:\n",
    "        c = conn.cursor()\n",
    "        c.execute(\"SELECT * FROM non_existent_table\")\n",
    "except sqlite3.DatabaseError as e:\n",
    "    print(\"Database error:\", e)\n",
    "```\n",
    "\n",
    "這個範例中，如果資料庫操作失敗，`sqlite3.DatabaseError` 會被捕捉，並印出錯誤訊息。"
   ]
  },
  {
   "cell_type": "markdown",
   "id": "43593db8",
   "metadata": {},
   "source": [
    "### Python 錯誤處理和錯誤類別\n",
    "\n",
    "在 Python 程式設計中，錯誤處理是一個非常重要的概念。Python 使用異常（Exception）來表示和處理錯誤。本節將介紹如何定義自己的錯誤類別，以及如何使用 `try` 和 `except` 語句來捕捉和處理錯誤。\n",
    "\n",
    "#### 異常類別的基本架構\n",
    "\n",
    "在 Python 中，所有的異常都是從內建的 `Exception` 類別繼承來的。以下是一個自定義異常類別的範例：\n",
    "\n",
    "```python\n",
    "class MyError(Exception):\n",
    "    def __init__(self, message):\n",
    "        super().__init__(message)\n",
    "```\n",
    "\n",
    "這個 `MyError` 類別繼承自 `Exception` 類別，並通過 `super().__init__(message)` 將錯誤訊息傳遞給父類別。\n",
    "\n",
    "#### 引發自定義錯誤\n",
    "\n",
    "一旦定義了自己的錯誤類別，你可以使用 `raise` 關鍵字來引發該錯誤：\n",
    "\n",
    "```python\n",
    "def my_function(x):\n",
    "    if x < 0:\n",
    "        raise MyError(f\"Negative value encountered: {x}\")\n",
    "    return x * 2\n",
    "```\n",
    "\n",
    "#### 捕捉和處理錯誤\n",
    "\n",
    "你可以使用 `try` 和 `except` 語句來捕捉異常。例如：\n",
    "\n",
    "```python\n",
    "try:\n",
    "    result = my_function(-1)\n",
    "except MyError as e:\n",
    "    print(f\"Caught an error: {e}\")\n",
    "```\n",
    "\n",
    "這樣做有兩個好處：\n",
    "\n",
    "1. 程式不會因為錯誤而完全停止運行。\n",
    "2. 你可以控制如何響應特定的錯誤，例如記錄錯誤或給用戶提供有用的反饋。\n"
   ]
  },
  {
   "cell_type": "code",
   "execution_count": null,
   "id": "037c1c74",
   "metadata": {},
   "outputs": [],
   "source": []
  },
  {
   "cell_type": "code",
   "execution_count": 33,
   "id": "c86a1989",
   "metadata": {},
   "outputs": [
    {
     "name": "stdout",
     "output_type": "stream",
     "text": [
      "10.0\n",
      "Exception: EX\n",
      "Finally\n",
      "\n",
      "try-except exists\n"
     ]
    }
   ],
   "source": [
    "try:\n",
    "    a = 10\n",
    "    b = 1\n",
    "    print(a / b)\n",
    "    raise SyntaxError(\"EX\")\n",
    "except NameError as e:\n",
    "    print(e)\n",
    "except ZeroDivisionError as z:\n",
    "    print(z)\n",
    "except Exception as e:\n",
    "    print(\"Exception:\", e)\n",
    "else:\n",
    "    print(\"No exception!\")\n",
    "finally:\n",
    "    print(\"Finally\")\n",
    "\n",
    "print()\n",
    "print(\"try-except exists\")"
   ]
  },
  {
   "cell_type": "code",
   "execution_count": 9,
   "id": "61f513b2",
   "metadata": {},
   "outputs": [],
   "source": [
    "def ex():\n",
    "    print(c)"
   ]
  },
  {
   "cell_type": "code",
   "execution_count": 10,
   "id": "2c285e5f",
   "metadata": {},
   "outputs": [
    {
     "ename": "NameError",
     "evalue": "name 'c' is not defined",
     "output_type": "error",
     "traceback": [
      "\u001b[0;31m---------------------------------------------------------------------------\u001b[0m",
      "\u001b[0;31mNameError\u001b[0m                                 Traceback (most recent call last)",
      "Cell \u001b[0;32mIn[10], line 1\u001b[0m\n\u001b[0;32m----> 1\u001b[0m ex()\n\u001b[1;32m      2\u001b[0m \u001b[38;5;28mprint\u001b[39m(\u001b[38;5;124m\"\u001b[39m\u001b[38;5;124m====\u001b[39m\u001b[38;5;124m\"\u001b[39m)\n",
      "Cell \u001b[0;32mIn[9], line 2\u001b[0m, in \u001b[0;36mex\u001b[0;34m()\u001b[0m\n\u001b[1;32m      1\u001b[0m \u001b[38;5;28;01mdef\u001b[39;00m \u001b[38;5;21mex\u001b[39m():\n\u001b[0;32m----> 2\u001b[0m     \u001b[38;5;28mprint\u001b[39m(c)\n",
      "\u001b[0;31mNameError\u001b[0m: name 'c' is not defined"
     ]
    }
   ],
   "source": [
    "ex()\n",
    "print(\"====\")"
   ]
  },
  {
   "cell_type": "code",
   "execution_count": null,
   "id": "4a9e068f",
   "metadata": {},
   "outputs": [],
   "source": []
  },
  {
   "cell_type": "code",
   "execution_count": null,
   "id": "1af2e168",
   "metadata": {},
   "outputs": [],
   "source": []
  },
  {
   "cell_type": "code",
   "execution_count": null,
   "id": "a346a544",
   "metadata": {},
   "outputs": [],
   "source": []
  },
  {
   "cell_type": "code",
   "execution_count": null,
   "id": "a10d1b92",
   "metadata": {},
   "outputs": [],
   "source": []
  },
  {
   "cell_type": "code",
   "execution_count": null,
   "id": "4da8c5cc",
   "metadata": {},
   "outputs": [],
   "source": []
  },
  {
   "cell_type": "code",
   "execution_count": null,
   "id": "978d0ef3",
   "metadata": {},
   "outputs": [],
   "source": []
  },
  {
   "cell_type": "code",
   "execution_count": null,
   "id": "7c6c8b4e",
   "metadata": {},
   "outputs": [],
   "source": []
  },
  {
   "cell_type": "code",
   "execution_count": null,
   "id": "509c3f4b",
   "metadata": {},
   "outputs": [],
   "source": []
  },
  {
   "cell_type": "code",
   "execution_count": null,
   "id": "27598efc",
   "metadata": {},
   "outputs": [],
   "source": []
  },
  {
   "cell_type": "code",
   "execution_count": null,
   "id": "782a2af2",
   "metadata": {},
   "outputs": [],
   "source": []
  },
  {
   "cell_type": "code",
   "execution_count": null,
   "id": "6154ae98",
   "metadata": {},
   "outputs": [],
   "source": []
  },
  {
   "cell_type": "code",
   "execution_count": null,
   "id": "b36f2cb9",
   "metadata": {},
   "outputs": [],
   "source": []
  },
  {
   "cell_type": "code",
   "execution_count": null,
   "id": "628facb4",
   "metadata": {},
   "outputs": [],
   "source": []
  },
  {
   "cell_type": "code",
   "execution_count": null,
   "id": "5a0657fe",
   "metadata": {},
   "outputs": [],
   "source": []
  }
 ],
 "metadata": {
  "kernelspec": {
   "display_name": "Python 3 (ipykernel)",
   "language": "python",
   "name": "python3"
  },
  "language_info": {
   "codemirror_mode": {
    "name": "ipython",
    "version": 3
   },
   "file_extension": ".py",
   "mimetype": "text/x-python",
   "name": "python",
   "nbconvert_exporter": "python",
   "pygments_lexer": "ipython3",
   "version": "3.9.13"
  }
 },
 "nbformat": 4,
 "nbformat_minor": 5
}
