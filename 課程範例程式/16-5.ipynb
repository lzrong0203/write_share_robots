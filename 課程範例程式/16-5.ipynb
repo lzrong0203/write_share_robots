{
 "cells": [
  {
   "cell_type": "code",
   "execution_count": 1,
   "id": "d1ac8b8f",
   "metadata": {},
   "outputs": [],
   "source": [
    "import matplotlib.font_manager as fm"
   ]
  },
  {
   "cell_type": "code",
   "execution_count": 6,
   "id": "29c2331c",
   "metadata": {},
   "outputs": [
    {
     "name": "stdout",
     "output_type": "stream",
     "text": [
      "Noto Sans TC\n",
      "Heiti TC\n",
      "Noto Sans TC\n",
      "Noto Sans TC\n",
      "Noto Sans TC\n",
      "Noto Sans TC\n",
      "Noto Sans TC\n",
      "Heiti TC\n"
     ]
    }
   ],
   "source": [
    "font_list = fm.findSystemFonts(fontext='ttf')\n",
    "for font in font_list:\n",
    "    try:\n",
    "        font_name = fm.FontProperties(fname=font).get_name()\n",
    "        if \"TC\" in font_name:\n",
    "            print(font_name)\n",
    "    except RuntimeError:\n",
    "        # 忽略無效字型\n",
    "        continue"
   ]
  },
  {
   "cell_type": "code",
   "execution_count": 11,
   "id": "ea789187",
   "metadata": {},
   "outputs": [
    {
     "name": "stdout",
     "output_type": "stream",
     "text": [
      "[*********************100%%**********************]  1 of 1 completed\n"
     ]
    }
   ],
   "source": [
    "import yfinance as yf\n",
    "import numpy as np\n",
    "import matplotlib.pyplot as plt\n",
    "\n",
    "tsmc = yf.download(\"2330.tw\", start=\"2023-01-01\", end=\"2023-12-31\")\n",
    "tsmc['Change'] = tsmc['Close'].diff()\n",
    "tsmc[\"K_Change\"] = tsmc.Close - tsmc.Open"
   ]
  },
  {
   "cell_type": "code",
   "execution_count": 16,
   "id": "b8be443c",
   "metadata": {},
   "outputs": [
    {
     "name": "stdout",
     "output_type": "stream",
     "text": [
      "543.4518828451883\n",
      "0.5882352941176471\n",
      "7.593575086880941\n"
     ]
    },
    {
     "data": {
      "image/png": "[encoded data removed]",
      "text/plain": [
       "<Figure size 432x288 with 1 Axes>"
      ]
     },
     "metadata": {
      "needs_background": "light"
     },
     "output_type": "display_data"
    }
   ],
   "source": [
    "import matplotlib\n",
    "matplotlib.rc(\"font\", family=\"Heiti TC\")\n",
    "\n",
    "tsmc_Change_mean = np.mean(tsmc.Change)\n",
    "print(np.mean(tsmc.Close))\n",
    "print(tsmc_Change_mean)\n",
    "tsmc_Change_std = np.std(tsmc.Change)\n",
    "print(tsmc_Change_std)\n",
    "plt.axvline(tsmc_Change_mean, color=\"r\")\n",
    "plt.axvline(tsmc_Change_mean - 2 * tsmc_Change_std, color=\"black\")\n",
    "plt.axvline(tsmc_Change_mean + 2 * tsmc_Change_std, color=\"black\")\n",
    "\n",
    "plt.title(\"台積電股價變化分佈\")\n",
    "plt.ylabel(\"次數\")\n",
    "plt.xlabel(\"股價變化\")\n",
    "plt.hist(tsmc.Change, bins=20, edgecolor=\"black\")\n",
    "plt.show()"
   ]
  },
  {
   "cell_type": "code",
   "execution_count": null,
   "id": "2a352b92",
   "metadata": {},
   "outputs": [],
   "source": []
  },
  {
   "cell_type": "code",
   "execution_count": null,
   "id": "1a130fae",
   "metadata": {},
   "outputs": [],
   "source": []
  },
  {
   "cell_type": "code",
   "execution_count": null,
   "id": "1eee7171",
   "metadata": {},
   "outputs": [],
   "source": []
  },
  {
   "cell_type": "code",
   "execution_count": null,
   "id": "03f58f36",
   "metadata": {},
   "outputs": [],
   "source": []
  },
  {
   "cell_type": "code",
   "execution_count": null,
   "id": "229ff1f0",
   "metadata": {},
   "outputs": [],
   "source": []
  }
 ],
 "metadata": {
  "kernelspec": {
   "display_name": "Python 3 (ipykernel)",
   "language": "python",
   "name": "python3"
  },
  "language_info": {
   "codemirror_mode": {
    "name": "ipython",
    "version": 3
   },
   "file_extension": ".py",
   "mimetype": "text/x-python",
   "name": "python",
   "nbconvert_exporter": "python",
   "pygments_lexer": "ipython3",
   "version": "3.11.4"
  }
 },
 "nbformat": 4,
 "nbformat_minor": 5
}
