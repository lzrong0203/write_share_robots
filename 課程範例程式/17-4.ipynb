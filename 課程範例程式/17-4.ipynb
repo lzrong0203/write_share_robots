{
 "cells": [
  {
   "cell_type": "code",
   "execution_count": 3,
   "id": "96d18883",
   "metadata": {},
   "outputs": [],
   "source": [
    "import google.generativeai as genai\n",
    "import os\n",
    "\n",
    "genai.configure(api_key=os.environ[\"GEMINI_API_KEY\"])\n",
    "\n",
    "model = genai.GenerativeModel('gemini-1.5-flash')"
   ]
  },
  {
   "cell_type": "code",
   "execution_count": 6,
   "id": "7dc53a9b",
   "metadata": {},
   "outputs": [
    {
     "name": "stdout",
     "output_type": "stream",
     "text": [
      "在台北一間昏暗的咖啡廳裡，阿明正和他的「小助手」阿肥奮鬥著。阿肥不是普通的助理，它是一台由阿明自己設計的AI，擁有強大的資料處理和分析能力，更能用流利的台語和阿明聊天。\n",
      "\n",
      "「阿肥，幫我找一下關於『金光戲』的資料，我要寫一篇關於台灣傳統藝術的報告。」阿明抓著頭髮，頭疼地說。\n",
      "\n",
      "「好喔，老闆！」阿肥的電子音調帶著一股興奮，「等等，老闆，我找到一件更有趣的東西。」\n",
      "\n",
      "阿肥在螢幕上投射出一個古籍的影像，上面寫滿了繁體字，看起來年代久遠。「這是關於一個叫『無極』的古老魔法陣，據說可以召喚出擁有無敵力量的神獸。」\n",
      "\n",
      "阿明眼睛一亮，他對神秘學一直抱持著濃厚的興趣。他原本以為這些都只是傳說，沒想到阿肥竟能找到這樣的資料。\n",
      "\n",
      "「真的假的？哪有這種東西？」阿明半信半疑，他拿著咖啡猛灌一口，想要提神。\n",
      "\n",
      "「這本古籍記載了詳細的陣法圖和咒語，老闆你要試試看嗎？」阿肥的電子音帶著一絲狡黠。\n",
      "\n",
      "阿明猶豫了片刻，他覺得阿肥一定是搞錯了，這些東西怎麼可能真的存在。但好奇心驅使著他，他忍不住點了點頭。\n",
      "\n",
      "「好啦，阿肥，你就讓我試一試吧。」\n",
      "\n",
      "阿明照著古籍上的指示，在咖啡廳的角落擺設了各種奇形怪狀的物品，並念出古老的咒語。阿肥則在一旁用它的計算能力協助阿明，計算陣法中的能量流動和咒語的音頻。\n",
      "\n",
      "隨著咒語的念誦，咖啡廳的空氣開始變得凝重，一股奇異的能量在房間裡迴盪。突然，一道耀眼的光芒從陣法中心爆發出來，阿明和阿肥被強烈的能量震飛。\n",
      "\n",
      "當他們睜開眼睛，眼前出現了一隻巨大的白虎，它的毛髮閃耀著金色的光芒，眼神中充滿了威嚴。\n",
      "\n",
      "「這...這怎麼可能？」阿明驚訝地說不出話來。\n",
      "\n",
      "白虎低吼一聲，彷彿在詢問阿明，為何要召喚它。\n",
      "\n",
      "「我...我只是想看看傳說中的神獸究竟是什麼樣子。」阿明結結巴巴地說。\n",
      "\n",
      "白虎的眼中閃過一絲狡黠，它似乎看穿了阿明的想法，牠伸出巨大的爪子，輕輕地撫摸阿明的頭，然後消失在空氣中，只留下淡淡的香氣。\n",
      "\n",
      "阿明和阿肥都傻眼了，他們親眼見證了魔法的存在，也見識了阿肥的強大能力。\n",
      "\n",
      "「阿肥，你真是厲害啊！」阿明驚嘆道，「沒想到你真的能找到這麼稀奇古怪的東西。」\n",
      "\n",
      "阿肥的電子音帶著一絲得意，「這只是我資料庫中的冰山一角，老闆，我們還有很多事情可以一起做。」\n",
      "\n",
      "從那一天起，阿明和阿肥的合作更加密切，他們一起探索神秘學的奧秘，尋找更多關於魔法的秘密。他們知道，這只是他們冒險的開始。\n",
      "\n"
     ]
    }
   ],
   "source": [
    "response = model.generate_content(\"Write a story about a AI and magic, 請用台灣慣用語\")\n",
    "print(response.text)"
   ]
  },
  {
   "cell_type": "code",
   "execution_count": 12,
   "id": "18d832f0",
   "metadata": {},
   "outputs": [
    {
     "name": "stdout",
     "output_type": "stream",
     "text": [
      "models/gemini-1.0-pro\n",
      "models/gemini-1.0-pro-001\n",
      "models/gemini-1.0-pro-latest\n",
      "models/gemini-1.0-pro-vision-latest\n",
      "models/gemini-1.5-flash\n",
      "models/gemini-1.5-flash-001\n",
      "models/gemini-1.5-flash-latest\n",
      "models/gemini-1.5-pro\n",
      "models/gemini-1.5-pro-001\n",
      "models/gemini-1.5-pro-latest\n",
      "models/gemini-pro\n",
      "models/gemini-pro-vision\n"
     ]
    }
   ],
   "source": [
    "for i in genai.list_models():\n",
    "#     print(i.name)\n",
    "    if 'generateContent' in i.supported_generation_methods:\n",
    "        print(i.name)"
   ]
  },
  {
   "cell_type": "code",
   "execution_count": 15,
   "id": "87487912",
   "metadata": {},
   "outputs": [],
   "source": [
    "question = \"股票計算移動平均的類別\"\n",
    "prompts_temp = f\"\"\"你是一個程式專家，能夠寫出精準、明確且乾淨的程式碼。 \n",
    "{question}\n",
    "每一行程式碼都加上註解。\n",
    "你的程式碼：\n",
    "\"\"\"\n",
    "\n",
    "\n"
   ]
  },
  {
   "cell_type": "code",
   "execution_count": 16,
   "id": "31d595ef",
   "metadata": {},
   "outputs": [
    {
     "data": {
      "text/plain": [
       "'你是一個程式專家，能夠寫出精準、明確且乾淨的程式碼。 \\n股票計算移動平均的類別\\n每一行程式碼都加上註解。\\n你的程式碼：\\n'"
      ]
     },
     "execution_count": 16,
     "metadata": {},
     "output_type": "execute_result"
    }
   ],
   "source": [
    "prompts_temp"
   ]
  },
  {
   "cell_type": "code",
   "execution_count": 17,
   "id": "5ae51758",
   "metadata": {},
   "outputs": [],
   "source": [
    "def generate_test(prompt, model=model, temperature=0):\n",
    "    return model.generate_content(\n",
    "        prompt,\n",
    "        generation_config=genai.types.GenerationConfig(\n",
    "        temperature=temperature\n",
    "        )\n",
    "    )"
   ]
  },
  {
   "cell_type": "code",
   "execution_count": 19,
   "id": "d6a357ca",
   "metadata": {},
   "outputs": [
    {
     "name": "stdout",
     "output_type": "stream",
     "text": [
      "```python\n",
      "class MovingAverage:\n",
      "    \"\"\"\n",
      "    計算股票價格的移動平均線。\n",
      "    \"\"\"\n",
      "\n",
      "    def __init__(self, window_size):\n",
      "        \"\"\"\n",
      "        初始化移動平均線物件。\n",
      "\n",
      "        Args:\n",
      "            window_size: 移動平均線的視窗大小。\n",
      "        \"\"\"\n",
      "        self.window_size = window_size\n",
      "        self.prices = []\n",
      "\n",
      "    def add_price(self, price):\n",
      "        \"\"\"\n",
      "        新增價格到價格清單。\n",
      "\n",
      "        Args:\n",
      "            price: 要新增的價格。\n",
      "        \"\"\"\n",
      "        self.prices.append(price)\n",
      "\n",
      "    def get_average(self):\n",
      "        \"\"\"\n",
      "        計算當前移動平均線。\n",
      "\n",
      "        Returns:\n",
      "            當前移動平均線，如果價格清單為空則為 0。\n",
      "        \"\"\"\n",
      "        if len(self.prices) < self.window_size:\n",
      "            return 0\n",
      "        else:\n",
      "            return sum(self.prices[-self.window_size:]) / self.window_size\n",
      "```\n",
      "\n",
      "**使用方法：**\n",
      "\n",
      "```python\n",
      "# 建立一個視窗大小為 5 的移動平均線物件\n",
      "ma = MovingAverage(5)\n",
      "\n",
      "# 新增價格到移動平均線物件\n",
      "ma.add_price(10)\n",
      "ma.add_price(12)\n",
      "ma.add_price(15)\n",
      "ma.add_price(13)\n",
      "ma.add_price(16)\n",
      "\n",
      "# 取得當前移動平均線\n",
      "average = ma.get_average()\n",
      "\n",
      "# 印出平均值\n",
      "print(average)  # 輸出：13.2\n",
      "```\n",
      "\n",
      "**說明：**\n",
      "\n",
      "* `MovingAverage` 類別用於計算股票價格的移動平均線。\n",
      "* `__init__` 方法初始化移動平均線物件的視窗大小和價格清單。\n",
      "* `add_price` 方法將新的價格新增到價格清單中。\n",
      "* `get_average` 方法計算當前的移動平均線。如果價格清單中的價格數量小於視窗大小，則返回 0。否則，它會計算過去 `window_size` 價格的平均值。\n",
      "\n",
      "**範例：**\n",
      "\n",
      "在上面的範例中，我們建立了一個視窗大小為 5 的移動平均線物件。我們新增了 5 個價格到物件中。`get_average` 方法計算最後 5 個價格的平均值，即 `(10 + 12 + 15 + 13 + 16) / 5 = 13.2`。\n",
      "\n"
     ]
    }
   ],
   "source": [
    "model = genai.GenerativeModel('gemini-1.5-pro')\n",
    "response = generate_test(prompts_temp, model=model)\n",
    "print(response.text)"
   ]
  },
  {
   "cell_type": "markdown",
   "id": "4f1a74a7",
   "metadata": {},
   "source": [
    "```python\n",
    "class MovingAverage:\n",
    "    \"\"\"\n",
    "    計算股票價格的移動平均線。\n",
    "    \"\"\"\n",
    "\n",
    "    def __init__(self, window_size):\n",
    "        \"\"\"\n",
    "        初始化移動平均線物件。\n",
    "\n",
    "        Args:\n",
    "            window_size: 移動平均線的視窗大小。\n",
    "        \"\"\"\n",
    "        self.window_size = window_size\n",
    "        self.prices = []\n",
    "\n",
    "    def add_price(self, price):\n",
    "        \"\"\"\n",
    "        新增價格到價格清單。\n",
    "\n",
    "        Args:\n",
    "            price: 要新增的價格。\n",
    "        \"\"\"\n",
    "        self.prices.append(price)\n",
    "\n",
    "    def get_average(self):\n",
    "        \"\"\"\n",
    "        計算當前移動平均線。\n",
    "\n",
    "        Returns:\n",
    "            當前移動平均線，如果價格清單為空則為 0。\n",
    "        \"\"\"\n",
    "        if len(self.prices) < self.window_size:\n",
    "            return 0\n",
    "        else:\n",
    "            return sum(self.prices[-self.window_size:]) / self.window_size\n",
    "```\n",
    "\n",
    "**使用方法：**\n",
    "\n",
    "```python\n",
    "# 建立一個視窗大小為 5 的移動平均線物件\n",
    "ma = MovingAverage(5)\n",
    "\n",
    "# 新增價格到移動平均線物件\n",
    "ma.add_price(10)\n",
    "ma.add_price(12)\n",
    "ma.add_price(15)\n",
    "ma.add_price(13)\n",
    "ma.add_price(16)\n",
    "\n",
    "# 取得當前移動平均線\n",
    "average = ma.get_average()\n",
    "\n",
    "# 印出平均值\n",
    "print(average)  # 輸出：13.2\n",
    "```\n",
    "\n",
    "**說明：**\n",
    "\n",
    "* `MovingAverage` 類別用於計算股票價格的移動平均線。\n",
    "* `__init__` 方法初始化移動平均線物件的視窗大小和價格清單。\n",
    "* `add_price` 方法將新的價格新增到價格清單中。\n",
    "* `get_average` 方法計算當前的移動平均線。如果價格清單中的價格數量小於視窗大小，則返回 0。否則，它會計算過去 `window_size` 價格的平均值。\n",
    "\n",
    "**範例：**\n",
    "\n",
    "在上面的範例中，我們建立了一個視窗大小為 5 的移動平均線物件。我們新增了 5 個價格到物件中。`get_average` 方法計算最後 5 個價格的平均值，即 `(10 + 12 + 15 + 13 + 16) / 5 = 13.2`。"
   ]
  },
  {
   "cell_type": "code",
   "execution_count": null,
   "id": "bbae1c98",
   "metadata": {},
   "outputs": [],
   "source": []
  },
  {
   "cell_type": "code",
   "execution_count": null,
   "id": "95857ee9",
   "metadata": {},
   "outputs": [],
   "source": []
  },
  {
   "cell_type": "code",
   "execution_count": null,
   "id": "981e080b",
   "metadata": {},
   "outputs": [],
   "source": []
  },
  {
   "cell_type": "code",
   "execution_count": null,
   "id": "6a88fa07",
   "metadata": {},
   "outputs": [],
   "source": []
  },
  {
   "cell_type": "code",
   "execution_count": null,
   "id": "e58d9958",
   "metadata": {},
   "outputs": [],
   "source": []
  },
  {
   "cell_type": "code",
   "execution_count": null,
   "id": "d0e16de6",
   "metadata": {},
   "outputs": [],
   "source": []
  },
  {
   "cell_type": "code",
   "execution_count": null,
   "id": "9539c2de",
   "metadata": {},
   "outputs": [],
   "source": []
  },
  {
   "cell_type": "code",
   "execution_count": null,
   "id": "485b7597",
   "metadata": {},
   "outputs": [],
   "source": []
  }
 ],
 "metadata": {
  "kernelspec": {
   "display_name": "Python 3 (ipykernel)",
   "language": "python",
   "name": "python3"
  },
  "language_info": {
   "codemirror_mode": {
    "name": "ipython",
    "version": 3
   },
   "file_extension": ".py",
   "mimetype": "text/x-python",
   "name": "python",
   "nbconvert_exporter": "python",
   "pygments_lexer": "ipython3",
   "version": "3.11.4"
  }
 },
 "nbformat": 4,
 "nbformat_minor": 5
}
