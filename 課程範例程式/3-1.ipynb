{
 "cells": [
  {
   "cell_type": "code",
   "execution_count": 9,
   "id": "270cbb21",
   "metadata": {},
   "outputs": [
    {
     "name": "stdout",
     "output_type": "stream",
     "text": [
      "underage\n",
      "True statments\n",
      "If finish\n"
     ]
    }
   ],
   "source": [
    "age = 10\n",
    "\n",
    "if age < 18:\n",
    "    print(\"underage\")\n",
    "    print(\"True statments\")\n",
    "\n",
    "print(\"If finish\")"
   ]
  },
  {
   "cell_type": "code",
   "execution_count": 10,
   "id": "b1ed3630",
   "metadata": {},
   "outputs": [
    {
     "name": "stdout",
     "output_type": "stream",
     "text": [
      "If finish\n"
     ]
    }
   ],
   "source": [
    "age = 20\n",
    "\n",
    "if age < 18:\n",
    "    print(\"underage\")\n",
    "    print(\"True statments\")\n",
    "\n",
    "print(\"If finish\")"
   ]
  },
  {
   "cell_type": "code",
   "execution_count": 13,
   "id": "e8a70e25",
   "metadata": {},
   "outputs": [
    {
     "name": "stdout",
     "output_type": "stream",
     "text": [
      "未成年\n",
      "True statments\n",
      "==If finish==\n"
     ]
    }
   ],
   "source": [
    "age = 10\n",
    "\n",
    "if age < 18:\n",
    "    print(\"未成年\")\n",
    "    print(\"True statments\")\n",
    "else:\n",
    "    print(\"成年\")\n",
    "print(\"==If finish==\")"
   ]
  },
  {
   "cell_type": "code",
   "execution_count": 64,
   "id": "9b521f5c",
   "metadata": {},
   "outputs": [
    {
     "name": "stdout",
     "output_type": "stream",
     "text": [
      "國中生\n",
      "未成年\n",
      "True statments\n",
      "==If finish==\n"
     ]
    }
   ],
   "source": [
    "age = 14\n",
    "\n",
    "if age < 18:\n",
    "    if age < 15:\n",
    "        print(\"國中生\")\n",
    "    print(\"未成年\")\n",
    "    print(\"True statments\")\n",
    "else:\n",
    "    print(\"成年\")\n",
    "print(\"==If finish==\")"
   ]
  },
  {
   "cell_type": "code",
   "execution_count": 19,
   "id": "df2b696e",
   "metadata": {},
   "outputs": [
    {
     "name": "stdout",
     "output_type": "stream",
     "text": [
      "小學生\n",
      "==If finish==\n"
     ]
    }
   ],
   "source": [
    "age = 10\n",
    "\n",
    "if age < 12:\n",
    "    print(\"小學生\")\n",
    "elif age < 15:\n",
    "    print(\"國中生\")\n",
    "elif age < 18:\n",
    "    print(\"高中生\")\n",
    "else:\n",
    "    print(\"成年\")\n",
    "print(\"==If finish==\")"
   ]
  },
  {
   "cell_type": "code",
   "execution_count": 35,
   "id": "f34e5660",
   "metadata": {},
   "outputs": [
    {
     "name": "stdout",
     "output_type": "stream",
     "text": [
      "不是小學生\n"
     ]
    }
   ],
   "source": [
    "age = 13\n",
    "gender = \"M\" \n",
    "\n",
    "if 6 <= age < 12 and gender == \"M\":\n",
    "    print(\"小學男生\")\n",
    "else:\n",
    "    print(\"不是小學生\")"
   ]
  },
  {
   "cell_type": "code",
   "execution_count": 33,
   "id": "e51ba581",
   "metadata": {},
   "outputs": [
    {
     "ename": "NameError",
     "evalue": "name 'gender1' is not defined",
     "output_type": "error",
     "traceback": [
      "\u001b[0;31m---------------------------------------------------------------------------\u001b[0m",
      "\u001b[0;31mNameError\u001b[0m                                 Traceback (most recent call last)",
      "Cell \u001b[0;32mIn[33], line 1\u001b[0m\n\u001b[0;32m----> 1\u001b[0m gender1\n",
      "\u001b[0;31mNameError\u001b[0m: name 'gender1' is not defined"
     ]
    }
   ],
   "source": [
    "gender1"
   ]
  },
  {
   "cell_type": "code",
   "execution_count": 27,
   "id": "5b2caa43",
   "metadata": {},
   "outputs": [
    {
     "data": {
      "text/plain": [
       "False"
      ]
     },
     "execution_count": 27,
     "metadata": {},
     "output_type": "execute_result"
    }
   ],
   "source": [
    "age = 5\n",
    "6 < age < 12"
   ]
  },
  {
   "cell_type": "code",
   "execution_count": 28,
   "id": "b2418d36",
   "metadata": {},
   "outputs": [
    {
     "data": {
      "text/plain": [
       "False"
      ]
     },
     "execution_count": 28,
     "metadata": {},
     "output_type": "execute_result"
    }
   ],
   "source": [
    "6 < age and age < 12"
   ]
  },
  {
   "cell_type": "code",
   "execution_count": 41,
   "id": "c5b7960f",
   "metadata": {},
   "outputs": [
    {
     "data": {
      "text/plain": [
       "False"
      ]
     },
     "execution_count": 41,
     "metadata": {},
     "output_type": "execute_result"
    }
   ],
   "source": [
    "\"app\" not in \"apple\""
   ]
  },
  {
   "cell_type": "code",
   "execution_count": 42,
   "id": "509c39c5",
   "metadata": {},
   "outputs": [
    {
     "name": "stderr",
     "output_type": "stream",
     "text": [
      "<>:2: SyntaxWarning: \"is\" with a literal. Did you mean \"==\"?\n",
      "<>:2: SyntaxWarning: \"is\" with a literal. Did you mean \"==\"?\n",
      "/var/folders/wz/nykyh5gs2ydchhm_zdd_mkth0000gn/T/ipykernel_73155/3957536014.py:2: SyntaxWarning: \"is\" with a literal. Did you mean \"==\"?\n",
      "  12 is age\n"
     ]
    },
    {
     "data": {
      "text/plain": [
       "True"
      ]
     },
     "execution_count": 42,
     "metadata": {},
     "output_type": "execute_result"
    }
   ],
   "source": [
    "age = 12\n",
    "12 is age"
   ]
  },
  {
   "cell_type": "code",
   "execution_count": 43,
   "id": "14d6421a",
   "metadata": {},
   "outputs": [
    {
     "data": {
      "text/plain": [
       "4349158656"
      ]
     },
     "execution_count": 43,
     "metadata": {},
     "output_type": "execute_result"
    }
   ],
   "source": [
    "id(age)"
   ]
  },
  {
   "cell_type": "code",
   "execution_count": 44,
   "id": "390ffe70",
   "metadata": {},
   "outputs": [
    {
     "data": {
      "text/plain": [
       "4349158656"
      ]
     },
     "execution_count": 44,
     "metadata": {},
     "output_type": "execute_result"
    }
   ],
   "source": [
    "id(12)"
   ]
  },
  {
   "cell_type": "code",
   "execution_count": null,
   "id": "e3374c97",
   "metadata": {},
   "outputs": [],
   "source": []
  },
  {
   "cell_type": "code",
   "execution_count": 48,
   "id": "2ae62a86",
   "metadata": {},
   "outputs": [],
   "source": [
    "str1 = \"apple\""
   ]
  },
  {
   "cell_type": "code",
   "execution_count": 53,
   "id": "20c0a1b4",
   "metadata": {},
   "outputs": [
    {
     "name": "stderr",
     "output_type": "stream",
     "text": [
      "<>:1: SyntaxWarning: \"is\" with a literal. Did you mean \"==\"?\n",
      "<>:1: SyntaxWarning: \"is\" with a literal. Did you mean \"==\"?\n",
      "/var/folders/wz/nykyh5gs2ydchhm_zdd_mkth0000gn/T/ipykernel_73155/991113273.py:1: SyntaxWarning: \"is\" with a literal. Did you mean \"==\"?\n",
      "  \"apple\" is None\n"
     ]
    },
    {
     "data": {
      "text/plain": [
       "False"
      ]
     },
     "execution_count": 53,
     "metadata": {},
     "output_type": "execute_result"
    }
   ],
   "source": [
    "\"apple\" is None"
   ]
  },
  {
   "cell_type": "code",
   "execution_count": 56,
   "id": "7dd52a46",
   "metadata": {},
   "outputs": [
    {
     "data": {
      "text/plain": [
       "True"
      ]
     },
     "execution_count": 56,
     "metadata": {},
     "output_type": "execute_result"
    }
   ],
   "source": [
    "age = 20\n",
    "isAdult = False if age < 18 else True\n",
    "isAdult"
   ]
  },
  {
   "cell_type": "code",
   "execution_count": 55,
   "id": "5eb97465",
   "metadata": {},
   "outputs": [
    {
     "data": {
      "text/plain": [
       "False"
      ]
     },
     "execution_count": 55,
     "metadata": {},
     "output_type": "execute_result"
    }
   ],
   "source": [
    "isAdult"
   ]
  },
  {
   "cell_type": "code",
   "execution_count": 61,
   "id": "e7d5e1d1",
   "metadata": {},
   "outputs": [
    {
     "name": "stdout",
     "output_type": "stream",
     "text": [
      "Please input a number:19\n",
      "奇數\n"
     ]
    }
   ],
   "source": [
    "number = int(input(\"Please input a number:\"))\n",
    "isEven = True if number % 2 == 0 else False\n",
    "\n",
    "result = \"偶數\" if isEven else \"奇數\"\n",
    "print(result)"
   ]
  },
  {
   "cell_type": "code",
   "execution_count": null,
   "id": "811188b2",
   "metadata": {},
   "outputs": [],
   "source": []
  },
  {
   "cell_type": "code",
   "execution_count": null,
   "id": "44c1bfe9",
   "metadata": {},
   "outputs": [],
   "source": []
  },
  {
   "cell_type": "code",
   "execution_count": null,
   "id": "2fec8fbf",
   "metadata": {},
   "outputs": [],
   "source": []
  },
  {
   "cell_type": "code",
   "execution_count": null,
   "id": "20378112",
   "metadata": {},
   "outputs": [],
   "source": []
  },
  {
   "cell_type": "code",
   "execution_count": null,
   "id": "0fd08cd0",
   "metadata": {},
   "outputs": [],
   "source": []
  },
  {
   "cell_type": "code",
   "execution_count": null,
   "id": "89b1b174",
   "metadata": {},
   "outputs": [],
   "source": []
  }
 ],
 "metadata": {
  "kernelspec": {
   "display_name": "Python 3 (ipykernel)",
   "language": "python",
   "name": "python3"
  },
  "language_info": {
   "codemirror_mode": {
    "name": "ipython",
    "version": 3
   },
   "file_extension": ".py",
   "mimetype": "text/x-python",
   "name": "python",
   "nbconvert_exporter": "python",
   "pygments_lexer": "ipython3",
   "version": "3.11.4"
  }
 },
 "nbformat": 4,
 "nbformat_minor": 5
}
