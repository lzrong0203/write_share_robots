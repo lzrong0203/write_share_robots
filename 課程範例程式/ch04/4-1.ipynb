{
 "cells": [
  {
   "cell_type": "code",
   "execution_count": 1,
   "id": "cf8e1cab",
   "metadata": {},
   "outputs": [],
   "source": [
    "def add2():\n",
    "    pass"
   ]
  },
  {
   "cell_type": "code",
   "execution_count": 1,
   "id": "04f43368",
   "metadata": {},
   "outputs": [
    {
     "data": {
      "text/plain": [
       "'3.9.13 (main, Aug 25 2022, 18:24:45) \\n[Clang 12.0.0 ]'"
      ]
     },
     "execution_count": 1,
     "metadata": {},
     "output_type": "execute_result"
    }
   ],
   "source": [
    "import sys\n",
    "\n",
    "sys.version"
   ]
  },
  {
   "cell_type": "code",
   "execution_count": 2,
   "id": "c02c6abc",
   "metadata": {},
   "outputs": [],
   "source": [
    "add2()"
   ]
  },
  {
   "cell_type": "code",
   "execution_count": null,
   "id": "600c2ae8",
   "metadata": {},
   "outputs": [],
   "source": []
  },
  {
   "cell_type": "code",
   "execution_count": 11,
   "id": "b3376099",
   "metadata": {},
   "outputs": [],
   "source": [
    "def addTwoNum():\n",
    "    num1 = 5\n",
    "    num2 = 4\n",
    "    print(\"num1:\", num1)\n",
    "    print(\"num2:\", num2)\n",
    "    print(num1 + num2)"
   ]
  },
  {
   "cell_type": "code",
   "execution_count": 18,
   "id": "d8299dfa",
   "metadata": {},
   "outputs": [
    {
     "name": "stdout",
     "output_type": "stream",
     "text": [
      "num1: 5\n",
      "num2: 4\n",
      "9\n"
     ]
    }
   ],
   "source": [
    "addTwoNum()"
   ]
  },
  {
   "cell_type": "code",
   "execution_count": 15,
   "id": "014e6cf8",
   "metadata": {},
   "outputs": [
    {
     "name": "stdout",
     "output_type": "stream",
     "text": [
      "None\n"
     ]
    }
   ],
   "source": [
    "print(a)"
   ]
  },
  {
   "cell_type": "code",
   "execution_count": 32,
   "id": "d2d86a3d",
   "metadata": {},
   "outputs": [],
   "source": [
    "def addTwoNum2(num1: int, num2: int):  # parameters(形式參數)\n",
    "    \"\"\"\n",
    "    Add two int number\n",
    "    \"\"\"\n",
    "    print(\"num1:\", num1)\n",
    "    print(\"num2:\", num2)\n",
    "    print(num1 + num2)"
   ]
  },
  {
   "cell_type": "code",
   "execution_count": 31,
   "id": "22a1f4dd",
   "metadata": {},
   "outputs": [
    {
     "name": "stdout",
     "output_type": "stream",
     "text": [
      "num1: 3\n",
      "num2: 5\n",
      "8\n"
     ]
    }
   ],
   "source": [
    "addTwoNum2(3, 5)  # arguments(實際參數)"
   ]
  },
  {
   "cell_type": "code",
   "execution_count": null,
   "id": "91ad9613",
   "metadata": {},
   "outputs": [],
   "source": []
  },
  {
   "cell_type": "code",
   "execution_count": 34,
   "id": "cf36169b",
   "metadata": {},
   "outputs": [],
   "source": [
    "def addTwoNum3(num1: int, num2: int) -> int: # num1 and num2 are parameters(形式參數)\n",
    "    \"\"\"\n",
    "    Add two int number\n",
    "    return the result as int\n",
    "    \"\"\"\n",
    "    print(\"num1:\", num1)\n",
    "    print(\"num2:\", num2)\n",
    "    return num1 + num2"
   ]
  },
  {
   "cell_type": "code",
   "execution_count": 39,
   "id": "e99e2046",
   "metadata": {},
   "outputs": [
    {
     "name": "stdout",
     "output_type": "stream",
     "text": [
      "num1: a\n",
      "num2: b\n"
     ]
    },
    {
     "data": {
      "text/plain": [
       "'ab'"
      ]
     },
     "execution_count": 39,
     "metadata": {},
     "output_type": "execute_result"
    }
   ],
   "source": [
    "addTwoNum3(\"a\", \"b\")"
   ]
  },
  {
   "cell_type": "code",
   "execution_count": 37,
   "id": "28f4215c",
   "metadata": {},
   "outputs": [
    {
     "data": {
      "text/plain": [
       "8"
      ]
     },
     "execution_count": 37,
     "metadata": {},
     "output_type": "execute_result"
    }
   ],
   "source": [
    "a"
   ]
  },
  {
   "cell_type": "code",
   "execution_count": null,
   "id": "12d7451c",
   "metadata": {},
   "outputs": [],
   "source": []
  },
  {
   "cell_type": "code",
   "execution_count": null,
   "id": "63f32128",
   "metadata": {},
   "outputs": [],
   "source": []
  },
  {
   "cell_type": "code",
   "execution_count": null,
   "id": "0c0d1040",
   "metadata": {},
   "outputs": [],
   "source": []
  }
 ],
 "metadata": {
  "kernelspec": {
   "display_name": "Python 3 (ipykernel)",
   "language": "python",
   "name": "python3"
  },
  "language_info": {
   "codemirror_mode": {
    "name": "ipython",
    "version": 3
   },
   "file_extension": ".py",
   "mimetype": "text/x-python",
   "name": "python",
   "nbconvert_exporter": "python",
   "pygments_lexer": "ipython3",
   "version": "3.11.4"
  }
 },
 "nbformat": 4,
 "nbformat_minor": 5
}
