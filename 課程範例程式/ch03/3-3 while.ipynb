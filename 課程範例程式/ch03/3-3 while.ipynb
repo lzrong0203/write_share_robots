{
 "cells": [
  {
   "cell_type": "code",
   "execution_count": 3,
   "id": "e4b8141e",
   "metadata": {},
   "outputs": [
    {
     "name": "stdout",
     "output_type": "stream",
     "text": [
      "5\n"
     ]
    }
   ],
   "source": [
    "n = 5\n",
    "if n > 0:\n",
    "    print(n)\n",
    "    "
   ]
  },
  {
   "cell_type": "code",
   "execution_count": 13,
   "id": "dc7f89f3",
   "metadata": {},
   "outputs": [
    {
     "name": "stdout",
     "output_type": "stream",
     "text": [
      "4\n",
      "2\n",
      "===FINISH===\n"
     ]
    }
   ],
   "source": [
    "n = 5\n",
    "while n > 0: # loop condition\n",
    "#     print(\"=======\")\n",
    "    if n % 2 == 0:\n",
    "        print(n)  \n",
    "    n = n - 1 # iteration（疊代） 變化\n",
    "#     print(\":\", n)\n",
    "#     print(\"=======\")\n",
    "print(\"===FINISH===\")"
   ]
  },
  {
   "cell_type": "code",
   "execution_count": 16,
   "id": "c25e17cb",
   "metadata": {},
   "outputs": [
    {
     "name": "stdout",
     "output_type": "stream",
     "text": [
      "99\n"
     ]
    }
   ],
   "source": [
    "aNumOfBall = 100\n",
    "aNumOfBall -= 1  # aNumOfBall = aNumOfBall - 1\n",
    "print(aNumOfBall)"
   ]
  },
  {
   "cell_type": "code",
   "execution_count": 24,
   "id": "98d4553e",
   "metadata": {},
   "outputs": [
    {
     "name": "stdout",
     "output_type": "stream",
     "text": [
      "2\n",
      "20.0\n",
      "200.0\n",
      "== 2000.0\n"
     ]
    }
   ],
   "source": [
    "a = 2\n",
    "while a < 1000:\n",
    "    print(a)\n",
    "    a /= 0.1\n",
    "print(\"==\", a)"
   ]
  },
  {
   "cell_type": "code",
   "execution_count": 21,
   "id": "1c2afb61",
   "metadata": {},
   "outputs": [
    {
     "data": {
      "text/plain": [
       "65536"
      ]
     },
     "execution_count": 21,
     "metadata": {},
     "output_type": "execute_result"
    }
   ],
   "source": [
    "256 ** 2"
   ]
  },
  {
   "cell_type": "code",
   "execution_count": 27,
   "id": "7041880a",
   "metadata": {},
   "outputs": [
    {
     "data": {
      "text/plain": [
       "1"
      ]
     },
     "execution_count": 27,
     "metadata": {},
     "output_type": "execute_result"
    }
   ],
   "source": [
    "i = 0\n",
    "i += 1\n",
    "i"
   ]
  },
  {
   "cell_type": "code",
   "execution_count": 29,
   "id": "e4e2525f",
   "metadata": {},
   "outputs": [
    {
     "name": "stdout",
     "output_type": "stream",
     "text": [
      "5\n",
      "4\n",
      "3\n",
      "2\n",
      "1\n",
      "else 0\n"
     ]
    }
   ],
   "source": [
    "n = 5\n",
    "while n > 0:\n",
    "    print(n)\n",
    "    n -= 1\n",
    "else:\n",
    "    print(\"else\", n)"
   ]
  },
  {
   "cell_type": "code",
   "execution_count": 31,
   "id": "0b23632a",
   "metadata": {},
   "outputs": [
    {
     "name": "stdout",
     "output_type": "stream",
     "text": [
      "0\n",
      "1\n",
      "2\n",
      "3\n",
      "4\n",
      "5\n"
     ]
    }
   ],
   "source": [
    "n = 0\n",
    "while n <= 5:\n",
    "    print(n)\n",
    "    n += 1\n",
    "# else:\n",
    "#     print(\"else\", n)"
   ]
  },
  {
   "cell_type": "code",
   "execution_count": null,
   "id": "162dbe98",
   "metadata": {},
   "outputs": [],
   "source": []
  },
  {
   "cell_type": "code",
   "execution_count": null,
   "id": "e8923b24",
   "metadata": {},
   "outputs": [],
   "source": []
  },
  {
   "cell_type": "code",
   "execution_count": null,
   "id": "27a17350",
   "metadata": {},
   "outputs": [],
   "source": []
  },
  {
   "cell_type": "code",
   "execution_count": null,
   "id": "7198e7be",
   "metadata": {},
   "outputs": [],
   "source": []
  }
 ],
 "metadata": {
  "kernelspec": {
   "display_name": "Python 3 (ipykernel)",
   "language": "python",
   "name": "python3"
  },
  "language_info": {
   "codemirror_mode": {
    "name": "ipython",
    "version": 3
   },
   "file_extension": ".py",
   "mimetype": "text/x-python",
   "name": "python",
   "nbconvert_exporter": "python",
   "pygments_lexer": "ipython3",
   "version": "3.11.4"
  }
 },
 "nbformat": 4,
 "nbformat_minor": 5
}
