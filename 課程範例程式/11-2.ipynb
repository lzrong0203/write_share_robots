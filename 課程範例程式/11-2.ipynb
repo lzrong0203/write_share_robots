{
 "cells": [
  {
   "cell_type": "markdown",
   "id": "b1392a75",
   "metadata": {},
   "source": [
    "### 何謂 CSV？\n",
    "\n",
    "CSV（Comma-Separated Values）是一種以逗號分隔不同欄位的簡單檔案格式。\n",
    "\n",
    "### Python 中的 CSV 操作\n",
    "\n",
    "#### 導入 CSV 模塊\n",
    "\n",
    "```python\n",
    "import csv\n",
    "```\n",
    "\n",
    "#### 讀取 CSV 檔案\n",
    "\n",
    "```python\n",
    "with open('stock_prices.csv', 'r') as csvfile:\n",
    "    reader = csv.reader(csvfile)\n",
    "    for row in reader:\n",
    "        print(row)\n",
    "```\n",
    "\n",
    "#### 寫入 CSV 檔案\n",
    "\n",
    "```python\n",
    "with open('stock_prices.csv', 'w', newline='') as csvfile:\n",
    "    writer = csv.writer(csvfile)\n",
    "    writer.writerow(['Symbol', 'Price', 'Volume'])\n",
    "    writer.writerow(['AAPL', 150.0, 20000])\n",
    "```"
   ]
  },
  {
   "cell_type": "code",
   "execution_count": null,
   "id": "8882b4bc",
   "metadata": {},
   "outputs": [],
   "source": []
  },
  {
   "cell_type": "code",
   "execution_count": 1,
   "id": "1b47e0dd",
   "metadata": {},
   "outputs": [],
   "source": [
    "import csv"
   ]
  },
  {
   "cell_type": "code",
   "execution_count": 29,
   "id": "09e0dbc8",
   "metadata": {},
   "outputs": [],
   "source": [
    "stock = []\n",
    "with open(\"/Users/lzrong/Downloads/MI_INDEX_24_20231025.csv\", encoding=\"big5\") as f:\n",
    "    data = csv.reader(f)\n",
    "    for i, row in enumerate(data):\n",
    "        if i == 0 or i == 1:\n",
    "            continue\n",
    "        stock.append(row)"
   ]
  },
  {
   "cell_type": "code",
   "execution_count": 32,
   "id": "30c9148e",
   "metadata": {},
   "outputs": [
    {
     "name": "stdout",
     "output_type": "stream",
     "text": [
      "證券名稱\n",
      "麗正\n",
      "聯電\n",
      "華泰\n",
      "台積電\n",
      "旺宏\n",
      "光罩\n",
      "台亞\n",
      "茂矽\n",
      "華邦電\n",
      "順德\n",
      "矽統\n",
      "菱生\n",
      "瑞昱\n",
      "威盛\n",
      "凌陽\n",
      "南亞科\n",
      "統懋\n",
      "偉詮電\n",
      "超豐\n",
      "京元電子\n",
      "創見\n",
      "聯發科\n",
      "義隆\n",
      "強茂\n",
      "晶豪科\n",
      "聯陽\n",
      "嘉晶\n",
      "聯詠\n",
      "智原\n",
      "揚智\n",
      "聯傑\n",
      "景碩\n",
      "虹冠電\n",
      "京鼎\n",
      "創意\n",
      "聯鈞\n",
      "晶相光\n",
      "台勝科\n",
      "敦泰\n",
      "辛耘\n",
      "通嘉\n",
      "瑞鼎\n",
      "世芯-KY\n",
      "達能\n",
      "日月光投控\n",
      "新唐\n",
      "凌通\n",
      "天鈺\n",
      "十銓\n",
      "立積\n",
      "全訊\n",
      "祥碩\n",
      "界霖\n",
      "松翰\n",
      "盛群\n",
      "力成\n",
      "迅杰\n",
      "矽格\n",
      "同欣電\n",
      "矽力*-KY\n",
      "訊芯-KY\n",
      "穎崴\n",
      "捷敏-KY\n",
      "達發\n",
      "愛普*\n",
      "晶心科\n",
      "易華電\n",
      "虹揚-KY\n",
      "芯鼎\n",
      "力智\n",
      "威鋒電子\n",
      "力積電\n",
      "采鈺\n",
      "來頡\n",
      "錼創科技-KY創\n",
      "矽創\n",
      "昇陽半導體\n",
      "致新\n",
      "華東\n",
      "福懋科\n",
      "南茂\n",
      "富鼎\n",
      "宇瞻\n"
     ]
    },
    {
     "ename": "IndexError",
     "evalue": "list index out of range",
     "output_type": "error",
     "traceback": [
      "\u001b[0;31m---------------------------------------------------------------------------\u001b[0m",
      "\u001b[0;31mIndexError\u001b[0m                                Traceback (most recent call last)",
      "Cell \u001b[0;32mIn[32], line 2\u001b[0m\n\u001b[1;32m      1\u001b[0m \u001b[38;5;28;01mfor\u001b[39;00m i \u001b[38;5;129;01min\u001b[39;00m \u001b[38;5;28mrange\u001b[39m(\u001b[38;5;28mlen\u001b[39m(stock)):\n\u001b[0;32m----> 2\u001b[0m     \u001b[38;5;28mprint\u001b[39m(stock[i][\u001b[38;5;241m1\u001b[39m])\n",
      "\u001b[0;31mIndexError\u001b[0m: list index out of range"
     ]
    }
   ],
   "source": [
    "for i in range(len(stock)):\n",
    "    print(stock[i][1])"
   ]
  },
  {
   "cell_type": "code",
   "execution_count": null,
   "id": "2586a782",
   "metadata": {},
   "outputs": [],
   "source": []
  },
  {
   "cell_type": "code",
   "execution_count": 28,
   "id": "064da87d",
   "metadata": {},
   "outputs": [
    {
     "name": "stdout",
     "output_type": "stream",
     "text": [
      "麗正 18.75\n",
      "聯電 49.05\n",
      "華泰 42.50\n",
      "台積電 544.00\n",
      "旺宏 29.65\n",
      "光罩 71.10\n",
      "台亞 49.50\n",
      "茂矽 34.80\n",
      "華邦電 25.80\n",
      "順德 115.00\n",
      "矽統 53.00\n",
      "菱生 23.25\n",
      "瑞昱 401.50\n",
      "威盛 124.00\n",
      "凌陽 32.50\n",
      "南亞科 68.00\n",
      "統懋 33.15\n",
      "偉詮電 70.60\n",
      "超豐 58.40\n",
      "京元電子 82.00\n",
      "創見 74.80\n",
      "聯發科 822.00\n",
      "義隆 144.50\n",
      "強茂 62.90\n",
      "晶豪科 91.00\n",
      "聯陽 169.00\n",
      "嘉晶 58.30\n",
      "聯詠 435.50\n",
      "智原 325.00\n",
      "揚智 27.35\n",
      "聯傑 37.40\n",
      "景碩 97.70\n",
      "虹冠電 71.10\n",
      "京鼎 188.00\n",
      "創意 1,490.00\n",
      "聯鈞 61.10\n",
      "晶相光 92.10\n",
      "台勝科 154.00\n",
      "敦泰 81.10\n",
      "辛耘 198.00\n",
      "通嘉 71.40\n",
      "瑞鼎 363.50\n",
      "世芯-KY 2,620.00\n",
      "達能 13.20\n",
      "日月光投控 114.00\n",
      "新唐 129.00\n",
      "凌通 51.70\n",
      "天鈺 258.50\n",
      "十銓 74.60\n",
      "立積 127.00\n",
      "全訊 166.50\n",
      "祥碩 1,325.00\n",
      "界霖 74.00\n",
      "松翰 49.15\n",
      "盛群 65.20\n",
      "力成 106.00\n",
      "迅杰 53.50\n",
      "矽格 62.00\n",
      "同欣電 147.50\n",
      "矽力*-KY 293.00\n",
      "訊芯-KY 145.00\n",
      "穎崴 673.00\n",
      "捷敏-KY 65.60\n",
      "達發 422.00\n",
      "愛普* 382.50\n",
      "晶心科 412.00\n",
      "易華電 38.05\n",
      "虹揚-KY 15.10\n",
      "芯鼎 47.80\n",
      "力智 251.00\n",
      "威鋒電子 211.50\n",
      "力積電 27.50\n",
      "采鈺 225.50\n",
      "來頡 128.00\n",
      "錼創科技-KY創 88.00\n",
      "矽創 275.50\n",
      "昇陽半導體 51.20\n",
      "致新 256.00\n",
      "華東 16.75\n",
      "福懋科 39.30\n",
      "南茂 42.00\n",
      "富鼎 86.90\n",
      "宇瞻 57.60\n",
      "None None\n",
      " None\n",
      " None\n",
      " None\n",
      " None\n"
     ]
    }
   ],
   "source": [
    "with open(\"/Users/lzrong/Downloads/MI_INDEX_24_20231025.csv\", encoding=\"big5\") as f:\n",
    "    next(f)\n",
    "    next(f)\n",
    "    data = csv.DictReader(f)\n",
    "    for i in data:\n",
    "        print(i[\"證券名稱\"], i[\"收盤價\"])"
   ]
  },
  {
   "cell_type": "code",
   "execution_count": 22,
   "id": "70d4b5bd",
   "metadata": {},
   "outputs": [
    {
     "ename": "ValueError",
     "evalue": "I/O operation on closed file.",
     "output_type": "error",
     "traceback": [
      "\u001b[0;31m---------------------------------------------------------------------------\u001b[0m",
      "\u001b[0;31mValueError\u001b[0m                                Traceback (most recent call last)",
      "Cell \u001b[0;32mIn[22], line 1\u001b[0m\n\u001b[0;32m----> 1\u001b[0m \u001b[38;5;28;01mfor\u001b[39;00m i \u001b[38;5;129;01min\u001b[39;00m data:\n\u001b[1;32m      2\u001b[0m     \u001b[38;5;28mprint\u001b[39m(data)\n",
      "File \u001b[0;32m~/anaconda3/envs/hahow_fin/lib/python3.11/csv.py:110\u001b[0m, in \u001b[0;36mDictReader.__next__\u001b[0;34m(self)\u001b[0m\n\u001b[1;32m    107\u001b[0m \u001b[38;5;28;01mdef\u001b[39;00m \u001b[38;5;21m__next__\u001b[39m(\u001b[38;5;28mself\u001b[39m):\n\u001b[1;32m    108\u001b[0m     \u001b[38;5;28;01mif\u001b[39;00m \u001b[38;5;28mself\u001b[39m\u001b[38;5;241m.\u001b[39mline_num \u001b[38;5;241m==\u001b[39m \u001b[38;5;241m0\u001b[39m:\n\u001b[1;32m    109\u001b[0m         \u001b[38;5;66;03m# Used only for its side effect.\u001b[39;00m\n\u001b[0;32m--> 110\u001b[0m         \u001b[38;5;28mself\u001b[39m\u001b[38;5;241m.\u001b[39mfieldnames\n\u001b[1;32m    111\u001b[0m     row \u001b[38;5;241m=\u001b[39m \u001b[38;5;28mnext\u001b[39m(\u001b[38;5;28mself\u001b[39m\u001b[38;5;241m.\u001b[39mreader)\n\u001b[1;32m    112\u001b[0m     \u001b[38;5;28mself\u001b[39m\u001b[38;5;241m.\u001b[39mline_num \u001b[38;5;241m=\u001b[39m \u001b[38;5;28mself\u001b[39m\u001b[38;5;241m.\u001b[39mreader\u001b[38;5;241m.\u001b[39mline_num\n",
      "File \u001b[0;32m~/anaconda3/envs/hahow_fin/lib/python3.11/csv.py:97\u001b[0m, in \u001b[0;36mDictReader.fieldnames\u001b[0;34m(self)\u001b[0m\n\u001b[1;32m     95\u001b[0m \u001b[38;5;28;01mif\u001b[39;00m \u001b[38;5;28mself\u001b[39m\u001b[38;5;241m.\u001b[39m_fieldnames \u001b[38;5;129;01mis\u001b[39;00m \u001b[38;5;28;01mNone\u001b[39;00m:\n\u001b[1;32m     96\u001b[0m     \u001b[38;5;28;01mtry\u001b[39;00m:\n\u001b[0;32m---> 97\u001b[0m         \u001b[38;5;28mself\u001b[39m\u001b[38;5;241m.\u001b[39m_fieldnames \u001b[38;5;241m=\u001b[39m \u001b[38;5;28mnext\u001b[39m(\u001b[38;5;28mself\u001b[39m\u001b[38;5;241m.\u001b[39mreader)\n\u001b[1;32m     98\u001b[0m     \u001b[38;5;28;01mexcept\u001b[39;00m \u001b[38;5;167;01mStopIteration\u001b[39;00m:\n\u001b[1;32m     99\u001b[0m         \u001b[38;5;28;01mpass\u001b[39;00m\n",
      "\u001b[0;31mValueError\u001b[0m: I/O operation on closed file."
     ]
    }
   ],
   "source": []
  },
  {
   "cell_type": "code",
   "execution_count": null,
   "id": "f892135c",
   "metadata": {},
   "outputs": [],
   "source": []
  },
  {
   "cell_type": "code",
   "execution_count": null,
   "id": "8f3818d0",
   "metadata": {},
   "outputs": [],
   "source": []
  },
  {
   "cell_type": "code",
   "execution_count": null,
   "id": "91ad68b6",
   "metadata": {},
   "outputs": [],
   "source": []
  },
  {
   "cell_type": "code",
   "execution_count": null,
   "id": "aa0e83c7",
   "metadata": {},
   "outputs": [],
   "source": []
  },
  {
   "cell_type": "code",
   "execution_count": null,
   "id": "cad37960",
   "metadata": {},
   "outputs": [],
   "source": []
  },
  {
   "cell_type": "code",
   "execution_count": null,
   "id": "30b39566",
   "metadata": {},
   "outputs": [],
   "source": []
  },
  {
   "cell_type": "code",
   "execution_count": null,
   "id": "3702a2fa",
   "metadata": {},
   "outputs": [],
   "source": []
  },
  {
   "cell_type": "code",
   "execution_count": null,
   "id": "076ba622",
   "metadata": {},
   "outputs": [],
   "source": []
  },
  {
   "cell_type": "code",
   "execution_count": 13,
   "id": "a381e3bc",
   "metadata": {},
   "outputs": [
    {
     "data": {
      "text/plain": [
       "['2302',\n",
       " '麗正',\n",
       " '494,690',\n",
       " '302',\n",
       " '9,273,958',\n",
       " '18.85',\n",
       " '19.00',\n",
       " '18.55',\n",
       " '18.75',\n",
       " '+',\n",
       " '0.05',\n",
       " '18.70',\n",
       " '3',\n",
       " '18.75',\n",
       " '3',\n",
       " '23.15',\n",
       " '']"
      ]
     },
     "execution_count": 13,
     "metadata": {},
     "output_type": "execute_result"
    }
   ],
   "source": [
    "stock[1]"
   ]
  },
  {
   "cell_type": "code",
   "execution_count": null,
   "id": "b145edf7",
   "metadata": {},
   "outputs": [],
   "source": []
  },
  {
   "cell_type": "code",
   "execution_count": null,
   "id": "b8a03bf7",
   "metadata": {},
   "outputs": [],
   "source": []
  },
  {
   "cell_type": "code",
   "execution_count": null,
   "id": "5fff5bce",
   "metadata": {},
   "outputs": [],
   "source": []
  },
  {
   "cell_type": "code",
   "execution_count": null,
   "id": "30fae413",
   "metadata": {},
   "outputs": [],
   "source": []
  },
  {
   "cell_type": "code",
   "execution_count": null,
   "id": "0f5a7bb3",
   "metadata": {},
   "outputs": [],
   "source": []
  },
  {
   "cell_type": "code",
   "execution_count": null,
   "id": "601b61a7",
   "metadata": {},
   "outputs": [],
   "source": []
  },
  {
   "cell_type": "code",
   "execution_count": null,
   "id": "4af41ca2",
   "metadata": {},
   "outputs": [],
   "source": []
  },
  {
   "cell_type": "code",
   "execution_count": null,
   "id": "2b808500",
   "metadata": {},
   "outputs": [],
   "source": []
  }
 ],
 "metadata": {
  "kernelspec": {
   "display_name": "Python 3 (ipykernel)",
   "language": "python",
   "name": "python3"
  },
  "language_info": {
   "codemirror_mode": {
    "name": "ipython",
    "version": 3
   },
   "file_extension": ".py",
   "mimetype": "text/x-python",
   "name": "python",
   "nbconvert_exporter": "python",
   "pygments_lexer": "ipython3",
   "version": "3.11.4"
  }
 },
 "nbformat": 4,
 "nbformat_minor": 5
}
